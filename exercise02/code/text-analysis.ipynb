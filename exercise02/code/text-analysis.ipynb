{
 "cells": [
  {
   "cell_type": "code",
   "execution_count": 198,
   "metadata": {
    "collapsed": false,
    "scrolled": true
   },
   "outputs": [],
   "source": [
    "%matplotlib inline\n",
    "import pandas as pd\n",
    "import numpy as np\n",
    "import json\n",
    "import xml.etree.ElementTree as et\n",
    "import nltk\n",
    "from nltk import sent_tokenize, word_tokenize, pos_tag\n",
    "from nltk.corpus import stopwords\n",
    "from nltk.collocations import *\n",
    "from itertools import combinations\n",
    "import seaborn as sns\n",
    "import os\n",
    "import sys"
   ]
  },
  {
   "cell_type": "code",
   "execution_count": 139,
   "metadata": {
    "collapsed": false
   },
   "outputs": [],
   "source": [
    "reload(sys)  \n",
    "sys.setdefaultencoding('utf8')"
   ]
  },
  {
   "cell_type": "code",
   "execution_count": 4,
   "metadata": {
    "collapsed": false
   },
   "outputs": [
    {
     "data": {
      "text/html": [
       "<div>\n",
       "<table border=\"1\" class=\"dataframe\">\n",
       "  <thead>\n",
       "    <tr style=\"text-align: right;\">\n",
       "      <th></th>\n",
       "      <th>AccidentNumber</th>\n",
       "      <th>AirCarrier</th>\n",
       "      <th>AircraftCategory</th>\n",
       "      <th>AircraftDamage</th>\n",
       "      <th>AirportCode</th>\n",
       "      <th>AirportName</th>\n",
       "      <th>AmateurBuilt</th>\n",
       "      <th>BroadPhaseOfFlight</th>\n",
       "      <th>Country</th>\n",
       "      <th>EngineType</th>\n",
       "      <th>...</th>\n",
       "      <th>PublicationDate</th>\n",
       "      <th>PurposeOfFlight</th>\n",
       "      <th>RegistrationNumber</th>\n",
       "      <th>ReportStatus</th>\n",
       "      <th>Schedule</th>\n",
       "      <th>TotalFatalInjuries</th>\n",
       "      <th>TotalMinorInjuries</th>\n",
       "      <th>TotalSeriousInjuries</th>\n",
       "      <th>TotalUninjured</th>\n",
       "      <th>WeatherCondition</th>\n",
       "    </tr>\n",
       "  </thead>\n",
       "  <tbody>\n",
       "    <tr>\n",
       "      <th>0</th>\n",
       "      <td>GAA15CA244</td>\n",
       "      <td></td>\n",
       "      <td></td>\n",
       "      <td></td>\n",
       "      <td></td>\n",
       "      <td></td>\n",
       "      <td></td>\n",
       "      <td></td>\n",
       "      <td>United States</td>\n",
       "      <td></td>\n",
       "      <td>...</td>\n",
       "      <td></td>\n",
       "      <td></td>\n",
       "      <td>N786AB</td>\n",
       "      <td>Preliminary</td>\n",
       "      <td></td>\n",
       "      <td></td>\n",
       "      <td></td>\n",
       "      <td></td>\n",
       "      <td></td>\n",
       "      <td></td>\n",
       "    </tr>\n",
       "    <tr>\n",
       "      <th>1</th>\n",
       "      <td>CEN15LA392</td>\n",
       "      <td></td>\n",
       "      <td>Airplane</td>\n",
       "      <td>Substantial</td>\n",
       "      <td>IWS</td>\n",
       "      <td>WEST HOUSTON</td>\n",
       "      <td>No</td>\n",
       "      <td>LANDING</td>\n",
       "      <td>United States</td>\n",
       "      <td></td>\n",
       "      <td>...</td>\n",
       "      <td>09/04/2015</td>\n",
       "      <td>Instructional</td>\n",
       "      <td>N452CS</td>\n",
       "      <td>Preliminary</td>\n",
       "      <td></td>\n",
       "      <td></td>\n",
       "      <td></td>\n",
       "      <td></td>\n",
       "      <td>2</td>\n",
       "      <td>VMC</td>\n",
       "    </tr>\n",
       "    <tr>\n",
       "      <th>2</th>\n",
       "      <td>GAA15CA246</td>\n",
       "      <td></td>\n",
       "      <td></td>\n",
       "      <td></td>\n",
       "      <td></td>\n",
       "      <td></td>\n",
       "      <td></td>\n",
       "      <td></td>\n",
       "      <td>United States</td>\n",
       "      <td></td>\n",
       "      <td>...</td>\n",
       "      <td></td>\n",
       "      <td></td>\n",
       "      <td>N112RP</td>\n",
       "      <td>Preliminary</td>\n",
       "      <td></td>\n",
       "      <td></td>\n",
       "      <td></td>\n",
       "      <td></td>\n",
       "      <td></td>\n",
       "      <td></td>\n",
       "    </tr>\n",
       "    <tr>\n",
       "      <th>3</th>\n",
       "      <td>GAA15CA243</td>\n",
       "      <td></td>\n",
       "      <td></td>\n",
       "      <td></td>\n",
       "      <td></td>\n",
       "      <td></td>\n",
       "      <td></td>\n",
       "      <td></td>\n",
       "      <td>United States</td>\n",
       "      <td></td>\n",
       "      <td>...</td>\n",
       "      <td></td>\n",
       "      <td></td>\n",
       "      <td>N8404X</td>\n",
       "      <td>Preliminary</td>\n",
       "      <td></td>\n",
       "      <td></td>\n",
       "      <td></td>\n",
       "      <td></td>\n",
       "      <td></td>\n",
       "      <td></td>\n",
       "    </tr>\n",
       "    <tr>\n",
       "      <th>4</th>\n",
       "      <td>GAA15CA242</td>\n",
       "      <td></td>\n",
       "      <td></td>\n",
       "      <td></td>\n",
       "      <td></td>\n",
       "      <td></td>\n",
       "      <td></td>\n",
       "      <td></td>\n",
       "      <td>United States</td>\n",
       "      <td></td>\n",
       "      <td>...</td>\n",
       "      <td></td>\n",
       "      <td></td>\n",
       "      <td>N5255G</td>\n",
       "      <td>Preliminary</td>\n",
       "      <td></td>\n",
       "      <td></td>\n",
       "      <td></td>\n",
       "      <td></td>\n",
       "      <td></td>\n",
       "      <td></td>\n",
       "    </tr>\n",
       "  </tbody>\n",
       "</table>\n",
       "<p>5 rows × 31 columns</p>\n",
       "</div>"
      ],
      "text/plain": [
       "  AccidentNumber AirCarrier AircraftCategory AircraftDamage AirportCode  \\\n",
       "0     GAA15CA244                                                          \n",
       "1     CEN15LA392                    Airplane    Substantial         IWS   \n",
       "2     GAA15CA246                                                          \n",
       "3     GAA15CA243                                                          \n",
       "4     GAA15CA242                                                          \n",
       "\n",
       "    AirportName AmateurBuilt BroadPhaseOfFlight        Country EngineType  \\\n",
       "0                                                United States              \n",
       "1  WEST HOUSTON           No            LANDING  United States              \n",
       "2                                                United States              \n",
       "3                                                United States              \n",
       "4                                                United States              \n",
       "\n",
       "        ...        PublicationDate PurposeOfFlight RegistrationNumber  \\\n",
       "0       ...                                                    N786AB   \n",
       "1       ...             09/04/2015   Instructional             N452CS   \n",
       "2       ...                                                    N112RP   \n",
       "3       ...                                                    N8404X   \n",
       "4       ...                                                    N5255G   \n",
       "\n",
       "  ReportStatus Schedule TotalFatalInjuries TotalMinorInjuries  \\\n",
       "0  Preliminary                                                  \n",
       "1  Preliminary                                                  \n",
       "2  Preliminary                                                  \n",
       "3  Preliminary                                                  \n",
       "4  Preliminary                                                  \n",
       "\n",
       "  TotalSeriousInjuries TotalUninjured WeatherCondition  \n",
       "0                                                       \n",
       "1                                   2              VMC  \n",
       "2                                                       \n",
       "3                                                       \n",
       "4                                                       \n",
       "\n",
       "[5 rows x 31 columns]"
      ]
     },
     "execution_count": 4,
     "metadata": {},
     "output_type": "execute_result"
    }
   ],
   "source": [
    "#load xml to dataframe\n",
    "tree = et.parse(\"../data/AviationData.xml\")\n",
    "root = tree.getroot()\n",
    "events_list = [i.attrib for i in root[0]]\n",
    "df_events = pd.DataFrame(events_list)\n",
    "df_events.head()"
   ]
  },
  {
   "cell_type": "code",
   "execution_count": 5,
   "metadata": {
    "collapsed": false
   },
   "outputs": [],
   "source": [
    "nar_list = []\n",
    "filelist = [name for name in os.listdir(\"../data/\") if name.endswith(\".json\")]\n",
    "for f in filelist:\n",
    "    with open(os.path.join(\"../data/\", f)) as json_file:\n",
    "        j = json.load(json_file)['data']\n",
    "        nar_list += j\n",
    "df_nar = pd.DataFrame(nar_list)"
   ]
  },
  {
   "cell_type": "code",
   "execution_count": 6,
   "metadata": {
    "collapsed": false
   },
   "outputs": [],
   "source": [
    "df_combined = pd.merge(df_events, df_nar,how='left',on='EventId')"
   ]
  },
  {
   "cell_type": "code",
   "execution_count": 7,
   "metadata": {
    "collapsed": false
   },
   "outputs": [
    {
     "data": {
      "text/plain": [
       "(77257, 33)"
      ]
     },
     "execution_count": 7,
     "metadata": {},
     "output_type": "execute_result"
    }
   ],
   "source": [
    "df_combined.shape"
   ]
  },
  {
   "cell_type": "code",
   "execution_count": 8,
   "metadata": {
    "collapsed": false
   },
   "outputs": [],
   "source": [
    "#filter only records with probable cause\n",
    "df_pc = df_combined[(df_combined['probable_cause']!='')]"
   ]
  },
  {
   "cell_type": "code",
   "execution_count": 9,
   "metadata": {
    "collapsed": false
   },
   "outputs": [
    {
     "data": {
      "text/plain": [
       "(50503, 33)"
      ]
     },
     "execution_count": 9,
     "metadata": {},
     "output_type": "execute_result"
    }
   ],
   "source": [
    "df_pc.shape"
   ]
  },
  {
   "cell_type": "code",
   "execution_count": 10,
   "metadata": {
    "collapsed": false,
    "scrolled": true
   },
   "outputs": [
    {
     "data": {
      "text/html": [
       "<div>\n",
       "<table border=\"1\" class=\"dataframe\">\n",
       "  <thead>\n",
       "    <tr style=\"text-align: right;\">\n",
       "      <th></th>\n",
       "      <th>AccidentNumber</th>\n",
       "      <th>AirCarrier</th>\n",
       "      <th>AircraftCategory</th>\n",
       "      <th>AircraftDamage</th>\n",
       "      <th>AirportCode</th>\n",
       "      <th>AirportName</th>\n",
       "      <th>AmateurBuilt</th>\n",
       "      <th>BroadPhaseOfFlight</th>\n",
       "      <th>Country</th>\n",
       "      <th>EngineType</th>\n",
       "      <th>...</th>\n",
       "      <th>RegistrationNumber</th>\n",
       "      <th>ReportStatus</th>\n",
       "      <th>Schedule</th>\n",
       "      <th>TotalFatalInjuries</th>\n",
       "      <th>TotalMinorInjuries</th>\n",
       "      <th>TotalSeriousInjuries</th>\n",
       "      <th>TotalUninjured</th>\n",
       "      <th>WeatherCondition</th>\n",
       "      <th>narrative</th>\n",
       "      <th>probable_cause</th>\n",
       "    </tr>\n",
       "  </thead>\n",
       "  <tbody>\n",
       "    <tr>\n",
       "      <th>175</th>\n",
       "      <td>GAA15CA208</td>\n",
       "      <td></td>\n",
       "      <td>Airplane</td>\n",
       "      <td>Substantial</td>\n",
       "      <td>OVO</td>\n",
       "      <td>NORTH VERNON</td>\n",
       "      <td>No</td>\n",
       "      <td>LANDING</td>\n",
       "      <td>United States</td>\n",
       "      <td>Reciprocating</td>\n",
       "      <td>...</td>\n",
       "      <td>N133VU</td>\n",
       "      <td>Probable Cause</td>\n",
       "      <td></td>\n",
       "      <td></td>\n",
       "      <td></td>\n",
       "      <td></td>\n",
       "      <td>1</td>\n",
       "      <td>VMC</td>\n",
       "      <td>NTSB investigators used data provided by vario...</td>\n",
       "      <td>The pilot's failure to maintain pitch control ...</td>\n",
       "    </tr>\n",
       "    <tr>\n",
       "      <th>183</th>\n",
       "      <td>GAA15CA197</td>\n",
       "      <td></td>\n",
       "      <td>Helicopter</td>\n",
       "      <td>Substantial</td>\n",
       "      <td></td>\n",
       "      <td>N/A</td>\n",
       "      <td>No</td>\n",
       "      <td>LANDING</td>\n",
       "      <td>United States</td>\n",
       "      <td>Reciprocating</td>\n",
       "      <td>...</td>\n",
       "      <td>N58397</td>\n",
       "      <td>Probable Cause</td>\n",
       "      <td></td>\n",
       "      <td></td>\n",
       "      <td></td>\n",
       "      <td></td>\n",
       "      <td>2</td>\n",
       "      <td>VMC</td>\n",
       "      <td>NTSB investigators used data provided by vario...</td>\n",
       "      <td>The non-helicopter rated pilot's improper land...</td>\n",
       "    </tr>\n",
       "    <tr>\n",
       "      <th>203</th>\n",
       "      <td>GAA15CA189</td>\n",
       "      <td></td>\n",
       "      <td>Airplane</td>\n",
       "      <td>Substantial</td>\n",
       "      <td>U660</td>\n",
       "      <td>Hidden Splendor</td>\n",
       "      <td>No</td>\n",
       "      <td>TAKEOFF</td>\n",
       "      <td>United States</td>\n",
       "      <td>Reciprocating</td>\n",
       "      <td>...</td>\n",
       "      <td>N735JB</td>\n",
       "      <td>Probable Cause</td>\n",
       "      <td></td>\n",
       "      <td></td>\n",
       "      <td></td>\n",
       "      <td></td>\n",
       "      <td>2</td>\n",
       "      <td>VMC</td>\n",
       "      <td>NTSB investigators used data provided by vario...</td>\n",
       "      <td>The pilot's failure to maintain directional co...</td>\n",
       "    </tr>\n",
       "    <tr>\n",
       "      <th>205</th>\n",
       "      <td>ERA15CA272</td>\n",
       "      <td></td>\n",
       "      <td>Airplane</td>\n",
       "      <td>Substantial</td>\n",
       "      <td>DVK</td>\n",
       "      <td>Stuart Powell Field</td>\n",
       "      <td>Yes</td>\n",
       "      <td>GO-AROUND</td>\n",
       "      <td>United States</td>\n",
       "      <td>Reciprocating</td>\n",
       "      <td>...</td>\n",
       "      <td>N31CS</td>\n",
       "      <td>Probable Cause</td>\n",
       "      <td></td>\n",
       "      <td></td>\n",
       "      <td>1</td>\n",
       "      <td></td>\n",
       "      <td></td>\n",
       "      <td>VMC</td>\n",
       "      <td>NTSB investigators used data provided by vario...</td>\n",
       "      <td>The pilot's inaccurate fuel planning, which re...</td>\n",
       "    </tr>\n",
       "    <tr>\n",
       "      <th>217</th>\n",
       "      <td>WPR15CA214</td>\n",
       "      <td></td>\n",
       "      <td>Airplane</td>\n",
       "      <td>Substantial</td>\n",
       "      <td>K69S</td>\n",
       "      <td>Avey Field</td>\n",
       "      <td>No</td>\n",
       "      <td>LANDING</td>\n",
       "      <td>United States</td>\n",
       "      <td>Reciprocating</td>\n",
       "      <td>...</td>\n",
       "      <td>C-GDYN</td>\n",
       "      <td>Probable Cause</td>\n",
       "      <td></td>\n",
       "      <td></td>\n",
       "      <td>1</td>\n",
       "      <td></td>\n",
       "      <td></td>\n",
       "      <td>VMC</td>\n",
       "      <td>NTSB investigators used data provided by vario...</td>\n",
       "      <td>The pilot's inadequate decision to continue th...</td>\n",
       "    </tr>\n",
       "  </tbody>\n",
       "</table>\n",
       "<p>5 rows × 33 columns</p>\n",
       "</div>"
      ],
      "text/plain": [
       "    AccidentNumber AirCarrier AircraftCategory AircraftDamage AirportCode  \\\n",
       "175     GAA15CA208                    Airplane    Substantial         OVO   \n",
       "183     GAA15CA197                  Helicopter    Substantial               \n",
       "203     GAA15CA189                    Airplane    Substantial        U660   \n",
       "205     ERA15CA272                    Airplane    Substantial         DVK   \n",
       "217     WPR15CA214                    Airplane    Substantial        K69S   \n",
       "\n",
       "             AirportName AmateurBuilt BroadPhaseOfFlight        Country  \\\n",
       "175         NORTH VERNON           No            LANDING  United States   \n",
       "183                  N/A           No            LANDING  United States   \n",
       "203      Hidden Splendor           No            TAKEOFF  United States   \n",
       "205  Stuart Powell Field          Yes          GO-AROUND  United States   \n",
       "217           Avey Field           No            LANDING  United States   \n",
       "\n",
       "        EngineType                        ...                          \\\n",
       "175  Reciprocating                        ...                           \n",
       "183  Reciprocating                        ...                           \n",
       "203  Reciprocating                        ...                           \n",
       "205  Reciprocating                        ...                           \n",
       "217  Reciprocating                        ...                           \n",
       "\n",
       "    RegistrationNumber    ReportStatus Schedule TotalFatalInjuries  \\\n",
       "175             N133VU  Probable Cause                               \n",
       "183             N58397  Probable Cause                               \n",
       "203             N735JB  Probable Cause                               \n",
       "205              N31CS  Probable Cause                               \n",
       "217             C-GDYN  Probable Cause                               \n",
       "\n",
       "    TotalMinorInjuries TotalSeriousInjuries TotalUninjured WeatherCondition  \\\n",
       "175                                                      1              VMC   \n",
       "183                                                      2              VMC   \n",
       "203                                                      2              VMC   \n",
       "205                  1                                                  VMC   \n",
       "217                  1                                                  VMC   \n",
       "\n",
       "                                             narrative  \\\n",
       "175  NTSB investigators used data provided by vario...   \n",
       "183  NTSB investigators used data provided by vario...   \n",
       "203  NTSB investigators used data provided by vario...   \n",
       "205  NTSB investigators used data provided by vario...   \n",
       "217  NTSB investigators used data provided by vario...   \n",
       "\n",
       "                                        probable_cause  \n",
       "175  The pilot's failure to maintain pitch control ...  \n",
       "183  The non-helicopter rated pilot's improper land...  \n",
       "203  The pilot's failure to maintain directional co...  \n",
       "205  The pilot's inaccurate fuel planning, which re...  \n",
       "217  The pilot's inadequate decision to continue th...  \n",
       "\n",
       "[5 rows x 33 columns]"
      ]
     },
     "execution_count": 10,
     "metadata": {},
     "output_type": "execute_result"
    }
   ],
   "source": [
    "df_pc.head()"
   ]
  },
  {
   "cell_type": "markdown",
   "metadata": {},
   "source": [
    "## Overall Text Analysis"
   ]
  },
  {
   "cell_type": "code",
   "execution_count": 11,
   "metadata": {
    "collapsed": false
   },
   "outputs": [],
   "source": [
    "pc_list = df_pc['probable_cause'].tolist()\n",
    "pc_list = [i for i in pc_list]\n",
    "pc_string = str(''.join(pc_list))\n",
    "pc_string = unicode(pc_string, errors='replace')"
   ]
  },
  {
   "cell_type": "code",
   "execution_count": 12,
   "metadata": {
    "collapsed": false
   },
   "outputs": [],
   "source": [
    "pc_string = pc_string.replace(u\"\\u2018\", \"'\").replace(u\"\\u2019\", \"'\")"
   ]
  },
  {
   "cell_type": "code",
   "execution_count": 13,
   "metadata": {
    "collapsed": false
   },
   "outputs": [],
   "source": [
    "sw = stopwords.words('english')\n",
    "tokens = nltk.word_tokenize(pc_string)\n",
    "text = nltk.Text(tokens)\n",
    "words = [w.lower() for w in text if w.isalpha()]\n",
    "words = [w for w in words if w not in sw]"
   ]
  },
  {
   "cell_type": "code",
   "execution_count": 14,
   "metadata": {
    "collapsed": false
   },
   "outputs": [],
   "source": [
    "#words and bigram\n",
    "fd = nltk.FreqDist(words)\n",
    "bi_fd = nltk.FreqDist(nltk.bigrams(words))"
   ]
  },
  {
   "cell_type": "code",
   "execution_count": 15,
   "metadata": {
    "collapsed": false
   },
   "outputs": [
    {
     "data": {
      "text/plain": [
       "[(u'pilot', 41897),\n",
       " (u'failure', 28745),\n",
       " (u'landing', 17154),\n",
       " (u'maintain', 15560),\n",
       " (u'control', 12881),\n",
       " (u'loss', 12856),\n",
       " (u'resulted', 12614),\n",
       " (u'accident', 12037),\n",
       " (u'engine', 11589),\n",
       " (u'factor', 10112),\n",
       " (u'power', 9648),\n",
       " (u'fuel', 9482),\n",
       " (u'inadequate', 9131),\n",
       " (u'factors', 9069),\n",
       " (u'contributing', 8705),\n",
       " (u'flight', 8367),\n",
       " (u'airplane', 8048),\n",
       " (u'improper', 7994),\n",
       " (u'due', 7596),\n",
       " (u'terrain', 7433),\n",
       " (u'conditions', 6257),\n",
       " (u'aircraft', 5752),\n",
       " (u'directional', 5461),\n",
       " (u'resulting', 4973),\n",
       " (u'lack', 4789),\n",
       " (u'takeoff', 4635),\n",
       " (u'runway', 4552),\n",
       " (u'undetermined', 4339),\n",
       " (u'airspeed', 4004),\n",
       " (u'subsequent', 3827)]"
      ]
     },
     "execution_count": 15,
     "metadata": {},
     "output_type": "execute_result"
    }
   ],
   "source": [
    "fd.most_common(30)"
   ]
  },
  {
   "cell_type": "code",
   "execution_count": 16,
   "metadata": {
    "collapsed": true
   },
   "outputs": [],
   "source": [
    "bigram_measures = nltk.collocations.BigramAssocMeasures()"
   ]
  },
  {
   "cell_type": "code",
   "execution_count": 17,
   "metadata": {
    "collapsed": false
   },
   "outputs": [],
   "source": [
    "finder = BigramCollocationFinder(fd, bi_fd)"
   ]
  },
  {
   "cell_type": "code",
   "execution_count": 18,
   "metadata": {
    "collapsed": false
   },
   "outputs": [
    {
     "data": {
      "text/plain": [
       "[(u'pilot', u'failure'),\n",
       " (u'failure', u'maintain'),\n",
       " (u'loss', u'engine'),\n",
       " (u'engine', u'power'),\n",
       " (u'directional', u'control'),\n",
       " (u'contributing', u'accident'),\n",
       " (u'maintain', u'directional'),\n",
       " (u'pilot', u'inadequate'),\n",
       " (u'pilot', u'improper'),\n",
       " (u'accident', u'pilot'),\n",
       " (u'power', u'due'),\n",
       " (u'forced', u'landing'),\n",
       " (u'failure', u'pilot'),\n",
       " (u'maintain', u'adequate'),\n",
       " (u'landing', u'gear'),\n",
       " (u'student', u'pilot'),\n",
       " (u'undetermined', u'reasons'),\n",
       " (u'control', u'airplane'),\n",
       " (u'factor', u'accident'),\n",
       " (u'fuel', u'exhaustion'),\n",
       " (u'control', u'landing'),\n",
       " (u'power', u'undetermined'),\n",
       " (u'contributing', u'factor'),\n",
       " (u'pilot', u'maintain'),\n",
       " (u'inadequate', u'preflight'),\n",
       " (u'contributing', u'factors'),\n",
       " (u'aircraft', u'control'),\n",
       " (u'loss', u'control'),\n",
       " (u'resulted', u'loss'),\n",
       " (u'maintain', u'clearance')]"
      ]
     },
     "execution_count": 18,
     "metadata": {},
     "output_type": "execute_result"
    }
   ],
   "source": [
    "finder.nbest(bigram_measures.raw_freq,30)"
   ]
  },
  {
   "cell_type": "code",
   "execution_count": 113,
   "metadata": {
    "collapsed": true
   },
   "outputs": [],
   "source": [
    "bg_list = nltk.bigrams(words)\n",
    "bg_pilot = [p for p in bg_list if 'pilot' in p[0]]\n",
    "bg_list = nltk.bigrams(words)\n",
    "bg_instructor = [p for p in bg_list if 'instructor' in p[0]]"
   ]
  },
  {
   "cell_type": "code",
   "execution_count": 114,
   "metadata": {
    "collapsed": false
   },
   "outputs": [
    {
     "data": {
      "text/plain": [
       "[((u'pilot', u'failure'), 12887),\n",
       " ((u'pilot', u'inadequate'), 4116),\n",
       " ((u'pilot', u'improper'), 3909),\n",
       " ((u'pilot', u'maintain'), 1745),\n",
       " ((u'pilot', u'lack'), 1528)]"
      ]
     },
     "execution_count": 114,
     "metadata": {},
     "output_type": "execute_result"
    }
   ],
   "source": [
    "nltk.FreqDist(bg_pilot).most_common(5)"
   ]
  },
  {
   "cell_type": "code",
   "execution_count": 115,
   "metadata": {
    "collapsed": false
   },
   "outputs": [
    {
     "data": {
      "text/plain": [
       "[((u'instructor', u'inadequate'), 500),\n",
       " ((u'instructor', u'failure'), 326),\n",
       " ((u'instructor', u'pilot'), 293),\n",
       " ((u'instructor', u'delayed'), 237),\n",
       " ((u'instructor', u'improper'), 96)]"
      ]
     },
     "execution_count": 115,
     "metadata": {},
     "output_type": "execute_result"
    }
   ],
   "source": [
    "nltk.FreqDist(bg_instructor).most_common(5)"
   ]
  },
  {
   "cell_type": "markdown",
   "metadata": {},
   "source": [
    "While some of the bigram above doesn't exactly make sense grammatically, this happens because of the removal of stopwords. (aircraft,control) originally was most likely to be \"aircraft out of control\".\n",
    "\n",
    "Based on the bigram generated from the overall text, accidents where pilot's or instructor's error is a contributing factor can be detected based on the bigrams ((pilot, instructor),(failure,inadequate,improper))"
   ]
  },
  {
   "cell_type": "markdown",
   "metadata": {},
   "source": [
    "## Apply tokenization to Dataframe"
   ]
  },
  {
   "cell_type": "code",
   "execution_count": 19,
   "metadata": {
    "collapsed": false
   },
   "outputs": [],
   "source": [
    "#create a common tokenization function\n",
    "def colTokenize(x):\n",
    "    text = nltk.Text(nltk.word_tokenize(x.replace(u\"\\u2018\", \"'\").replace(u\"\\u2019\", \"'\")))\n",
    "    #remove numeric and punctuation\n",
    "    words = [w.lower() for w in text if w.isalpha()]\n",
    "    #remove stopwords\n",
    "    words = [w for w in words if w not in sw]\n",
    "    return words"
   ]
  },
  {
   "cell_type": "code",
   "execution_count": 20,
   "metadata": {
    "collapsed": true
   },
   "outputs": [],
   "source": [
    "df_pc['pc_tokens'] = df_pc['probable_cause'].apply(lambda x: colTokenize(x))"
   ]
  },
  {
   "cell_type": "code",
   "execution_count": 21,
   "metadata": {
    "collapsed": false
   },
   "outputs": [],
   "source": [
    "df_pc['pc_bigram'] = df_pc['pc_tokens'].apply(lambda x: list(nltk.bigrams(x)))"
   ]
  },
  {
   "cell_type": "code",
   "execution_count": 22,
   "metadata": {
    "collapsed": false
   },
   "outputs": [
    {
     "data": {
      "text/plain": [
       "175    [(pilot, failure), (failure, maintain), (maint...\n",
       "183    [(rated, pilot), (pilot, improper), (improper,...\n",
       "203    [(pilot, failure), (failure, maintain), (maint...\n",
       "205    [(pilot, inaccurate), (inaccurate, fuel), (fue...\n",
       "217    [(pilot, inadequate), (inadequate, decision), ...\n",
       "Name: pc_bigram, dtype: object"
      ]
     },
     "execution_count": 22,
     "metadata": {},
     "output_type": "execute_result"
    }
   ],
   "source": [
    "df_pc['pc_bigram'].head()"
   ]
  },
  {
   "cell_type": "code",
   "execution_count": 122,
   "metadata": {
    "collapsed": false
   },
   "outputs": [],
   "source": [
    "words_arr = []\n",
    "for i in ['pilot','instructor']:\n",
    "    for j in ['inadequate','failure','improper']:\n",
    "        words_arr.append((i,j))"
   ]
  },
  {
   "cell_type": "code",
   "execution_count": 23,
   "metadata": {
    "collapsed": false
   },
   "outputs": [],
   "source": [
    "def isinwords(x,words):\n",
    "    found = [b for b in x if b in words]\n",
    "    if found:\n",
    "        return 1"
   ]
  },
  {
   "cell_type": "code",
   "execution_count": 124,
   "metadata": {
    "collapsed": false
   },
   "outputs": [],
   "source": [
    "#pc_pilot = [('pilot','inadequate'),('pilot','failure'),('pilot','improper')]\n",
    "#test for token\n",
    "df_pc['factor_human'] = df_pc['pc_bigram'].apply(lambda x: isinwords(x,words_arr))"
   ]
  },
  {
   "cell_type": "code",
   "execution_count": 125,
   "metadata": {
    "collapsed": false
   },
   "outputs": [
    {
     "data": {
      "text/plain": [
       "20388.0"
      ]
     },
     "execution_count": 125,
     "metadata": {},
     "output_type": "execute_result"
    }
   ],
   "source": [
    "df_pc[(df_pc['factor_human']==1)]['factor_human'].sum()"
   ]
  },
  {
   "cell_type": "code",
   "execution_count": null,
   "metadata": {
    "collapsed": true
   },
   "outputs": [],
   "source": []
  },
  {
   "cell_type": "markdown",
   "metadata": {},
   "source": [
    "### Finding\n",
    "Out of 50,503 records of probable cause, human factor is involved in 36,048 (40%) of them!\n",
    "\n",
    "Is this constant across years?"
   ]
  },
  {
   "cell_type": "code",
   "execution_count": 126,
   "metadata": {
    "collapsed": true
   },
   "outputs": [],
   "source": [
    "df_pc['EventDate'] = pd.to_datetime(df_pc['EventDate'])\n",
    "df_pc['PublicationDate'] = pd.to_datetime(df_pc['PublicationDate'])"
   ]
  },
  {
   "cell_type": "code",
   "execution_count": 127,
   "metadata": {
    "collapsed": false
   },
   "outputs": [],
   "source": [
    "df_pc['factor_nonhuman'] = df_pc['factor_human'].apply(lambda x: val_inverse(x))\n",
    "df_pc_h = df_pc[['factor_human','factor_nonhuman']].groupby(df_pc['EventDate'].map(lambda x: x.year)).sum()\n",
    "df_pc_h['pct_factor_human'] = df_pc_h['factor_human']/(df_pc_h['factor_human']+df_pc_h['factor_nonhuman'])\n",
    "df_pc_h['pct_factor_nonhuman'] = 1-df_pc_h['pct_factor_human']"
   ]
  },
  {
   "cell_type": "code",
   "execution_count": 158,
   "metadata": {
    "collapsed": false
   },
   "outputs": [
    {
     "data": {
      "text/plain": [
       "<matplotlib.axes._subplots.AxesSubplot at 0x5968ee10>"
      ]
     },
     "execution_count": 158,
     "metadata": {},
     "output_type": "execute_result"
    },
    {
     "data": {
      "image/png": "[encoded data removed]",
      "text/plain": [
       "<matplotlib.figure.Figure at 0x5943a668>"
      ]
     },
     "metadata": {},
     "output_type": "display_data"
    }
   ],
   "source": [
    "df_pc_h[['factor_human','factor_nonhuman']].plot.barh(stacked=True,figsize=(10,10))"
   ]
  },
  {
   "cell_type": "code",
   "execution_count": 215,
   "metadata": {
    "collapsed": false
   },
   "outputs": [
    {
     "data": {
      "text/html": [
       "<div>\n",
       "<table border=\"1\" class=\"dataframe\">\n",
       "  <thead>\n",
       "    <tr style=\"text-align: right;\">\n",
       "      <th></th>\n",
       "      <th>factor_human</th>\n",
       "      <th>factor_nonhuman</th>\n",
       "      <th>pct_factor_human</th>\n",
       "      <th>pct_factor_nonhuman</th>\n",
       "    </tr>\n",
       "    <tr>\n",
       "      <th>EventDate</th>\n",
       "      <th></th>\n",
       "      <th></th>\n",
       "      <th></th>\n",
       "      <th></th>\n",
       "    </tr>\n",
       "  </thead>\n",
       "  <tbody>\n",
       "    <tr>\n",
       "      <th>1989</th>\n",
       "      <td>533.0</td>\n",
       "      <td>1970.0</td>\n",
       "      <td>0.212944</td>\n",
       "      <td>0.787056</td>\n",
       "    </tr>\n",
       "    <tr>\n",
       "      <th>1990</th>\n",
       "      <td>591.0</td>\n",
       "      <td>1868.0</td>\n",
       "      <td>0.240342</td>\n",
       "      <td>0.759658</td>\n",
       "    </tr>\n",
       "    <tr>\n",
       "      <th>1991</th>\n",
       "      <td>656.0</td>\n",
       "      <td>1754.0</td>\n",
       "      <td>0.272199</td>\n",
       "      <td>0.727801</td>\n",
       "    </tr>\n",
       "    <tr>\n",
       "      <th>1992</th>\n",
       "      <td>617.0</td>\n",
       "      <td>1658.0</td>\n",
       "      <td>0.271209</td>\n",
       "      <td>0.728791</td>\n",
       "    </tr>\n",
       "    <tr>\n",
       "      <th>1993</th>\n",
       "      <td>671.0</td>\n",
       "      <td>1577.0</td>\n",
       "      <td>0.298488</td>\n",
       "      <td>0.701512</td>\n",
       "    </tr>\n",
       "    <tr>\n",
       "      <th>1994</th>\n",
       "      <td>783.0</td>\n",
       "      <td>1405.0</td>\n",
       "      <td>0.357861</td>\n",
       "      <td>0.642139</td>\n",
       "    </tr>\n",
       "    <tr>\n",
       "      <th>1995</th>\n",
       "      <td>883.0</td>\n",
       "      <td>1355.0</td>\n",
       "      <td>0.394549</td>\n",
       "      <td>0.605451</td>\n",
       "    </tr>\n",
       "    <tr>\n",
       "      <th>1996</th>\n",
       "      <td>813.0</td>\n",
       "      <td>1312.0</td>\n",
       "      <td>0.382588</td>\n",
       "      <td>0.617412</td>\n",
       "    </tr>\n",
       "    <tr>\n",
       "      <th>1997</th>\n",
       "      <td>854.0</td>\n",
       "      <td>1204.0</td>\n",
       "      <td>0.414966</td>\n",
       "      <td>0.585034</td>\n",
       "    </tr>\n",
       "    <tr>\n",
       "      <th>1998</th>\n",
       "      <td>871.0</td>\n",
       "      <td>1215.0</td>\n",
       "      <td>0.417546</td>\n",
       "      <td>0.582454</td>\n",
       "    </tr>\n",
       "    <tr>\n",
       "      <th>1999</th>\n",
       "      <td>843.0</td>\n",
       "      <td>1256.0</td>\n",
       "      <td>0.401620</td>\n",
       "      <td>0.598380</td>\n",
       "    </tr>\n",
       "    <tr>\n",
       "      <th>2000</th>\n",
       "      <td>818.0</td>\n",
       "      <td>1236.0</td>\n",
       "      <td>0.398247</td>\n",
       "      <td>0.601753</td>\n",
       "    </tr>\n",
       "    <tr>\n",
       "      <th>2001</th>\n",
       "      <td>794.0</td>\n",
       "      <td>1104.0</td>\n",
       "      <td>0.418335</td>\n",
       "      <td>0.581665</td>\n",
       "    </tr>\n",
       "    <tr>\n",
       "      <th>2002</th>\n",
       "      <td>856.0</td>\n",
       "      <td>1030.0</td>\n",
       "      <td>0.453871</td>\n",
       "      <td>0.546129</td>\n",
       "    </tr>\n",
       "    <tr>\n",
       "      <th>2003</th>\n",
       "      <td>924.0</td>\n",
       "      <td>1023.0</td>\n",
       "      <td>0.474576</td>\n",
       "      <td>0.525424</td>\n",
       "    </tr>\n",
       "    <tr>\n",
       "      <th>2004</th>\n",
       "      <td>938.0</td>\n",
       "      <td>856.0</td>\n",
       "      <td>0.522854</td>\n",
       "      <td>0.477146</td>\n",
       "    </tr>\n",
       "    <tr>\n",
       "      <th>2005</th>\n",
       "      <td>920.0</td>\n",
       "      <td>930.0</td>\n",
       "      <td>0.497297</td>\n",
       "      <td>0.502703</td>\n",
       "    </tr>\n",
       "    <tr>\n",
       "      <th>2006</th>\n",
       "      <td>838.0</td>\n",
       "      <td>821.0</td>\n",
       "      <td>0.505124</td>\n",
       "      <td>0.494876</td>\n",
       "    </tr>\n",
       "    <tr>\n",
       "      <th>2007</th>\n",
       "      <td>905.0</td>\n",
       "      <td>929.0</td>\n",
       "      <td>0.493457</td>\n",
       "      <td>0.506543</td>\n",
       "    </tr>\n",
       "    <tr>\n",
       "      <th>2008</th>\n",
       "      <td>874.0</td>\n",
       "      <td>872.0</td>\n",
       "      <td>0.500573</td>\n",
       "      <td>0.499427</td>\n",
       "    </tr>\n",
       "    <tr>\n",
       "      <th>2009</th>\n",
       "      <td>869.0</td>\n",
       "      <td>757.0</td>\n",
       "      <td>0.534440</td>\n",
       "      <td>0.465560</td>\n",
       "    </tr>\n",
       "    <tr>\n",
       "      <th>2010</th>\n",
       "      <td>747.0</td>\n",
       "      <td>838.0</td>\n",
       "      <td>0.471293</td>\n",
       "      <td>0.528707</td>\n",
       "    </tr>\n",
       "    <tr>\n",
       "      <th>2011</th>\n",
       "      <td>734.0</td>\n",
       "      <td>890.0</td>\n",
       "      <td>0.451970</td>\n",
       "      <td>0.548030</td>\n",
       "    </tr>\n",
       "    <tr>\n",
       "      <th>2012</th>\n",
       "      <td>724.0</td>\n",
       "      <td>830.0</td>\n",
       "      <td>0.465894</td>\n",
       "      <td>0.534106</td>\n",
       "    </tr>\n",
       "    <tr>\n",
       "      <th>2013</th>\n",
       "      <td>613.0</td>\n",
       "      <td>611.0</td>\n",
       "      <td>0.500817</td>\n",
       "      <td>0.499183</td>\n",
       "    </tr>\n",
       "    <tr>\n",
       "      <th>2014</th>\n",
       "      <td>488.0</td>\n",
       "      <td>382.0</td>\n",
       "      <td>0.560920</td>\n",
       "      <td>0.439080</td>\n",
       "    </tr>\n",
       "    <tr>\n",
       "      <th>2015</th>\n",
       "      <td>180.0</td>\n",
       "      <td>97.0</td>\n",
       "      <td>0.649819</td>\n",
       "      <td>0.350181</td>\n",
       "    </tr>\n",
       "  </tbody>\n",
       "</table>\n",
       "</div>"
      ],
      "text/plain": [
       "           factor_human  factor_nonhuman  pct_factor_human  \\\n",
       "EventDate                                                    \n",
       "1989              533.0           1970.0          0.212944   \n",
       "1990              591.0           1868.0          0.240342   \n",
       "1991              656.0           1754.0          0.272199   \n",
       "1992              617.0           1658.0          0.271209   \n",
       "1993              671.0           1577.0          0.298488   \n",
       "1994              783.0           1405.0          0.357861   \n",
       "1995              883.0           1355.0          0.394549   \n",
       "1996              813.0           1312.0          0.382588   \n",
       "1997              854.0           1204.0          0.414966   \n",
       "1998              871.0           1215.0          0.417546   \n",
       "1999              843.0           1256.0          0.401620   \n",
       "2000              818.0           1236.0          0.398247   \n",
       "2001              794.0           1104.0          0.418335   \n",
       "2002              856.0           1030.0          0.453871   \n",
       "2003              924.0           1023.0          0.474576   \n",
       "2004              938.0            856.0          0.522854   \n",
       "2005              920.0            930.0          0.497297   \n",
       "2006              838.0            821.0          0.505124   \n",
       "2007              905.0            929.0          0.493457   \n",
       "2008              874.0            872.0          0.500573   \n",
       "2009              869.0            757.0          0.534440   \n",
       "2010              747.0            838.0          0.471293   \n",
       "2011              734.0            890.0          0.451970   \n",
       "2012              724.0            830.0          0.465894   \n",
       "2013              613.0            611.0          0.500817   \n",
       "2014              488.0            382.0          0.560920   \n",
       "2015              180.0             97.0          0.649819   \n",
       "\n",
       "           pct_factor_nonhuman  \n",
       "EventDate                       \n",
       "1989                  0.787056  \n",
       "1990                  0.759658  \n",
       "1991                  0.727801  \n",
       "1992                  0.728791  \n",
       "1993                  0.701512  \n",
       "1994                  0.642139  \n",
       "1995                  0.605451  \n",
       "1996                  0.617412  \n",
       "1997                  0.585034  \n",
       "1998                  0.582454  \n",
       "1999                  0.598380  \n",
       "2000                  0.601753  \n",
       "2001                  0.581665  \n",
       "2002                  0.546129  \n",
       "2003                  0.525424  \n",
       "2004                  0.477146  \n",
       "2005                  0.502703  \n",
       "2006                  0.494876  \n",
       "2007                  0.506543  \n",
       "2008                  0.499427  \n",
       "2009                  0.465560  \n",
       "2010                  0.528707  \n",
       "2011                  0.548030  \n",
       "2012                  0.534106  \n",
       "2013                  0.499183  \n",
       "2014                  0.439080  \n",
       "2015                  0.350181  "
      ]
     },
     "execution_count": 215,
     "metadata": {},
     "output_type": "execute_result"
    }
   ],
   "source": []
  },
  {
   "cell_type": "code",
   "execution_count": 226,
   "metadata": {
    "collapsed": false
   },
   "outputs": [
    {
     "data": {
      "image/png": "[encoded data removed]",
      "text/plain": [
       "<matplotlib.figure.Figure at 0x8a422828>"
      ]
     },
     "metadata": {},
     "output_type": "display_data"
    },
    {
     "data": {
      "image/png": "[encoded data removed]",
      "text/plain": [
       "<matplotlib.figure.Figure at 0x83d9b4e0>"
      ]
     },
     "metadata": {},
     "output_type": "display_data"
    }
   ],
   "source": [
    "fig, ax = plt.subplots(figsize=(10, 8))\n",
    "ax = df_pc_h.iloc[df_pc_h.index>1988][['pct_factor_human','pct_factor_nonhuman']].plot.barh(stacked=True,figsize=(10,10))\n",
    "ax.tick_params(labelsize=14)\n",
    "ax.set_xlabel('Proportion of Human Factor', fontsize=20)\n",
    "ax.set_ylabel('Year', fontsize=20)"
   ]
  },
  {
   "cell_type": "markdown",
   "metadata": {},
   "source": [
    "Turns out accidents with human factor makes up an increasing share of total accidents over year. Is this because planes are getting more reliable, as reflected by decreasing overall number of accidents?"
   ]
  },
  {
   "cell_type": "code",
   "execution_count": 142,
   "metadata": {
    "collapsed": true
   },
   "outputs": [],
   "source": [
    "#how about weather?\n",
    "df_pc['factor_weather'] = df_pc['pc_tokens'].apply(lambda x: isinwords(x,['weather']))"
   ]
  },
  {
   "cell_type": "code",
   "execution_count": 143,
   "metadata": {
    "collapsed": false
   },
   "outputs": [
    {
     "data": {
      "text/plain": [
       "2136.0"
      ]
     },
     "execution_count": 143,
     "metadata": {},
     "output_type": "execute_result"
    }
   ],
   "source": [
    "df_pc['factor_weather'].sum()\n",
    "#thats small!"
   ]
  },
  {
   "cell_type": "markdown",
   "metadata": {},
   "source": [
    "However, as shown in the initial exploration, the dataset is mostly comprised of small aircraft for personal flight. What if we separate these? Is there a difference in the cause of accidents on small general aviation versus commercial flights?"
   ]
  },
  {
   "cell_type": "code",
   "execution_count": 204,
   "metadata": {
    "collapsed": true
   },
   "outputs": [],
   "source": [
    "df_pc['Factor'] = np.where(df_pc['factor_human']==1,'Human', 'Others')"
   ]
  },
  {
   "cell_type": "code",
   "execution_count": 205,
   "metadata": {
    "collapsed": true
   },
   "outputs": [],
   "source": [
    "df_pc['FlightType'] = np.where(((df_pc.NumberOfEngines > 1)&(df_pc.EngineType==\"Turbo Fan\")|(df_pc.EngineType==\"Turbo Jet\")|(df_pc.EngineType==\"Turbo Prop\")), 'Commercial', 'Non-commercial')"
   ]
  },
  {
   "cell_type": "code",
   "execution_count": 208,
   "metadata": {
    "collapsed": false
   },
   "outputs": [
    {
     "data": {
      "text/html": [
       "<div>\n",
       "<table border=\"1\" class=\"dataframe\">\n",
       "  <thead>\n",
       "    <tr style=\"text-align: right;\">\n",
       "      <th>FlightType</th>\n",
       "      <th>Commercial</th>\n",
       "      <th>Non-commercial</th>\n",
       "    </tr>\n",
       "    <tr>\n",
       "      <th>Factor</th>\n",
       "      <th></th>\n",
       "      <th></th>\n",
       "    </tr>\n",
       "  </thead>\n",
       "  <tbody>\n",
       "    <tr>\n",
       "      <th>Human</th>\n",
       "      <td>21.260786</td>\n",
       "      <td>42.090609</td>\n",
       "    </tr>\n",
       "    <tr>\n",
       "      <th>Others</th>\n",
       "      <td>78.739214</td>\n",
       "      <td>57.909391</td>\n",
       "    </tr>\n",
       "  </tbody>\n",
       "</table>\n",
       "</div>"
      ],
      "text/plain": [
       "FlightType  Commercial  Non-commercial\n",
       "Factor                                \n",
       "Human        21.260786       42.090609\n",
       "Others       78.739214       57.909391"
      ]
     },
     "execution_count": 208,
     "metadata": {},
     "output_type": "execute_result"
    }
   ],
   "source": [
    "pd.crosstab(df_pc.Factor,df_pc.FlightType).apply(lambda x: x*100/x.sum(),axis=0)"
   ]
  },
  {
   "cell_type": "markdown",
   "metadata": {},
   "source": [
    "Human factors plays a much bigger part (42%) in non-commercial flights compared to commercial ones (21%)"
   ]
  },
  {
   "cell_type": "code",
   "execution_count": 191,
   "metadata": {
    "collapsed": false
   },
   "outputs": [],
   "source": [
    "df_comp = df_pc[['factor_human','factor_nonhuman']].groupby([df_pc['personal_flag'],df_pc['EventDate'].map(lambda x: x.year)]).sum()\n",
    "df_comp['pct_factor_human'] = df_comp['factor_human']/(df_comp['factor_human']+df_comp['factor_nonhuman'])\n",
    "df_comp['pct_factor_nonhuman'] = 1-df_comp['pct_factor_human']"
   ]
  },
  {
   "cell_type": "code",
   "execution_count": 193,
   "metadata": {
    "collapsed": false
   },
   "outputs": [
    {
     "data": {
      "text/plain": [
       "<matplotlib.axes._subplots.AxesSubplot at 0x82e68358>"
      ]
     },
     "execution_count": 193,
     "metadata": {},
     "output_type": "execute_result"
    },
    {
     "data": {
      "image/png": "[encoded data removed]",
      "text/plain": [
       "<matplotlib.figure.Figure at 0x48553828>"
      ]
     },
     "metadata": {},
     "output_type": "display_data"
    }
   ],
   "source": [
    "df_comp.ix[\"Personal\"][['pct_factor_human','pct_factor_nonhuman']].plot.barh(stacked=True,figsize=(10,10))"
   ]
  },
  {
   "cell_type": "code",
   "execution_count": 194,
   "metadata": {
    "collapsed": false
   },
   "outputs": [
    {
     "data": {
      "text/plain": [
       "<matplotlib.axes._subplots.AxesSubplot at 0x575e1fd0>"
      ]
     },
     "execution_count": 194,
     "metadata": {},
     "output_type": "execute_result"
    },
    {
     "data": {
      "image/png": "[encoded data removed]",
      "text/plain": [
       "<matplotlib.figure.Figure at 0x5610cf28>"
      ]
     },
     "metadata": {},
     "output_type": "display_data"
    }
   ],
   "source": [
    "df_comp.ix[\"Others\"][['pct_factor_human','pct_factor_nonhuman']].plot.barh(stacked=True,figsize=(10,10))"
   ]
  },
  {
   "cell_type": "code",
   "execution_count": null,
   "metadata": {
    "collapsed": true
   },
   "outputs": [],
   "source": []
  },
  {
   "cell_type": "markdown",
   "metadata": {},
   "source": [
    "### Now moving on to the narrative text..."
   ]
  },
  {
   "cell_type": "code",
   "execution_count": 144,
   "metadata": {
    "collapsed": false
   },
   "outputs": [],
   "source": [
    "nar_list = df_pc['narrative'].tolist()\n",
    "nar_list = [i for i in nar_list]\n",
    "nar_tokens = colTokenize(str(''.join(nar_list)))"
   ]
  },
  {
   "cell_type": "code",
   "execution_count": 145,
   "metadata": {
    "collapsed": true
   },
   "outputs": [],
   "source": [
    "n_fd = nltk.FreqDist(nar_tokens)"
   ]
  },
  {
   "cell_type": "code",
   "execution_count": 146,
   "metadata": {
    "collapsed": false
   },
   "outputs": [],
   "source": [
    "n_bg = nltk.bigrams(nar_tokens)"
   ]
  },
  {
   "cell_type": "code",
   "execution_count": 147,
   "metadata": {
    "collapsed": true
   },
   "outputs": [],
   "source": [
    "n_fd_bg = nltk.FreqDist(n_bg)"
   ]
  },
  {
   "cell_type": "code",
   "execution_count": 148,
   "metadata": {
    "collapsed": false
   },
   "outputs": [
    {
     "data": {
      "text/plain": [
       "[((u'support', u'investigation'), 49606),\n",
       " ((u'used', u'data'), 49602),\n",
       " ((u'prepare', u'aircraft'), 48917),\n",
       " ((u'aircraft', u'accident'), 48376),\n",
       " ((u'various', u'sources'), 41490),\n",
       " ((u'traveled', u'support'), 41489),\n",
       " ((u'data', u'provided'), 41408),\n",
       " ((u'provided', u'various'), 41383),\n",
       " ((u'sources', u'prepare'), 40074),\n",
       " ((u'may', u'traveled'), 33266)]"
      ]
     },
     "execution_count": 148,
     "metadata": {},
     "output_type": "execute_result"
    }
   ],
   "source": [
    "n_fd_bg.most_common(10)"
   ]
  },
  {
   "cell_type": "code",
   "execution_count": 149,
   "metadata": {
    "collapsed": false
   },
   "outputs": [
    {
     "data": {
      "text/plain": [
       "175    NTSB investigators used data provided by vario...\n",
       "183    NTSB investigators used data provided by vario...\n",
       "203    NTSB investigators used data provided by vario...\n",
       "205    NTSB investigators used data provided by vario...\n",
       "217    NTSB investigators used data provided by vario...\n",
       "222    NTSB investigators used data provided by vario...\n",
       "234    NTSB investigators used data provided by vario...\n",
       "240    NTSB investigators used data provided by vario...\n",
       "244    NTSB investigators used data provided by vario...\n",
       "246    NTSB investigators used data provided by vario...\n",
       "Name: narrative, dtype: object"
      ]
     },
     "execution_count": 149,
     "metadata": {},
     "output_type": "execute_result"
    }
   ],
   "source": [
    "df_pc['narrative'].head(10)\n",
    "#hmm, there's a pattern here"
   ]
  },
  {
   "cell_type": "code",
   "execution_count": 150,
   "metadata": {
    "collapsed": false
   },
   "outputs": [],
   "source": [
    "df_pc['nar_header'] = df_pc['narrative'].apply(lambda x: x.split('.')[0])"
   ]
  },
  {
   "cell_type": "code",
   "execution_count": 155,
   "metadata": {
    "collapsed": false
   },
   "outputs": [
    {
     "data": {
      "text/plain": [
       "[u'NTSB investigators used data provided by various entities, including, but not limited to, the Federal Aviation Administration and/or the operator and did not travel in support of this investigation to prepare this aircraft accident report',\n",
       " u'NTSB investigators may not have traveled in support of this investigation and used data provided by various sources to prepare this aircraft accident report',\n",
       " u'NTSB investigators either traveled in support of this investigation or conducted a significant amount of investigative work without any travel, and used data obtained from various sources to prepare this aircraft accident report',\n",
       " u'NTSB investigators used data provided by various sources and may not have traveled in support of this investigation to prepare this aircraft incident report',\n",
       " u'NTSB investigators traveled in support of this investigation and used data obtained from various sources to prepare this aircraft accident report',\n",
       " u'NTSB investigators may not have traveled in support of this investigation and used data provided by various sources to prepare this public aircraft accident report',\n",
       " u'NTSB investigators used data provided by various sources and may have traveled in support of this investigation to prepare this aircraft incident report',\n",
       " u'NTSB investigators may have traveled in support of this investigation and used data provided by various sources to prepare this aircraft accident report',\n",
       " u'NTSB investigators traveled in support of this investigation and used data obtained from various sources to prepare this aircraft incident report',\n",
       " u': NTSB investigators either traveled in support of this investigation or conducted a significant amount of investigative work without any travel, and used data obtained from various sources to prepare this public aircraft accident report',\n",
       " u'NTSB investigators traveled in support of this investigation and obtained data from various sources to prepare this public aircraft accident report',\n",
       " u'NTSB investigators may have traveled in support of this investigation and used data provided by various sources to prepare this public aircraft accident report']"
      ]
     },
     "execution_count": 155,
     "metadata": {},
     "output_type": "execute_result"
    }
   ],
   "source": [
    "ntsb_nar =  [i for i in list(df_pc['nar_header'].unique()) if 'NTSB' in i]\n",
    "ntsb_nar    "
   ]
  },
  {
   "cell_type": "code",
   "execution_count": null,
   "metadata": {
    "collapsed": true
   },
   "outputs": [],
   "source": []
  }
 ],
 "metadata": {
  "kernelspec": {
   "display_name": "Python 2",
   "language": "python",
   "name": "python2"
  },
  "language_info": {
   "codemirror_mode": {
    "name": "ipython",
    "version": 2
   },
   "file_extension": ".py",
   "mimetype": "text/x-python",
   "name": "python",
   "nbconvert_exporter": "python",
   "pygments_lexer": "ipython2",
   "version": "2.7.12"
  }
 },
 "nbformat": 4,
 "nbformat_minor": 0
}
