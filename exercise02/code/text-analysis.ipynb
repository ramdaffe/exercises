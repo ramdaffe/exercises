{
 "cells": [
  {
   "cell_type": "code",
   "execution_count": 191,
   "metadata": {
    "collapsed": false,
    "scrolled": true
   },
   "outputs": [],
   "source": [
    "%matplotlib inline\n",
    "import pandas as pd\n",
    "import numpy as np\n",
    "import json\n",
    "import xml.etree.ElementTree as et\n",
    "import nltk\n",
    "from nltk import sent_tokenize, word_tokenize, pos_tag\n",
    "from nltk.corpus import stopwords\n",
    "from nltk.collocations import *\n",
    "import os"
   ]
  },
  {
   "cell_type": "code",
   "execution_count": 99,
   "metadata": {
    "collapsed": true
   },
   "outputs": [],
   "source": [
    "import sys  \n",
    "reload(sys)  \n",
    "sys.setdefaultencoding('utf8')"
   ]
  },
  {
   "cell_type": "raw",
   "metadata": {
    "collapsed": false,
    "scrolled": true
   },
   "source": [
    "#load xml to dataframe\n",
    "tree = et.parse(\"../data/AviationData.xml\")\n",
    "root = tree.getroot()\n",
    "events_list = [i.attrib for i in root[0]]\n",
    "df_events = pd.DataFrame(events_list)\n",
    "df_events.head()"
   ]
  },
  {
   "cell_type": "code",
   "execution_count": 101,
   "metadata": {
    "collapsed": false
   },
   "outputs": [
    {
     "data": {
      "text/plain": [
       "(77257, 31)"
      ]
     },
     "execution_count": 101,
     "metadata": {},
     "output_type": "execute_result"
    }
   ],
   "source": [
    "df_events.shape"
   ]
  },
  {
   "cell_type": "code",
   "execution_count": 102,
   "metadata": {
    "collapsed": false
   },
   "outputs": [],
   "source": [
    "nar_list = []\n",
    "filelist = [name for name in os.listdir(\"../data/\") if name.endswith(\".json\")]\n",
    "for f in filelist:\n",
    "    with open(os.path.join(\"../data/\", f)) as json_file:\n",
    "        j = json.load(json_file)['data']\n",
    "        nar_list += j\n",
    "df_nar = pd.DataFrame(nar_list)"
   ]
  },
  {
   "cell_type": "code",
   "execution_count": 103,
   "metadata": {
    "collapsed": false
   },
   "outputs": [],
   "source": [
    "df_combined = pd.merge(df_events, df_nar,how='left',on='EventId')"
   ]
  },
  {
   "cell_type": "code",
   "execution_count": 104,
   "metadata": {
    "collapsed": false
   },
   "outputs": [],
   "source": [
    "df_pc = df_combined[(df_combined['probable_cause']!='')]"
   ]
  },
  {
   "cell_type": "code",
   "execution_count": 105,
   "metadata": {
    "collapsed": false,
    "scrolled": true
   },
   "outputs": [
    {
     "data": {
      "text/html": [
       "<div>\n",
       "<table border=\"1\" class=\"dataframe\">\n",
       "  <thead>\n",
       "    <tr style=\"text-align: right;\">\n",
       "      <th></th>\n",
       "      <th>AccidentNumber</th>\n",
       "      <th>AirCarrier</th>\n",
       "      <th>AircraftCategory</th>\n",
       "      <th>AircraftDamage</th>\n",
       "      <th>AirportCode</th>\n",
       "      <th>AirportName</th>\n",
       "      <th>AmateurBuilt</th>\n",
       "      <th>BroadPhaseOfFlight</th>\n",
       "      <th>Country</th>\n",
       "      <th>EngineType</th>\n",
       "      <th>...</th>\n",
       "      <th>RegistrationNumber</th>\n",
       "      <th>ReportStatus</th>\n",
       "      <th>Schedule</th>\n",
       "      <th>TotalFatalInjuries</th>\n",
       "      <th>TotalMinorInjuries</th>\n",
       "      <th>TotalSeriousInjuries</th>\n",
       "      <th>TotalUninjured</th>\n",
       "      <th>WeatherCondition</th>\n",
       "      <th>narrative</th>\n",
       "      <th>probable_cause</th>\n",
       "    </tr>\n",
       "  </thead>\n",
       "  <tbody>\n",
       "    <tr>\n",
       "      <th>175</th>\n",
       "      <td>GAA15CA208</td>\n",
       "      <td></td>\n",
       "      <td>Airplane</td>\n",
       "      <td>Substantial</td>\n",
       "      <td>OVO</td>\n",
       "      <td>NORTH VERNON</td>\n",
       "      <td>No</td>\n",
       "      <td>LANDING</td>\n",
       "      <td>United States</td>\n",
       "      <td>Reciprocating</td>\n",
       "      <td>...</td>\n",
       "      <td>N133VU</td>\n",
       "      <td>Probable Cause</td>\n",
       "      <td></td>\n",
       "      <td></td>\n",
       "      <td></td>\n",
       "      <td></td>\n",
       "      <td>1</td>\n",
       "      <td>VMC</td>\n",
       "      <td>NTSB investigators used data provided by vario...</td>\n",
       "      <td>The pilot's failure to maintain pitch control ...</td>\n",
       "    </tr>\n",
       "    <tr>\n",
       "      <th>183</th>\n",
       "      <td>GAA15CA197</td>\n",
       "      <td></td>\n",
       "      <td>Helicopter</td>\n",
       "      <td>Substantial</td>\n",
       "      <td></td>\n",
       "      <td>N/A</td>\n",
       "      <td>No</td>\n",
       "      <td>LANDING</td>\n",
       "      <td>United States</td>\n",
       "      <td>Reciprocating</td>\n",
       "      <td>...</td>\n",
       "      <td>N58397</td>\n",
       "      <td>Probable Cause</td>\n",
       "      <td></td>\n",
       "      <td></td>\n",
       "      <td></td>\n",
       "      <td></td>\n",
       "      <td>2</td>\n",
       "      <td>VMC</td>\n",
       "      <td>NTSB investigators used data provided by vario...</td>\n",
       "      <td>The non-helicopter rated pilot's improper land...</td>\n",
       "    </tr>\n",
       "    <tr>\n",
       "      <th>203</th>\n",
       "      <td>GAA15CA189</td>\n",
       "      <td></td>\n",
       "      <td>Airplane</td>\n",
       "      <td>Substantial</td>\n",
       "      <td>U660</td>\n",
       "      <td>Hidden Splendor</td>\n",
       "      <td>No</td>\n",
       "      <td>TAKEOFF</td>\n",
       "      <td>United States</td>\n",
       "      <td>Reciprocating</td>\n",
       "      <td>...</td>\n",
       "      <td>N735JB</td>\n",
       "      <td>Probable Cause</td>\n",
       "      <td></td>\n",
       "      <td></td>\n",
       "      <td></td>\n",
       "      <td></td>\n",
       "      <td>2</td>\n",
       "      <td>VMC</td>\n",
       "      <td>NTSB investigators used data provided by vario...</td>\n",
       "      <td>The pilot's failure to maintain directional co...</td>\n",
       "    </tr>\n",
       "    <tr>\n",
       "      <th>205</th>\n",
       "      <td>ERA15CA272</td>\n",
       "      <td></td>\n",
       "      <td>Airplane</td>\n",
       "      <td>Substantial</td>\n",
       "      <td>DVK</td>\n",
       "      <td>Stuart Powell Field</td>\n",
       "      <td>Yes</td>\n",
       "      <td>GO-AROUND</td>\n",
       "      <td>United States</td>\n",
       "      <td>Reciprocating</td>\n",
       "      <td>...</td>\n",
       "      <td>N31CS</td>\n",
       "      <td>Probable Cause</td>\n",
       "      <td></td>\n",
       "      <td></td>\n",
       "      <td>1</td>\n",
       "      <td></td>\n",
       "      <td></td>\n",
       "      <td>VMC</td>\n",
       "      <td>NTSB investigators used data provided by vario...</td>\n",
       "      <td>The pilot's inaccurate fuel planning, which re...</td>\n",
       "    </tr>\n",
       "    <tr>\n",
       "      <th>217</th>\n",
       "      <td>WPR15CA214</td>\n",
       "      <td></td>\n",
       "      <td>Airplane</td>\n",
       "      <td>Substantial</td>\n",
       "      <td>K69S</td>\n",
       "      <td>Avey Field</td>\n",
       "      <td>No</td>\n",
       "      <td>LANDING</td>\n",
       "      <td>United States</td>\n",
       "      <td>Reciprocating</td>\n",
       "      <td>...</td>\n",
       "      <td>C-GDYN</td>\n",
       "      <td>Probable Cause</td>\n",
       "      <td></td>\n",
       "      <td></td>\n",
       "      <td>1</td>\n",
       "      <td></td>\n",
       "      <td></td>\n",
       "      <td>VMC</td>\n",
       "      <td>NTSB investigators used data provided by vario...</td>\n",
       "      <td>The pilot's inadequate decision to continue th...</td>\n",
       "    </tr>\n",
       "  </tbody>\n",
       "</table>\n",
       "<p>5 rows × 33 columns</p>\n",
       "</div>"
      ],
      "text/plain": [
       "    AccidentNumber AirCarrier AircraftCategory AircraftDamage AirportCode  \\\n",
       "175     GAA15CA208                    Airplane    Substantial         OVO   \n",
       "183     GAA15CA197                  Helicopter    Substantial               \n",
       "203     GAA15CA189                    Airplane    Substantial        U660   \n",
       "205     ERA15CA272                    Airplane    Substantial         DVK   \n",
       "217     WPR15CA214                    Airplane    Substantial        K69S   \n",
       "\n",
       "             AirportName AmateurBuilt BroadPhaseOfFlight        Country  \\\n",
       "175         NORTH VERNON           No            LANDING  United States   \n",
       "183                  N/A           No            LANDING  United States   \n",
       "203      Hidden Splendor           No            TAKEOFF  United States   \n",
       "205  Stuart Powell Field          Yes          GO-AROUND  United States   \n",
       "217           Avey Field           No            LANDING  United States   \n",
       "\n",
       "        EngineType                        ...                          \\\n",
       "175  Reciprocating                        ...                           \n",
       "183  Reciprocating                        ...                           \n",
       "203  Reciprocating                        ...                           \n",
       "205  Reciprocating                        ...                           \n",
       "217  Reciprocating                        ...                           \n",
       "\n",
       "    RegistrationNumber    ReportStatus Schedule TotalFatalInjuries  \\\n",
       "175             N133VU  Probable Cause                               \n",
       "183             N58397  Probable Cause                               \n",
       "203             N735JB  Probable Cause                               \n",
       "205              N31CS  Probable Cause                               \n",
       "217             C-GDYN  Probable Cause                               \n",
       "\n",
       "    TotalMinorInjuries TotalSeriousInjuries TotalUninjured WeatherCondition  \\\n",
       "175                                                      1              VMC   \n",
       "183                                                      2              VMC   \n",
       "203                                                      2              VMC   \n",
       "205                  1                                                  VMC   \n",
       "217                  1                                                  VMC   \n",
       "\n",
       "                                             narrative  \\\n",
       "175  NTSB investigators used data provided by vario...   \n",
       "183  NTSB investigators used data provided by vario...   \n",
       "203  NTSB investigators used data provided by vario...   \n",
       "205  NTSB investigators used data provided by vario...   \n",
       "217  NTSB investigators used data provided by vario...   \n",
       "\n",
       "                                        probable_cause  \n",
       "175  The pilot's failure to maintain pitch control ...  \n",
       "183  The non-helicopter rated pilot's improper land...  \n",
       "203  The pilot's failure to maintain directional co...  \n",
       "205  The pilot's inaccurate fuel planning, which re...  \n",
       "217  The pilot's inadequate decision to continue th...  \n",
       "\n",
       "[5 rows x 33 columns]"
      ]
     },
     "execution_count": 105,
     "metadata": {},
     "output_type": "execute_result"
    }
   ],
   "source": [
    "df_pc.head()"
   ]
  },
  {
   "cell_type": "markdown",
   "metadata": {},
   "source": [
    "## Start Text Analysis"
   ]
  },
  {
   "cell_type": "code",
   "execution_count": 173,
   "metadata": {
    "collapsed": false
   },
   "outputs": [],
   "source": [
    "pc_list = df_pc['probable_cause'].tolist()\n",
    "pc_list = [i for i in pc_list]\n",
    "pc_string = str(''.join(pc_list))\n",
    "pc_string = unicode(pc_string, errors='replace')"
   ]
  },
  {
   "cell_type": "code",
   "execution_count": 177,
   "metadata": {
    "collapsed": false
   },
   "outputs": [],
   "source": [
    "pc_string = pc_string.replace(u\"\\u2018\", \"'\").replace(u\"\\u2019\", \"'\")"
   ]
  },
  {
   "cell_type": "code",
   "execution_count": 192,
   "metadata": {
    "collapsed": false
   },
   "outputs": [],
   "source": [
    "sw = stopwords.words('english')\n",
    "tokens = nltk.word_tokenize(pc_string)\n",
    "text = nltk.Text(tokens)\n",
    "words = [w.lower() for w in text if w.isalpha()]\n",
    "words = [w for w in words if w not in sw]"
   ]
  },
  {
   "cell_type": "code",
   "execution_count": 206,
   "metadata": {
    "collapsed": false
   },
   "outputs": [],
   "source": [
    "fd = nltk.FreqDist(words)\n",
    "bi_fd = nltk.FreqDist(nltk.bigrams(words))"
   ]
  },
  {
   "cell_type": "code",
   "execution_count": 214,
   "metadata": {
    "collapsed": false
   },
   "outputs": [
    {
     "data": {
      "text/plain": [
       "[(u'pilot', 41897),\n",
       " (u'failure', 28745),\n",
       " (u'landing', 17154),\n",
       " (u'maintain', 15560),\n",
       " (u'control', 12881),\n",
       " (u'loss', 12856),\n",
       " (u'resulted', 12614),\n",
       " (u'accident', 12037),\n",
       " (u'engine', 11589),\n",
       " (u'factor', 10112),\n",
       " (u'power', 9648),\n",
       " (u'fuel', 9482),\n",
       " (u'inadequate', 9131),\n",
       " (u'factors', 9069),\n",
       " (u'contributing', 8705),\n",
       " (u'flight', 8367),\n",
       " (u'airplane', 8048),\n",
       " (u'improper', 7994),\n",
       " (u'due', 7596),\n",
       " (u'terrain', 7433),\n",
       " (u'conditions', 6257),\n",
       " (u'aircraft', 5752),\n",
       " (u'directional', 5461),\n",
       " (u'resulting', 4973),\n",
       " (u'lack', 4789),\n",
       " (u'takeoff', 4635),\n",
       " (u'runway', 4552),\n",
       " (u'undetermined', 4339),\n",
       " (u'airspeed', 4004),\n",
       " (u'subsequent', 3827)]"
      ]
     },
     "execution_count": 214,
     "metadata": {},
     "output_type": "execute_result"
    }
   ],
   "source": [
    "fd.most_common(30)"
   ]
  },
  {
   "cell_type": "code",
   "execution_count": 198,
   "metadata": {
    "collapsed": true
   },
   "outputs": [],
   "source": [
    "bigram_measures = nltk.collocations.BigramAssocMeasures()"
   ]
  },
  {
   "cell_type": "code",
   "execution_count": 207,
   "metadata": {
    "collapsed": false
   },
   "outputs": [],
   "source": [
    "finder = BigramCollocationFinder(fd, bi_fd)"
   ]
  },
  {
   "cell_type": "code",
   "execution_count": 213,
   "metadata": {
    "collapsed": false
   },
   "outputs": [
    {
     "data": {
      "text/plain": [
       "[(u'accident', u'pilot'),\n",
       " (u'aircraft', u'control'),\n",
       " (u'contributing', u'accident'),\n",
       " (u'contributing', u'factor'),\n",
       " (u'contributing', u'factors'),\n",
       " (u'control', u'airplane'),\n",
       " (u'control', u'landing'),\n",
       " (u'directional', u'control'),\n",
       " (u'engine', u'power'),\n",
       " (u'factor', u'accident'),\n",
       " (u'failure', u'maintain'),\n",
       " (u'failure', u'pilot'),\n",
       " (u'forced', u'landing'),\n",
       " (u'fuel', u'exhaustion'),\n",
       " (u'inadequate', u'preflight'),\n",
       " (u'landing', u'gear'),\n",
       " (u'loss', u'control'),\n",
       " (u'loss', u'engine'),\n",
       " (u'maintain', u'adequate'),\n",
       " (u'maintain', u'clearance'),\n",
       " (u'maintain', u'directional'),\n",
       " (u'pilot', u'failure'),\n",
       " (u'pilot', u'improper'),\n",
       " (u'pilot', u'inadequate'),\n",
       " (u'pilot', u'maintain'),\n",
       " (u'power', u'due'),\n",
       " (u'power', u'undetermined'),\n",
       " (u'resulted', u'loss'),\n",
       " (u'student', u'pilot'),\n",
       " (u'undetermined', u'reasons')]"
      ]
     },
     "execution_count": 213,
     "metadata": {},
     "output_type": "execute_result"
    }
   ],
   "source": [
    "sorted(finder.nbest(bigram_measures.raw_freq, 30))"
   ]
  },
  {
   "cell_type": "markdown",
   "metadata": {},
   "source": [
    "While some of the bigram above doesn't exactly make sense grammatically, this happens because of the removal of stopwords. (aircraft,control) originally was most likely to be \"aircraft out of control\"."
   ]
  },
  {
   "cell_type": "code",
   "execution_count": 186,
   "metadata": {
    "collapsed": false
   },
   "outputs": [],
   "source": [
    "def ispilotfailure(x):\n",
    "    if ('pilot' in x.lower()) & ('failure' in x.lower()):\n",
    "        return 1"
   ]
  },
  {
   "cell_type": "code",
   "execution_count": 188,
   "metadata": {
    "collapsed": false
   },
   "outputs": [],
   "source": [
    "df_pc['pc'] = df_pc['probable_cause'].apply(ispilotfailure)"
   ]
  },
  {
   "cell_type": "code",
   "execution_count": 190,
   "metadata": {
    "collapsed": false
   },
   "outputs": [
    {
     "data": {
      "text/html": [
       "<div>\n",
       "<table border=\"1\" class=\"dataframe\">\n",
       "  <thead>\n",
       "    <tr style=\"text-align: right;\">\n",
       "      <th></th>\n",
       "      <th>AccidentNumber</th>\n",
       "      <th>AirCarrier</th>\n",
       "      <th>AircraftCategory</th>\n",
       "      <th>AircraftDamage</th>\n",
       "      <th>AirportCode</th>\n",
       "      <th>AirportName</th>\n",
       "      <th>AmateurBuilt</th>\n",
       "      <th>BroadPhaseOfFlight</th>\n",
       "      <th>Country</th>\n",
       "      <th>EngineType</th>\n",
       "      <th>...</th>\n",
       "      <th>ReportStatus</th>\n",
       "      <th>Schedule</th>\n",
       "      <th>TotalFatalInjuries</th>\n",
       "      <th>TotalMinorInjuries</th>\n",
       "      <th>TotalSeriousInjuries</th>\n",
       "      <th>TotalUninjured</th>\n",
       "      <th>WeatherCondition</th>\n",
       "      <th>narrative</th>\n",
       "      <th>probable_cause</th>\n",
       "      <th>pc</th>\n",
       "    </tr>\n",
       "  </thead>\n",
       "  <tbody>\n",
       "    <tr>\n",
       "      <th>175</th>\n",
       "      <td>GAA15CA208</td>\n",
       "      <td></td>\n",
       "      <td>Airplane</td>\n",
       "      <td>Substantial</td>\n",
       "      <td>OVO</td>\n",
       "      <td>NORTH VERNON</td>\n",
       "      <td>No</td>\n",
       "      <td>LANDING</td>\n",
       "      <td>United States</td>\n",
       "      <td>Reciprocating</td>\n",
       "      <td>...</td>\n",
       "      <td>Probable Cause</td>\n",
       "      <td></td>\n",
       "      <td></td>\n",
       "      <td></td>\n",
       "      <td></td>\n",
       "      <td>1</td>\n",
       "      <td>VMC</td>\n",
       "      <td>NTSB investigators used data provided by vario...</td>\n",
       "      <td>The pilot's failure to maintain pitch control ...</td>\n",
       "      <td>1.0</td>\n",
       "    </tr>\n",
       "    <tr>\n",
       "      <th>183</th>\n",
       "      <td>GAA15CA197</td>\n",
       "      <td></td>\n",
       "      <td>Helicopter</td>\n",
       "      <td>Substantial</td>\n",
       "      <td></td>\n",
       "      <td>N/A</td>\n",
       "      <td>No</td>\n",
       "      <td>LANDING</td>\n",
       "      <td>United States</td>\n",
       "      <td>Reciprocating</td>\n",
       "      <td>...</td>\n",
       "      <td>Probable Cause</td>\n",
       "      <td></td>\n",
       "      <td></td>\n",
       "      <td></td>\n",
       "      <td></td>\n",
       "      <td>2</td>\n",
       "      <td>VMC</td>\n",
       "      <td>NTSB investigators used data provided by vario...</td>\n",
       "      <td>The non-helicopter rated pilot's improper land...</td>\n",
       "      <td>NaN</td>\n",
       "    </tr>\n",
       "    <tr>\n",
       "      <th>203</th>\n",
       "      <td>GAA15CA189</td>\n",
       "      <td></td>\n",
       "      <td>Airplane</td>\n",
       "      <td>Substantial</td>\n",
       "      <td>U660</td>\n",
       "      <td>Hidden Splendor</td>\n",
       "      <td>No</td>\n",
       "      <td>TAKEOFF</td>\n",
       "      <td>United States</td>\n",
       "      <td>Reciprocating</td>\n",
       "      <td>...</td>\n",
       "      <td>Probable Cause</td>\n",
       "      <td></td>\n",
       "      <td></td>\n",
       "      <td></td>\n",
       "      <td></td>\n",
       "      <td>2</td>\n",
       "      <td>VMC</td>\n",
       "      <td>NTSB investigators used data provided by vario...</td>\n",
       "      <td>The pilot's failure to maintain directional co...</td>\n",
       "      <td>1.0</td>\n",
       "    </tr>\n",
       "    <tr>\n",
       "      <th>205</th>\n",
       "      <td>ERA15CA272</td>\n",
       "      <td></td>\n",
       "      <td>Airplane</td>\n",
       "      <td>Substantial</td>\n",
       "      <td>DVK</td>\n",
       "      <td>Stuart Powell Field</td>\n",
       "      <td>Yes</td>\n",
       "      <td>GO-AROUND</td>\n",
       "      <td>United States</td>\n",
       "      <td>Reciprocating</td>\n",
       "      <td>...</td>\n",
       "      <td>Probable Cause</td>\n",
       "      <td></td>\n",
       "      <td></td>\n",
       "      <td>1</td>\n",
       "      <td></td>\n",
       "      <td></td>\n",
       "      <td>VMC</td>\n",
       "      <td>NTSB investigators used data provided by vario...</td>\n",
       "      <td>The pilot's inaccurate fuel planning, which re...</td>\n",
       "      <td>NaN</td>\n",
       "    </tr>\n",
       "    <tr>\n",
       "      <th>217</th>\n",
       "      <td>WPR15CA214</td>\n",
       "      <td></td>\n",
       "      <td>Airplane</td>\n",
       "      <td>Substantial</td>\n",
       "      <td>K69S</td>\n",
       "      <td>Avey Field</td>\n",
       "      <td>No</td>\n",
       "      <td>LANDING</td>\n",
       "      <td>United States</td>\n",
       "      <td>Reciprocating</td>\n",
       "      <td>...</td>\n",
       "      <td>Probable Cause</td>\n",
       "      <td></td>\n",
       "      <td></td>\n",
       "      <td>1</td>\n",
       "      <td></td>\n",
       "      <td></td>\n",
       "      <td>VMC</td>\n",
       "      <td>NTSB investigators used data provided by vario...</td>\n",
       "      <td>The pilot's inadequate decision to continue th...</td>\n",
       "      <td>NaN</td>\n",
       "    </tr>\n",
       "  </tbody>\n",
       "</table>\n",
       "<p>5 rows × 34 columns</p>\n",
       "</div>"
      ],
      "text/plain": [
       "    AccidentNumber AirCarrier AircraftCategory AircraftDamage AirportCode  \\\n",
       "175     GAA15CA208                    Airplane    Substantial         OVO   \n",
       "183     GAA15CA197                  Helicopter    Substantial               \n",
       "203     GAA15CA189                    Airplane    Substantial        U660   \n",
       "205     ERA15CA272                    Airplane    Substantial         DVK   \n",
       "217     WPR15CA214                    Airplane    Substantial        K69S   \n",
       "\n",
       "             AirportName AmateurBuilt BroadPhaseOfFlight        Country  \\\n",
       "175         NORTH VERNON           No            LANDING  United States   \n",
       "183                  N/A           No            LANDING  United States   \n",
       "203      Hidden Splendor           No            TAKEOFF  United States   \n",
       "205  Stuart Powell Field          Yes          GO-AROUND  United States   \n",
       "217           Avey Field           No            LANDING  United States   \n",
       "\n",
       "        EngineType ...     ReportStatus Schedule TotalFatalInjuries  \\\n",
       "175  Reciprocating ...   Probable Cause                               \n",
       "183  Reciprocating ...   Probable Cause                               \n",
       "203  Reciprocating ...   Probable Cause                               \n",
       "205  Reciprocating ...   Probable Cause                               \n",
       "217  Reciprocating ...   Probable Cause                               \n",
       "\n",
       "    TotalMinorInjuries TotalSeriousInjuries TotalUninjured WeatherCondition  \\\n",
       "175                                                      1              VMC   \n",
       "183                                                      2              VMC   \n",
       "203                                                      2              VMC   \n",
       "205                  1                                                  VMC   \n",
       "217                  1                                                  VMC   \n",
       "\n",
       "                                             narrative  \\\n",
       "175  NTSB investigators used data provided by vario...   \n",
       "183  NTSB investigators used data provided by vario...   \n",
       "203  NTSB investigators used data provided by vario...   \n",
       "205  NTSB investigators used data provided by vario...   \n",
       "217  NTSB investigators used data provided by vario...   \n",
       "\n",
       "                                        probable_cause   pc  \n",
       "175  The pilot's failure to maintain pitch control ...  1.0  \n",
       "183  The non-helicopter rated pilot's improper land...  NaN  \n",
       "203  The pilot's failure to maintain directional co...  1.0  \n",
       "205  The pilot's inaccurate fuel planning, which re...  NaN  \n",
       "217  The pilot's inadequate decision to continue th...  NaN  \n",
       "\n",
       "[5 rows x 34 columns]"
      ]
     },
     "execution_count": 190,
     "metadata": {},
     "output_type": "execute_result"
    }
   ],
   "source": [
    "df_pc.head()"
   ]
  },
  {
   "cell_type": "code",
   "execution_count": 3,
   "metadata": {
    "collapsed": false,
    "scrolled": true
   },
   "outputs": [],
   "source": [
    "text = 'The failure of the compressor section No. 2 bearing due to false brinnelling and fatigue. This is the next sentence.'"
   ]
  },
  {
   "cell_type": "code",
   "execution_count": 4,
   "metadata": {
    "collapsed": true,
    "scrolled": true
   },
   "outputs": [],
   "source": [
    "sents = sent_tokenize(text)"
   ]
  },
  {
   "cell_type": "code",
   "execution_count": 5,
   "metadata": {
    "collapsed": false
   },
   "outputs": [
    {
     "data": {
      "text/plain": [
       "['The failure of the compressor section No.',\n",
       " '2 bearing due to false brinnelling and fatigue.',\n",
       " 'This is the next sentence.']"
      ]
     },
     "execution_count": 5,
     "metadata": {},
     "output_type": "execute_result"
    }
   ],
   "source": [
    "sents"
   ]
  },
  {
   "cell_type": "code",
   "execution_count": null,
   "metadata": {
    "collapsed": true
   },
   "outputs": [],
   "source": []
  }
 ],
 "metadata": {
  "kernelspec": {
   "display_name": "Python 2",
   "language": "python",
   "name": "python2"
  },
  "language_info": {
   "codemirror_mode": {
    "name": "ipython",
    "version": 2
   },
   "file_extension": ".py",
   "mimetype": "text/x-python",
   "name": "python",
   "nbconvert_exporter": "python",
   "pygments_lexer": "ipython2",
   "version": "2.7.10"
  }
 },
 "nbformat": 4,
 "nbformat_minor": 0
}
