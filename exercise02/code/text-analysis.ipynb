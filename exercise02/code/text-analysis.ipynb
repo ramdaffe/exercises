{
 "cells": [
  {
   "cell_type": "code",
   "execution_count": 2,
   "metadata": {
    "collapsed": false,
    "scrolled": true
   },
   "outputs": [
    {
     "name": "stderr",
     "output_type": "stream",
     "text": [
      "C:\\Anaconda2\\lib\\site-packages\\pandas\\computation\\__init__.py:19: UserWarning: The installed version of numexpr 2.4.4 is not supported in pandas and will be not be used\n",
      "\n",
      "  UserWarning)\n"
     ]
    }
   ],
   "source": [
    "%matplotlib inline\n",
    "import pandas as pd\n",
    "import numpy as np\n",
    "import json\n",
    "import xml.etree.ElementTree as et\n",
    "import nltk\n",
    "from nltk import sent_tokenize, word_tokenize, pos_tag\n",
    "from nltk.corpus import stopwords\n",
    "from nltk.collocations import *\n",
    "import os\n",
    "import sys"
   ]
  },
  {
   "cell_type": "code",
   "execution_count": 3,
   "metadata": {
    "collapsed": true
   },
   "outputs": [],
   "source": [
    "reload(sys)  \n",
    "sys.setdefaultencoding('utf8')"
   ]
  },
  {
   "cell_type": "code",
   "execution_count": 4,
   "metadata": {
    "collapsed": false
   },
   "outputs": [
    {
     "data": {
      "text/html": [
       "<div>\n",
       "<table border=\"1\" class=\"dataframe\">\n",
       "  <thead>\n",
       "    <tr style=\"text-align: right;\">\n",
       "      <th></th>\n",
       "      <th>AccidentNumber</th>\n",
       "      <th>AirCarrier</th>\n",
       "      <th>AircraftCategory</th>\n",
       "      <th>AircraftDamage</th>\n",
       "      <th>AirportCode</th>\n",
       "      <th>AirportName</th>\n",
       "      <th>AmateurBuilt</th>\n",
       "      <th>BroadPhaseOfFlight</th>\n",
       "      <th>Country</th>\n",
       "      <th>EngineType</th>\n",
       "      <th>...</th>\n",
       "      <th>PublicationDate</th>\n",
       "      <th>PurposeOfFlight</th>\n",
       "      <th>RegistrationNumber</th>\n",
       "      <th>ReportStatus</th>\n",
       "      <th>Schedule</th>\n",
       "      <th>TotalFatalInjuries</th>\n",
       "      <th>TotalMinorInjuries</th>\n",
       "      <th>TotalSeriousInjuries</th>\n",
       "      <th>TotalUninjured</th>\n",
       "      <th>WeatherCondition</th>\n",
       "    </tr>\n",
       "  </thead>\n",
       "  <tbody>\n",
       "    <tr>\n",
       "      <th>0</th>\n",
       "      <td>GAA15CA244</td>\n",
       "      <td></td>\n",
       "      <td></td>\n",
       "      <td></td>\n",
       "      <td></td>\n",
       "      <td></td>\n",
       "      <td></td>\n",
       "      <td></td>\n",
       "      <td>United States</td>\n",
       "      <td></td>\n",
       "      <td>...</td>\n",
       "      <td></td>\n",
       "      <td></td>\n",
       "      <td>N786AB</td>\n",
       "      <td>Preliminary</td>\n",
       "      <td></td>\n",
       "      <td></td>\n",
       "      <td></td>\n",
       "      <td></td>\n",
       "      <td></td>\n",
       "      <td></td>\n",
       "    </tr>\n",
       "    <tr>\n",
       "      <th>1</th>\n",
       "      <td>CEN15LA392</td>\n",
       "      <td></td>\n",
       "      <td>Airplane</td>\n",
       "      <td>Substantial</td>\n",
       "      <td>IWS</td>\n",
       "      <td>WEST HOUSTON</td>\n",
       "      <td>No</td>\n",
       "      <td>LANDING</td>\n",
       "      <td>United States</td>\n",
       "      <td></td>\n",
       "      <td>...</td>\n",
       "      <td>09/04/2015</td>\n",
       "      <td>Instructional</td>\n",
       "      <td>N452CS</td>\n",
       "      <td>Preliminary</td>\n",
       "      <td></td>\n",
       "      <td></td>\n",
       "      <td></td>\n",
       "      <td></td>\n",
       "      <td>2</td>\n",
       "      <td>VMC</td>\n",
       "    </tr>\n",
       "    <tr>\n",
       "      <th>2</th>\n",
       "      <td>GAA15CA246</td>\n",
       "      <td></td>\n",
       "      <td></td>\n",
       "      <td></td>\n",
       "      <td></td>\n",
       "      <td></td>\n",
       "      <td></td>\n",
       "      <td></td>\n",
       "      <td>United States</td>\n",
       "      <td></td>\n",
       "      <td>...</td>\n",
       "      <td></td>\n",
       "      <td></td>\n",
       "      <td>N112RP</td>\n",
       "      <td>Preliminary</td>\n",
       "      <td></td>\n",
       "      <td></td>\n",
       "      <td></td>\n",
       "      <td></td>\n",
       "      <td></td>\n",
       "      <td></td>\n",
       "    </tr>\n",
       "    <tr>\n",
       "      <th>3</th>\n",
       "      <td>GAA15CA243</td>\n",
       "      <td></td>\n",
       "      <td></td>\n",
       "      <td></td>\n",
       "      <td></td>\n",
       "      <td></td>\n",
       "      <td></td>\n",
       "      <td></td>\n",
       "      <td>United States</td>\n",
       "      <td></td>\n",
       "      <td>...</td>\n",
       "      <td></td>\n",
       "      <td></td>\n",
       "      <td>N8404X</td>\n",
       "      <td>Preliminary</td>\n",
       "      <td></td>\n",
       "      <td></td>\n",
       "      <td></td>\n",
       "      <td></td>\n",
       "      <td></td>\n",
       "      <td></td>\n",
       "    </tr>\n",
       "    <tr>\n",
       "      <th>4</th>\n",
       "      <td>GAA15CA242</td>\n",
       "      <td></td>\n",
       "      <td></td>\n",
       "      <td></td>\n",
       "      <td></td>\n",
       "      <td></td>\n",
       "      <td></td>\n",
       "      <td></td>\n",
       "      <td>United States</td>\n",
       "      <td></td>\n",
       "      <td>...</td>\n",
       "      <td></td>\n",
       "      <td></td>\n",
       "      <td>N5255G</td>\n",
       "      <td>Preliminary</td>\n",
       "      <td></td>\n",
       "      <td></td>\n",
       "      <td></td>\n",
       "      <td></td>\n",
       "      <td></td>\n",
       "      <td></td>\n",
       "    </tr>\n",
       "  </tbody>\n",
       "</table>\n",
       "<p>5 rows × 31 columns</p>\n",
       "</div>"
      ],
      "text/plain": [
       "  AccidentNumber AirCarrier AircraftCategory AircraftDamage AirportCode  \\\n",
       "0     GAA15CA244                                                          \n",
       "1     CEN15LA392                    Airplane    Substantial         IWS   \n",
       "2     GAA15CA246                                                          \n",
       "3     GAA15CA243                                                          \n",
       "4     GAA15CA242                                                          \n",
       "\n",
       "    AirportName AmateurBuilt BroadPhaseOfFlight        Country EngineType  \\\n",
       "0                                                United States              \n",
       "1  WEST HOUSTON           No            LANDING  United States              \n",
       "2                                                United States              \n",
       "3                                                United States              \n",
       "4                                                United States              \n",
       "\n",
       "        ...        PublicationDate PurposeOfFlight RegistrationNumber  \\\n",
       "0       ...                                                    N786AB   \n",
       "1       ...             09/04/2015   Instructional             N452CS   \n",
       "2       ...                                                    N112RP   \n",
       "3       ...                                                    N8404X   \n",
       "4       ...                                                    N5255G   \n",
       "\n",
       "  ReportStatus Schedule TotalFatalInjuries TotalMinorInjuries  \\\n",
       "0  Preliminary                                                  \n",
       "1  Preliminary                                                  \n",
       "2  Preliminary                                                  \n",
       "3  Preliminary                                                  \n",
       "4  Preliminary                                                  \n",
       "\n",
       "  TotalSeriousInjuries TotalUninjured WeatherCondition  \n",
       "0                                                       \n",
       "1                                   2              VMC  \n",
       "2                                                       \n",
       "3                                                       \n",
       "4                                                       \n",
       "\n",
       "[5 rows x 31 columns]"
      ]
     },
     "execution_count": 4,
     "metadata": {},
     "output_type": "execute_result"
    }
   ],
   "source": [
    "#load xml to dataframe\n",
    "tree = et.parse(\"../data/AviationData.xml\")\n",
    "root = tree.getroot()\n",
    "events_list = [i.attrib for i in root[0]]\n",
    "df_events = pd.DataFrame(events_list)\n",
    "df_events.head()"
   ]
  },
  {
   "cell_type": "code",
   "execution_count": 5,
   "metadata": {
    "collapsed": false
   },
   "outputs": [],
   "source": [
    "nar_list = []\n",
    "filelist = [name for name in os.listdir(\"../data/\") if name.endswith(\".json\")]\n",
    "for f in filelist:\n",
    "    with open(os.path.join(\"../data/\", f)) as json_file:\n",
    "        j = json.load(json_file)['data']\n",
    "        nar_list += j\n",
    "df_nar = pd.DataFrame(nar_list)"
   ]
  },
  {
   "cell_type": "code",
   "execution_count": 6,
   "metadata": {
    "collapsed": false
   },
   "outputs": [],
   "source": [
    "df_combined = pd.merge(df_events, df_nar,how='left',on='EventId')"
   ]
  },
  {
   "cell_type": "code",
   "execution_count": 7,
   "metadata": {
    "collapsed": false
   },
   "outputs": [
    {
     "data": {
      "text/plain": [
       "(77257, 33)"
      ]
     },
     "execution_count": 7,
     "metadata": {},
     "output_type": "execute_result"
    }
   ],
   "source": [
    "df_combined.shape"
   ]
  },
  {
   "cell_type": "code",
   "execution_count": 8,
   "metadata": {
    "collapsed": false
   },
   "outputs": [],
   "source": [
    "#filter only records with probable cause\n",
    "df_pc = df_combined[(df_combined['probable_cause']!='')]"
   ]
  },
  {
   "cell_type": "code",
   "execution_count": 9,
   "metadata": {
    "collapsed": false
   },
   "outputs": [
    {
     "data": {
      "text/plain": [
       "(50503, 33)"
      ]
     },
     "execution_count": 9,
     "metadata": {},
     "output_type": "execute_result"
    }
   ],
   "source": [
    "df_pc.shape"
   ]
  },
  {
   "cell_type": "code",
   "execution_count": 10,
   "metadata": {
    "collapsed": false,
    "scrolled": true
   },
   "outputs": [
    {
     "data": {
      "text/html": [
       "<div>\n",
       "<table border=\"1\" class=\"dataframe\">\n",
       "  <thead>\n",
       "    <tr style=\"text-align: right;\">\n",
       "      <th></th>\n",
       "      <th>AccidentNumber</th>\n",
       "      <th>AirCarrier</th>\n",
       "      <th>AircraftCategory</th>\n",
       "      <th>AircraftDamage</th>\n",
       "      <th>AirportCode</th>\n",
       "      <th>AirportName</th>\n",
       "      <th>AmateurBuilt</th>\n",
       "      <th>BroadPhaseOfFlight</th>\n",
       "      <th>Country</th>\n",
       "      <th>EngineType</th>\n",
       "      <th>...</th>\n",
       "      <th>RegistrationNumber</th>\n",
       "      <th>ReportStatus</th>\n",
       "      <th>Schedule</th>\n",
       "      <th>TotalFatalInjuries</th>\n",
       "      <th>TotalMinorInjuries</th>\n",
       "      <th>TotalSeriousInjuries</th>\n",
       "      <th>TotalUninjured</th>\n",
       "      <th>WeatherCondition</th>\n",
       "      <th>narrative</th>\n",
       "      <th>probable_cause</th>\n",
       "    </tr>\n",
       "  </thead>\n",
       "  <tbody>\n",
       "    <tr>\n",
       "      <th>175</th>\n",
       "      <td>GAA15CA208</td>\n",
       "      <td></td>\n",
       "      <td>Airplane</td>\n",
       "      <td>Substantial</td>\n",
       "      <td>OVO</td>\n",
       "      <td>NORTH VERNON</td>\n",
       "      <td>No</td>\n",
       "      <td>LANDING</td>\n",
       "      <td>United States</td>\n",
       "      <td>Reciprocating</td>\n",
       "      <td>...</td>\n",
       "      <td>N133VU</td>\n",
       "      <td>Probable Cause</td>\n",
       "      <td></td>\n",
       "      <td></td>\n",
       "      <td></td>\n",
       "      <td></td>\n",
       "      <td>1</td>\n",
       "      <td>VMC</td>\n",
       "      <td>NTSB investigators used data provided by vario...</td>\n",
       "      <td>The pilot's failure to maintain pitch control ...</td>\n",
       "    </tr>\n",
       "    <tr>\n",
       "      <th>183</th>\n",
       "      <td>GAA15CA197</td>\n",
       "      <td></td>\n",
       "      <td>Helicopter</td>\n",
       "      <td>Substantial</td>\n",
       "      <td></td>\n",
       "      <td>N/A</td>\n",
       "      <td>No</td>\n",
       "      <td>LANDING</td>\n",
       "      <td>United States</td>\n",
       "      <td>Reciprocating</td>\n",
       "      <td>...</td>\n",
       "      <td>N58397</td>\n",
       "      <td>Probable Cause</td>\n",
       "      <td></td>\n",
       "      <td></td>\n",
       "      <td></td>\n",
       "      <td></td>\n",
       "      <td>2</td>\n",
       "      <td>VMC</td>\n",
       "      <td>NTSB investigators used data provided by vario...</td>\n",
       "      <td>The non-helicopter rated pilot's improper land...</td>\n",
       "    </tr>\n",
       "    <tr>\n",
       "      <th>203</th>\n",
       "      <td>GAA15CA189</td>\n",
       "      <td></td>\n",
       "      <td>Airplane</td>\n",
       "      <td>Substantial</td>\n",
       "      <td>U660</td>\n",
       "      <td>Hidden Splendor</td>\n",
       "      <td>No</td>\n",
       "      <td>TAKEOFF</td>\n",
       "      <td>United States</td>\n",
       "      <td>Reciprocating</td>\n",
       "      <td>...</td>\n",
       "      <td>N735JB</td>\n",
       "      <td>Probable Cause</td>\n",
       "      <td></td>\n",
       "      <td></td>\n",
       "      <td></td>\n",
       "      <td></td>\n",
       "      <td>2</td>\n",
       "      <td>VMC</td>\n",
       "      <td>NTSB investigators used data provided by vario...</td>\n",
       "      <td>The pilot's failure to maintain directional co...</td>\n",
       "    </tr>\n",
       "    <tr>\n",
       "      <th>205</th>\n",
       "      <td>ERA15CA272</td>\n",
       "      <td></td>\n",
       "      <td>Airplane</td>\n",
       "      <td>Substantial</td>\n",
       "      <td>DVK</td>\n",
       "      <td>Stuart Powell Field</td>\n",
       "      <td>Yes</td>\n",
       "      <td>GO-AROUND</td>\n",
       "      <td>United States</td>\n",
       "      <td>Reciprocating</td>\n",
       "      <td>...</td>\n",
       "      <td>N31CS</td>\n",
       "      <td>Probable Cause</td>\n",
       "      <td></td>\n",
       "      <td></td>\n",
       "      <td>1</td>\n",
       "      <td></td>\n",
       "      <td></td>\n",
       "      <td>VMC</td>\n",
       "      <td>NTSB investigators used data provided by vario...</td>\n",
       "      <td>The pilot's inaccurate fuel planning, which re...</td>\n",
       "    </tr>\n",
       "    <tr>\n",
       "      <th>217</th>\n",
       "      <td>WPR15CA214</td>\n",
       "      <td></td>\n",
       "      <td>Airplane</td>\n",
       "      <td>Substantial</td>\n",
       "      <td>K69S</td>\n",
       "      <td>Avey Field</td>\n",
       "      <td>No</td>\n",
       "      <td>LANDING</td>\n",
       "      <td>United States</td>\n",
       "      <td>Reciprocating</td>\n",
       "      <td>...</td>\n",
       "      <td>C-GDYN</td>\n",
       "      <td>Probable Cause</td>\n",
       "      <td></td>\n",
       "      <td></td>\n",
       "      <td>1</td>\n",
       "      <td></td>\n",
       "      <td></td>\n",
       "      <td>VMC</td>\n",
       "      <td>NTSB investigators used data provided by vario...</td>\n",
       "      <td>The pilot's inadequate decision to continue th...</td>\n",
       "    </tr>\n",
       "  </tbody>\n",
       "</table>\n",
       "<p>5 rows × 33 columns</p>\n",
       "</div>"
      ],
      "text/plain": [
       "    AccidentNumber AirCarrier AircraftCategory AircraftDamage AirportCode  \\\n",
       "175     GAA15CA208                    Airplane    Substantial         OVO   \n",
       "183     GAA15CA197                  Helicopter    Substantial               \n",
       "203     GAA15CA189                    Airplane    Substantial        U660   \n",
       "205     ERA15CA272                    Airplane    Substantial         DVK   \n",
       "217     WPR15CA214                    Airplane    Substantial        K69S   \n",
       "\n",
       "             AirportName AmateurBuilt BroadPhaseOfFlight        Country  \\\n",
       "175         NORTH VERNON           No            LANDING  United States   \n",
       "183                  N/A           No            LANDING  United States   \n",
       "203      Hidden Splendor           No            TAKEOFF  United States   \n",
       "205  Stuart Powell Field          Yes          GO-AROUND  United States   \n",
       "217           Avey Field           No            LANDING  United States   \n",
       "\n",
       "        EngineType                        ...                          \\\n",
       "175  Reciprocating                        ...                           \n",
       "183  Reciprocating                        ...                           \n",
       "203  Reciprocating                        ...                           \n",
       "205  Reciprocating                        ...                           \n",
       "217  Reciprocating                        ...                           \n",
       "\n",
       "    RegistrationNumber    ReportStatus Schedule TotalFatalInjuries  \\\n",
       "175             N133VU  Probable Cause                               \n",
       "183             N58397  Probable Cause                               \n",
       "203             N735JB  Probable Cause                               \n",
       "205              N31CS  Probable Cause                               \n",
       "217             C-GDYN  Probable Cause                               \n",
       "\n",
       "    TotalMinorInjuries TotalSeriousInjuries TotalUninjured WeatherCondition  \\\n",
       "175                                                      1              VMC   \n",
       "183                                                      2              VMC   \n",
       "203                                                      2              VMC   \n",
       "205                  1                                                  VMC   \n",
       "217                  1                                                  VMC   \n",
       "\n",
       "                                             narrative  \\\n",
       "175  NTSB investigators used data provided by vario...   \n",
       "183  NTSB investigators used data provided by vario...   \n",
       "203  NTSB investigators used data provided by vario...   \n",
       "205  NTSB investigators used data provided by vario...   \n",
       "217  NTSB investigators used data provided by vario...   \n",
       "\n",
       "                                        probable_cause  \n",
       "175  The pilot's failure to maintain pitch control ...  \n",
       "183  The non-helicopter rated pilot's improper land...  \n",
       "203  The pilot's failure to maintain directional co...  \n",
       "205  The pilot's inaccurate fuel planning, which re...  \n",
       "217  The pilot's inadequate decision to continue th...  \n",
       "\n",
       "[5 rows x 33 columns]"
      ]
     },
     "execution_count": 10,
     "metadata": {},
     "output_type": "execute_result"
    }
   ],
   "source": [
    "df_pc.head()"
   ]
  },
  {
   "cell_type": "markdown",
   "metadata": {},
   "source": [
    "## Overall Text Analysis"
   ]
  },
  {
   "cell_type": "code",
   "execution_count": 11,
   "metadata": {
    "collapsed": false
   },
   "outputs": [],
   "source": [
    "pc_list = df_pc['probable_cause'].tolist()\n",
    "pc_list = [i for i in pc_list]\n",
    "pc_string = str(''.join(pc_list))\n",
    "pc_string = unicode(pc_string, errors='replace')"
   ]
  },
  {
   "cell_type": "code",
   "execution_count": 12,
   "metadata": {
    "collapsed": false
   },
   "outputs": [],
   "source": [
    "pc_string = pc_string.replace(u\"\\u2018\", \"'\").replace(u\"\\u2019\", \"'\")"
   ]
  },
  {
   "cell_type": "code",
   "execution_count": 13,
   "metadata": {
    "collapsed": false
   },
   "outputs": [],
   "source": [
    "sw = stopwords.words('english')\n",
    "tokens = nltk.word_tokenize(pc_string)\n",
    "text = nltk.Text(tokens)\n",
    "words = [w.lower() for w in text if w.isalpha()]\n",
    "words = [w for w in words if w not in sw]"
   ]
  },
  {
   "cell_type": "code",
   "execution_count": 14,
   "metadata": {
    "collapsed": false
   },
   "outputs": [],
   "source": [
    "#words and bigram\n",
    "fd = nltk.FreqDist(words)\n",
    "bi_fd = nltk.FreqDist(nltk.bigrams(words))"
   ]
  },
  {
   "cell_type": "code",
   "execution_count": 15,
   "metadata": {
    "collapsed": false
   },
   "outputs": [
    {
     "data": {
      "text/plain": [
       "[(u'pilot', 41897),\n",
       " (u'failure', 28745),\n",
       " (u'landing', 17154),\n",
       " (u'maintain', 15560),\n",
       " (u'control', 12881),\n",
       " (u'loss', 12856),\n",
       " (u'resulted', 12614),\n",
       " (u'accident', 12037),\n",
       " (u'engine', 11589),\n",
       " (u'factor', 10112),\n",
       " (u'power', 9648),\n",
       " (u'fuel', 9482),\n",
       " (u'inadequate', 9131),\n",
       " (u'factors', 9069),\n",
       " (u'contributing', 8705),\n",
       " (u'flight', 8367),\n",
       " (u'airplane', 8048),\n",
       " (u'improper', 7994),\n",
       " (u'due', 7596),\n",
       " (u'terrain', 7433),\n",
       " (u'conditions', 6257),\n",
       " (u'aircraft', 5752),\n",
       " (u'directional', 5461),\n",
       " (u'resulting', 4973),\n",
       " (u'lack', 4789),\n",
       " (u'takeoff', 4635),\n",
       " (u'runway', 4552),\n",
       " (u'undetermined', 4339),\n",
       " (u'airspeed', 4004),\n",
       " (u'subsequent', 3827)]"
      ]
     },
     "execution_count": 15,
     "metadata": {},
     "output_type": "execute_result"
    }
   ],
   "source": [
    "fd.most_common(30)"
   ]
  },
  {
   "cell_type": "code",
   "execution_count": 16,
   "metadata": {
    "collapsed": true
   },
   "outputs": [],
   "source": [
    "bigram_measures = nltk.collocations.BigramAssocMeasures()"
   ]
  },
  {
   "cell_type": "code",
   "execution_count": 17,
   "metadata": {
    "collapsed": false
   },
   "outputs": [],
   "source": [
    "finder = BigramCollocationFinder(fd, bi_fd)"
   ]
  },
  {
   "cell_type": "code",
   "execution_count": 18,
   "metadata": {
    "collapsed": false
   },
   "outputs": [
    {
     "data": {
      "text/plain": [
       "[(u'pilot', u'failure'),\n",
       " (u'failure', u'maintain'),\n",
       " (u'loss', u'engine'),\n",
       " (u'engine', u'power'),\n",
       " (u'directional', u'control'),\n",
       " (u'contributing', u'accident'),\n",
       " (u'maintain', u'directional'),\n",
       " (u'pilot', u'inadequate'),\n",
       " (u'pilot', u'improper'),\n",
       " (u'accident', u'pilot'),\n",
       " (u'power', u'due'),\n",
       " (u'forced', u'landing'),\n",
       " (u'failure', u'pilot'),\n",
       " (u'maintain', u'adequate'),\n",
       " (u'landing', u'gear'),\n",
       " (u'student', u'pilot'),\n",
       " (u'undetermined', u'reasons'),\n",
       " (u'control', u'airplane'),\n",
       " (u'factor', u'accident'),\n",
       " (u'fuel', u'exhaustion'),\n",
       " (u'control', u'landing'),\n",
       " (u'power', u'undetermined'),\n",
       " (u'contributing', u'factor'),\n",
       " (u'pilot', u'maintain'),\n",
       " (u'inadequate', u'preflight'),\n",
       " (u'contributing', u'factors'),\n",
       " (u'aircraft', u'control'),\n",
       " (u'loss', u'control'),\n",
       " (u'resulted', u'loss'),\n",
       " (u'maintain', u'clearance')]"
      ]
     },
     "execution_count": 18,
     "metadata": {},
     "output_type": "execute_result"
    }
   ],
   "source": [
    "finder.nbest(bigram_measures.raw_freq,30)"
   ]
  },
  {
   "cell_type": "markdown",
   "metadata": {},
   "source": [
    "While some of the bigram above doesn't exactly make sense grammatically, this happens because of the removal of stopwords. (aircraft,control) originally was most likely to be \"aircraft out of control\"."
   ]
  },
  {
   "cell_type": "markdown",
   "metadata": {},
   "source": [
    "## Apply tokenization to Dataframe"
   ]
  },
  {
   "cell_type": "code",
   "execution_count": 19,
   "metadata": {
    "collapsed": false
   },
   "outputs": [],
   "source": [
    "#create a common tokenization function\n",
    "def colTokenize(x):\n",
    "    text = nltk.Text(nltk.word_tokenize(x.replace(u\"\\u2018\", \"'\").replace(u\"\\u2019\", \"'\")))\n",
    "    #remove numeric and punctuation\n",
    "    words = [w.lower() for w in text if w.isalpha()]\n",
    "    #remove stopwords\n",
    "    words = [w for w in words if w not in sw]\n",
    "    return words"
   ]
  },
  {
   "cell_type": "code",
   "execution_count": 20,
   "metadata": {
    "collapsed": true
   },
   "outputs": [],
   "source": [
    "df_pc['pc_tokens'] = df_pc['probable_cause'].apply(lambda x: colTokenize(x))"
   ]
  },
  {
   "cell_type": "code",
   "execution_count": 21,
   "metadata": {
    "collapsed": false
   },
   "outputs": [],
   "source": [
    "df_pc['pc_bigram'] = df_pc['pc_tokens'].apply(lambda x: list(nltk.bigrams(x)))"
   ]
  },
  {
   "cell_type": "code",
   "execution_count": 22,
   "metadata": {
    "collapsed": false
   },
   "outputs": [
    {
     "data": {
      "text/plain": [
       "175    [(pilot, failure), (failure, maintain), (maint...\n",
       "183    [(rated, pilot), (pilot, improper), (improper,...\n",
       "203    [(pilot, failure), (failure, maintain), (maint...\n",
       "205    [(pilot, inaccurate), (inaccurate, fuel), (fue...\n",
       "217    [(pilot, inadequate), (inadequate, decision), ...\n",
       "Name: pc_bigram, dtype: object"
      ]
     },
     "execution_count": 22,
     "metadata": {},
     "output_type": "execute_result"
    }
   ],
   "source": [
    "df_pc['pc_bigram'].head()"
   ]
  },
  {
   "cell_type": "markdown",
   "metadata": {},
   "source": [
    "Based on the bigram generated from the overall text, accidents where pilot error is a contributing factor can be detected based on the phrase \"pilot failure\",\"pilot inadequate\", and \"pilot improper\"."
   ]
  },
  {
   "cell_type": "code",
   "execution_count": 23,
   "metadata": {
    "collapsed": false
   },
   "outputs": [],
   "source": [
    "def isinwords(x,words):\n",
    "    found = [b for b in x if b in words]\n",
    "    if found:\n",
    "        return 1"
   ]
  },
  {
   "cell_type": "code",
   "execution_count": 24,
   "metadata": {
    "collapsed": false
   },
   "outputs": [],
   "source": [
    "#pc_pilot = [('pilot','inadequate'),('pilot','failure'),('pilot','improper')]\n",
    "#test for token\n",
    "df_pc['factor_human'] = df_pc['pc_tokens'].apply(lambda x: isinwords(x,['pilot','pilots','instructor']))"
   ]
  },
  {
   "cell_type": "code",
   "execution_count": 25,
   "metadata": {
    "collapsed": false
   },
   "outputs": [
    {
     "data": {
      "text/plain": [
       "36048.0"
      ]
     },
     "execution_count": 25,
     "metadata": {},
     "output_type": "execute_result"
    }
   ],
   "source": [
    "df_pc[(df_pc['factor_human']==1)]['factor_human'].sum()"
   ]
  },
  {
   "cell_type": "markdown",
   "metadata": {},
   "source": [
    "### Finding\n",
    "Out of 50,503 records of probable cause, human factor is involved in 36,048 (71%) of them!  "
   ]
  },
  {
   "cell_type": "code",
   "execution_count": null,
   "metadata": {
    "collapsed": true
   },
   "outputs": [],
   "source": []
  }
 ],
 "metadata": {
  "kernelspec": {
   "display_name": "Python 2",
   "language": "python",
   "name": "python2"
  },
  "language_info": {
   "codemirror_mode": {
    "name": "ipython",
    "version": 2
   },
   "file_extension": ".py",
   "mimetype": "text/x-python",
   "name": "python",
   "nbconvert_exporter": "python",
   "pygments_lexer": "ipython2",
   "version": "2.7.12"
  }
 },
 "nbformat": 4,
 "nbformat_minor": 0
}
