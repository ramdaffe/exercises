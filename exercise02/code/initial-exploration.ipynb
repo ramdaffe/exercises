{
 "cells": [
  {
   "cell_type": "code",
   "execution_count": 1,
   "metadata": {
    "collapsed": false
   },
   "outputs": [
    {
     "name": "stderr",
     "output_type": "stream",
     "text": [
      "C:\\Anaconda2\\lib\\site-packages\\pandas\\computation\\__init__.py:19: UserWarning: The installed version of numexpr 2.4.4 is not supported in pandas and will be not be used\n",
      "\n",
      "  UserWarning)\n"
     ]
    }
   ],
   "source": [
    "%matplotlib inline\n",
    "import pandas as pd\n",
    "import numpy as np\n",
    "import json\n",
    "import xml.etree.ElementTree as et\n",
    "import matplotlib.pyplot as plt\n",
    "import seaborn as sns"
   ]
  },
  {
   "cell_type": "code",
   "execution_count": 2,
   "metadata": {
    "collapsed": false
   },
   "outputs": [],
   "source": [
    "tree = et.parse(\"../data/AviationData.xml\")"
   ]
  },
  {
   "cell_type": "code",
   "execution_count": 3,
   "metadata": {
    "collapsed": false
   },
   "outputs": [
    {
     "data": {
      "text/plain": [
       "77257"
      ]
     },
     "execution_count": 3,
     "metadata": {},
     "output_type": "execute_result"
    }
   ],
   "source": [
    "root = tree.getroot()\n",
    "#check the number of child element\n",
    "len(root[0])"
   ]
  },
  {
   "cell_type": "code",
   "execution_count": 4,
   "metadata": {
    "collapsed": false
   },
   "outputs": [
    {
     "data": {
      "text/plain": [
       "{'AccidentNumber': 'ERA15CA086',\n",
       " 'AirCarrier': '',\n",
       " 'AircraftCategory': 'Airplane',\n",
       " 'AircraftDamage': 'Substantial',\n",
       " 'AirportCode': '2A5',\n",
       " 'AirportName': 'CAUSEY',\n",
       " 'AmateurBuilt': 'No',\n",
       " 'BroadPhaseOfFlight': 'LANDING',\n",
       " 'Country': 'United States',\n",
       " 'EngineType': 'Reciprocating',\n",
       " 'EventDate': '12/27/2014',\n",
       " 'EventId': '20141230X10247',\n",
       " 'FARDescription': 'Part 91: General Aviation',\n",
       " 'InjurySeverity': 'Non-Fatal',\n",
       " 'InvestigationType': 'Accident',\n",
       " 'Latitude': '35.911667',\n",
       " 'Location': 'Liberty, NC',\n",
       " 'Longitude': '-79.617778',\n",
       " 'Make': 'CESSNA',\n",
       " 'Model': '310N',\n",
       " 'NumberOfEngines': '2',\n",
       " 'PublicationDate': '06/09/2015',\n",
       " 'PurposeOfFlight': 'Personal',\n",
       " 'RegistrationNumber': 'N177JD',\n",
       " 'ReportStatus': 'Probable Cause',\n",
       " 'Schedule': '',\n",
       " 'TotalFatalInjuries': '',\n",
       " 'TotalMinorInjuries': '',\n",
       " 'TotalSeriousInjuries': '',\n",
       " 'TotalUninjured': '2',\n",
       " 'WeatherCondition': 'VMC'}"
      ]
     },
     "execution_count": 4,
     "metadata": {},
     "output_type": "execute_result"
    }
   ],
   "source": [
    "#test\n",
    "root[0][1000].attrib"
   ]
  },
  {
   "cell_type": "code",
   "execution_count": 5,
   "metadata": {
    "collapsed": false,
    "scrolled": true
   },
   "outputs": [
    {
     "data": {
      "text/html": [
       "<div>\n",
       "<table border=\"1\" class=\"dataframe\">\n",
       "  <thead>\n",
       "    <tr style=\"text-align: right;\">\n",
       "      <th></th>\n",
       "      <th>AccidentNumber</th>\n",
       "      <th>AirCarrier</th>\n",
       "      <th>AircraftCategory</th>\n",
       "      <th>AircraftDamage</th>\n",
       "      <th>AirportCode</th>\n",
       "      <th>AirportName</th>\n",
       "      <th>AmateurBuilt</th>\n",
       "      <th>BroadPhaseOfFlight</th>\n",
       "      <th>Country</th>\n",
       "      <th>EngineType</th>\n",
       "      <th>...</th>\n",
       "      <th>PublicationDate</th>\n",
       "      <th>PurposeOfFlight</th>\n",
       "      <th>RegistrationNumber</th>\n",
       "      <th>ReportStatus</th>\n",
       "      <th>Schedule</th>\n",
       "      <th>TotalFatalInjuries</th>\n",
       "      <th>TotalMinorInjuries</th>\n",
       "      <th>TotalSeriousInjuries</th>\n",
       "      <th>TotalUninjured</th>\n",
       "      <th>WeatherCondition</th>\n",
       "    </tr>\n",
       "  </thead>\n",
       "  <tbody>\n",
       "    <tr>\n",
       "      <th>0</th>\n",
       "      <td>GAA15CA244</td>\n",
       "      <td></td>\n",
       "      <td></td>\n",
       "      <td></td>\n",
       "      <td></td>\n",
       "      <td></td>\n",
       "      <td></td>\n",
       "      <td></td>\n",
       "      <td>United States</td>\n",
       "      <td></td>\n",
       "      <td>...</td>\n",
       "      <td></td>\n",
       "      <td></td>\n",
       "      <td>N786AB</td>\n",
       "      <td>Preliminary</td>\n",
       "      <td></td>\n",
       "      <td></td>\n",
       "      <td></td>\n",
       "      <td></td>\n",
       "      <td></td>\n",
       "      <td></td>\n",
       "    </tr>\n",
       "    <tr>\n",
       "      <th>1</th>\n",
       "      <td>CEN15LA392</td>\n",
       "      <td></td>\n",
       "      <td>Airplane</td>\n",
       "      <td>Substantial</td>\n",
       "      <td>IWS</td>\n",
       "      <td>WEST HOUSTON</td>\n",
       "      <td>No</td>\n",
       "      <td>LANDING</td>\n",
       "      <td>United States</td>\n",
       "      <td></td>\n",
       "      <td>...</td>\n",
       "      <td>09/04/2015</td>\n",
       "      <td>Instructional</td>\n",
       "      <td>N452CS</td>\n",
       "      <td>Preliminary</td>\n",
       "      <td></td>\n",
       "      <td></td>\n",
       "      <td></td>\n",
       "      <td></td>\n",
       "      <td>2</td>\n",
       "      <td>VMC</td>\n",
       "    </tr>\n",
       "    <tr>\n",
       "      <th>2</th>\n",
       "      <td>GAA15CA246</td>\n",
       "      <td></td>\n",
       "      <td></td>\n",
       "      <td></td>\n",
       "      <td></td>\n",
       "      <td></td>\n",
       "      <td></td>\n",
       "      <td></td>\n",
       "      <td>United States</td>\n",
       "      <td></td>\n",
       "      <td>...</td>\n",
       "      <td></td>\n",
       "      <td></td>\n",
       "      <td>N112RP</td>\n",
       "      <td>Preliminary</td>\n",
       "      <td></td>\n",
       "      <td></td>\n",
       "      <td></td>\n",
       "      <td></td>\n",
       "      <td></td>\n",
       "      <td></td>\n",
       "    </tr>\n",
       "    <tr>\n",
       "      <th>3</th>\n",
       "      <td>GAA15CA243</td>\n",
       "      <td></td>\n",
       "      <td></td>\n",
       "      <td></td>\n",
       "      <td></td>\n",
       "      <td></td>\n",
       "      <td></td>\n",
       "      <td></td>\n",
       "      <td>United States</td>\n",
       "      <td></td>\n",
       "      <td>...</td>\n",
       "      <td></td>\n",
       "      <td></td>\n",
       "      <td>N8404X</td>\n",
       "      <td>Preliminary</td>\n",
       "      <td></td>\n",
       "      <td></td>\n",
       "      <td></td>\n",
       "      <td></td>\n",
       "      <td></td>\n",
       "      <td></td>\n",
       "    </tr>\n",
       "    <tr>\n",
       "      <th>4</th>\n",
       "      <td>GAA15CA242</td>\n",
       "      <td></td>\n",
       "      <td></td>\n",
       "      <td></td>\n",
       "      <td></td>\n",
       "      <td></td>\n",
       "      <td></td>\n",
       "      <td></td>\n",
       "      <td>United States</td>\n",
       "      <td></td>\n",
       "      <td>...</td>\n",
       "      <td></td>\n",
       "      <td></td>\n",
       "      <td>N5255G</td>\n",
       "      <td>Preliminary</td>\n",
       "      <td></td>\n",
       "      <td></td>\n",
       "      <td></td>\n",
       "      <td></td>\n",
       "      <td></td>\n",
       "      <td></td>\n",
       "    </tr>\n",
       "  </tbody>\n",
       "</table>\n",
       "<p>5 rows × 31 columns</p>\n",
       "</div>"
      ],
      "text/plain": [
       "  AccidentNumber AirCarrier AircraftCategory AircraftDamage AirportCode  \\\n",
       "0     GAA15CA244                                                          \n",
       "1     CEN15LA392                    Airplane    Substantial         IWS   \n",
       "2     GAA15CA246                                                          \n",
       "3     GAA15CA243                                                          \n",
       "4     GAA15CA242                                                          \n",
       "\n",
       "    AirportName AmateurBuilt BroadPhaseOfFlight        Country EngineType  \\\n",
       "0                                                United States              \n",
       "1  WEST HOUSTON           No            LANDING  United States              \n",
       "2                                                United States              \n",
       "3                                                United States              \n",
       "4                                                United States              \n",
       "\n",
       "        ...        PublicationDate PurposeOfFlight RegistrationNumber  \\\n",
       "0       ...                                                    N786AB   \n",
       "1       ...             09/04/2015   Instructional             N452CS   \n",
       "2       ...                                                    N112RP   \n",
       "3       ...                                                    N8404X   \n",
       "4       ...                                                    N5255G   \n",
       "\n",
       "  ReportStatus Schedule TotalFatalInjuries TotalMinorInjuries  \\\n",
       "0  Preliminary                                                  \n",
       "1  Preliminary                                                  \n",
       "2  Preliminary                                                  \n",
       "3  Preliminary                                                  \n",
       "4  Preliminary                                                  \n",
       "\n",
       "  TotalSeriousInjuries TotalUninjured WeatherCondition  \n",
       "0                                                       \n",
       "1                                   2              VMC  \n",
       "2                                                       \n",
       "3                                                       \n",
       "4                                                       \n",
       "\n",
       "[5 rows x 31 columns]"
      ]
     },
     "execution_count": 5,
     "metadata": {},
     "output_type": "execute_result"
    }
   ],
   "source": [
    "#create a dataframe\n",
    "events_list = [i.attrib for i in root[0]]\n",
    "df_events = pd.DataFrame(events_list)\n",
    "df_events.head()"
   ]
  },
  {
   "cell_type": "markdown",
   "metadata": {},
   "source": [
    "## Clean-up"
   ]
  },
  {
   "cell_type": "markdown",
   "metadata": {},
   "source": [
    "The dataframe has one major problem: empty cells from XML are stored as '' instead of null. "
   ]
  },
  {
   "cell_type": "code",
   "execution_count": 6,
   "metadata": {
    "collapsed": true
   },
   "outputs": [],
   "source": [
    "df_events['EventDate'] = pd.to_datetime(df_events['EventDate'])\n",
    "df_events['PublicationDate'] = pd.to_datetime(df_events['PublicationDate'])"
   ]
  },
  {
   "cell_type": "code",
   "execution_count": 8,
   "metadata": {
    "collapsed": false
   },
   "outputs": [
    {
     "data": {
      "text/plain": [
       "array(['', 'Substantial', 'Minor', 'Destroyed'], dtype=object)"
      ]
     },
     "execution_count": 8,
     "metadata": {},
     "output_type": "execute_result"
    }
   ],
   "source": [
    "df_events['AircraftDamage'].unique()"
   ]
  },
  {
   "cell_type": "code",
   "execution_count": 67,
   "metadata": {
    "collapsed": false
   },
   "outputs": [
    {
     "data": {
      "text/plain": [
       "AccidentNumber           0.000000\n",
       "AirCarrier              95.058053\n",
       "AircraftCategory        78.616824\n",
       "AircraftDamage           3.085805\n",
       "AirportCode             43.724193\n",
       "AirportName             38.735649\n",
       "AmateurBuilt             0.846525\n",
       "BroadPhaseOfFlight       8.060111\n",
       "Country                  0.660134\n",
       "EngineType               4.153669\n",
       "EventDate                0.003883\n",
       "EventId                  0.000000\n",
       "FARDescription          78.429139\n",
       "InjurySeverity           0.137204\n",
       "InvestigationType        0.000000\n",
       "Latitude                69.244211\n",
       "Location                 0.104845\n",
       "Longitude               69.255860\n",
       "Make                     0.112611\n",
       "Model                    0.148854\n",
       "NumberOfEngines          5.075268\n",
       "PublicationDate         17.070298\n",
       "PurposeOfFlight          4.657183\n",
       "RegistrationNumber       3.567314\n",
       "ReportStatus             0.000000\n",
       "Schedule                85.271238\n",
       "TotalFatalInjuries      27.785185\n",
       "TotalMinorInjuries      29.154640\n",
       "TotalSeriousInjuries    30.434783\n",
       "TotalUninjured          14.749473\n",
       "WeatherCondition         2.574524\n",
       "dtype: float64"
      ]
     },
     "execution_count": 67,
     "metadata": {},
     "output_type": "execute_result"
    }
   ],
   "source": [
    "#replace empty string with nan and calculate missing value\n",
    "df_e = df_events.replace(r'^\\s*$',np.nan, regex=True)\n",
    "(len(df_e.index)-df_e.count())/len(df_e.index)*100"
   ]
  },
  {
   "cell_type": "code",
   "execution_count": 109,
   "metadata": {
    "collapsed": false
   },
   "outputs": [
    {
     "data": {
      "text/plain": [
       "United States         73076\n",
       "Canada                  225\n",
       "Mexico                  197\n",
       "Brazil                  191\n",
       "Bahamas                 188\n",
       "United Kingdom          188\n",
       "Australia               178\n",
       "France                  153\n",
       "Germany                 143\n",
       "Colombia                113\n",
       "Spain                    91\n",
       "Venezuela                85\n",
       "Italy                    82\n",
       "Japan                    75\n",
       "Argentina                74\n",
       "Ecuador                  68\n",
       "Indonesia                67\n",
       "Peru                     59\n",
       "Switzerland              53\n",
       "Dominican Republic       52\n",
       "Russia                   46\n",
       "Guatemala                44\n",
       "China                    43\n",
       "New Zealand              42\n",
       "Ireland                  40\n",
       "Austria                  40\n",
       "Sweden                   37\n",
       "Netherlands              36\n",
       "Chile                    34\n",
       "Panama                   33\n",
       "                      ...  \n",
       "Niger                     1\n",
       "Montserrat                1\n",
       "Eritrea                   1\n",
       "Cyprus                    1\n",
       "Burma                     1\n",
       "Oman                      1\n",
       "Palau                     1\n",
       "Serbia                    1\n",
       "Isle of Man               1\n",
       "Slovakia                  1\n",
       "Benin                     1\n",
       "Libya                     1\n",
       "Malta                     1\n",
       "Laos                      1\n",
       "Sierra Leone              1\n",
       "Gibraltar                 1\n",
       "Lebanon                   1\n",
       "New Caledonia             1\n",
       "Liberia                   1\n",
       "St Lucia                  1\n",
       "Slovenia                  1\n",
       "Cambodia                  1\n",
       "Lithuania                 1\n",
       "Kyrgyzstan                1\n",
       "Bulgaria                  1\n",
       "Anguilla                  1\n",
       "Madagascar                1\n",
       "Bermuda                   1\n",
       "Iran                      1\n",
       "Ivory Coast               1\n",
       "Name: Country, dtype: int64"
      ]
     },
     "execution_count": 109,
     "metadata": {},
     "output_type": "execute_result"
    }
   ],
   "source": [
    "df_e['Country'].value_counts()"
   ]
  },
  {
   "cell_type": "code",
   "execution_count": 113,
   "metadata": {
    "collapsed": false
   },
   "outputs": [
    {
     "data": {
      "text/html": [
       "<div>\n",
       "<table border=\"1\" class=\"dataframe\">\n",
       "  <thead>\n",
       "    <tr style=\"text-align: right;\">\n",
       "      <th></th>\n",
       "      <th>EventDate</th>\n",
       "      <th>Make</th>\n",
       "      <th>Model</th>\n",
       "      <th>TotalFatalInjuries</th>\n",
       "    </tr>\n",
       "  </thead>\n",
       "  <tbody>\n",
       "    <tr>\n",
       "      <th>2323</th>\n",
       "      <td>2014-03-08</td>\n",
       "      <td>BOEING</td>\n",
       "      <td>777 - 206</td>\n",
       "      <td>239.0</td>\n",
       "    </tr>\n",
       "    <tr>\n",
       "      <th>54856</th>\n",
       "      <td>1989-02-19</td>\n",
       "      <td>BOEING</td>\n",
       "      <td>747-200</td>\n",
       "      <td>4.0</td>\n",
       "    </tr>\n",
       "    <tr>\n",
       "      <th>4896</th>\n",
       "      <td>2012-07-20</td>\n",
       "      <td>EUROCOPTER</td>\n",
       "      <td>EC120B</td>\n",
       "      <td>3.0</td>\n",
       "    </tr>\n",
       "    <tr>\n",
       "      <th>18090</th>\n",
       "      <td>2005-07-25</td>\n",
       "      <td>Bell</td>\n",
       "      <td>206 L4</td>\n",
       "      <td>3.0</td>\n",
       "    </tr>\n",
       "    <tr>\n",
       "      <th>7345</th>\n",
       "      <td>2011-04-11</td>\n",
       "      <td>BELL</td>\n",
       "      <td>206B-III</td>\n",
       "      <td>1.0</td>\n",
       "    </tr>\n",
       "    <tr>\n",
       "      <th>8789</th>\n",
       "      <td>2010-06-25</td>\n",
       "      <td>ERICKSON</td>\n",
       "      <td>S64E</td>\n",
       "      <td>1.0</td>\n",
       "    </tr>\n",
       "    <tr>\n",
       "      <th>25104</th>\n",
       "      <td>2002-02-19</td>\n",
       "      <td>Bell</td>\n",
       "      <td>206 L3</td>\n",
       "      <td>1.0</td>\n",
       "    </tr>\n",
       "    <tr>\n",
       "      <th>51084</th>\n",
       "      <td>1990-07-27</td>\n",
       "      <td>MCDONNELL DOUGLAS</td>\n",
       "      <td>DC-10-30</td>\n",
       "      <td>0.0</td>\n",
       "    </tr>\n",
       "    <tr>\n",
       "      <th>7131</th>\n",
       "      <td>2011-05-25</td>\n",
       "      <td>DASSAULT</td>\n",
       "      <td>7X</td>\n",
       "      <td>NaN</td>\n",
       "    </tr>\n",
       "    <tr>\n",
       "      <th>9372</th>\n",
       "      <td>2010-03-09</td>\n",
       "      <td>EAGLE</td>\n",
       "      <td>150B</td>\n",
       "      <td>NaN</td>\n",
       "    </tr>\n",
       "  </tbody>\n",
       "</table>\n",
       "</div>"
      ],
      "text/plain": [
       "       EventDate               Make      Model  TotalFatalInjuries\n",
       "2323  2014-03-08             BOEING  777 - 206               239.0\n",
       "54856 1989-02-19             BOEING    747-200                 4.0\n",
       "4896  2012-07-20         EUROCOPTER     EC120B                 3.0\n",
       "18090 2005-07-25               Bell     206 L4                 3.0\n",
       "7345  2011-04-11               BELL   206B-III                 1.0\n",
       "8789  2010-06-25           ERICKSON       S64E                 1.0\n",
       "25104 2002-02-19               Bell     206 L3                 1.0\n",
       "51084 1990-07-27  MCDONNELL DOUGLAS   DC-10-30                 0.0\n",
       "7131  2011-05-25           DASSAULT         7X                 NaN\n",
       "9372  2010-03-09              EAGLE       150B                 NaN"
      ]
     },
     "execution_count": 113,
     "metadata": {},
     "output_type": "execute_result"
    }
   ],
   "source": [
    "#list top 10 fatal crashes in USA \n",
    "df_e[(df_e.Country == 'Malaysia')][['EventDate','Make','Model','TotalFatalInjuries']].sort_values(by='TotalFatalInjuries',ascending=False).head(10)"
   ]
  },
  {
   "cell_type": "code",
   "execution_count": 93,
   "metadata": {
    "collapsed": false
   },
   "outputs": [
    {
     "data": {
      "text/plain": [
       "Probable Cause    72264\n",
       "Foreign            3600\n",
       "Preliminary        1144\n",
       "Factual             249\n",
       "Name: ReportStatus, dtype: int64"
      ]
     },
     "execution_count": 93,
     "metadata": {},
     "output_type": "execute_result"
    }
   ],
   "source": [
    "df_e['ReportStatus'].value_counts()"
   ]
  },
  {
   "cell_type": "code",
   "execution_count": 91,
   "metadata": {
    "collapsed": false
   },
   "outputs": [
    {
     "data": {
      "text/plain": [
       "VMC    68764\n",
       "IMC     5580\n",
       "UNK      924\n",
       "Name: WeatherCondition, dtype: int64"
      ]
     },
     "execution_count": 91,
     "metadata": {},
     "output_type": "execute_result"
    }
   ],
   "source": [
    "df_e['WeatherCondition'].value_counts()"
   ]
  },
  {
   "cell_type": "code",
   "execution_count": 85,
   "metadata": {
    "collapsed": false
   },
   "outputs": [
    {
     "data": {
      "text/html": [
       "<div>\n",
       "<table border=\"1\" class=\"dataframe\">\n",
       "  <thead>\n",
       "    <tr style=\"text-align: right;\">\n",
       "      <th></th>\n",
       "      <th>TotalFatalInjuries</th>\n",
       "    </tr>\n",
       "    <tr>\n",
       "      <th>EventDate</th>\n",
       "      <th></th>\n",
       "    </tr>\n",
       "  </thead>\n",
       "  <tbody>\n",
       "    <tr>\n",
       "      <th>1948.0</th>\n",
       "      <td>2.0</td>\n",
       "    </tr>\n",
       "    <tr>\n",
       "      <th>1962.0</th>\n",
       "      <td>4.0</td>\n",
       "    </tr>\n",
       "    <tr>\n",
       "      <th>1974.0</th>\n",
       "      <td>3.0</td>\n",
       "    </tr>\n",
       "    <tr>\n",
       "      <th>1977.0</th>\n",
       "      <td>2.0</td>\n",
       "    </tr>\n",
       "    <tr>\n",
       "      <th>1979.0</th>\n",
       "      <td>1.0</td>\n",
       "    </tr>\n",
       "    <tr>\n",
       "      <th>1981.0</th>\n",
       "      <td>4.0</td>\n",
       "    </tr>\n",
       "    <tr>\n",
       "      <th>1982.0</th>\n",
       "      <td>1585.0</td>\n",
       "    </tr>\n",
       "    <tr>\n",
       "      <th>1983.0</th>\n",
       "      <td>1273.0</td>\n",
       "    </tr>\n",
       "    <tr>\n",
       "      <th>1984.0</th>\n",
       "      <td>1229.0</td>\n",
       "    </tr>\n",
       "    <tr>\n",
       "      <th>1985.0</th>\n",
       "      <td>1648.0</td>\n",
       "    </tr>\n",
       "    <tr>\n",
       "      <th>1986.0</th>\n",
       "      <td>1180.0</td>\n",
       "    </tr>\n",
       "    <tr>\n",
       "      <th>1987.0</th>\n",
       "      <td>1237.0</td>\n",
       "    </tr>\n",
       "    <tr>\n",
       "      <th>1988.0</th>\n",
       "      <td>1195.0</td>\n",
       "    </tr>\n",
       "    <tr>\n",
       "      <th>1989.0</th>\n",
       "      <td>1532.0</td>\n",
       "    </tr>\n",
       "    <tr>\n",
       "      <th>1990.0</th>\n",
       "      <td>999.0</td>\n",
       "    </tr>\n",
       "    <tr>\n",
       "      <th>1991.0</th>\n",
       "      <td>1087.0</td>\n",
       "    </tr>\n",
       "    <tr>\n",
       "      <th>1992.0</th>\n",
       "      <td>1272.0</td>\n",
       "    </tr>\n",
       "    <tr>\n",
       "      <th>1993.0</th>\n",
       "      <td>865.0</td>\n",
       "    </tr>\n",
       "    <tr>\n",
       "      <th>1994.0</th>\n",
       "      <td>1183.0</td>\n",
       "    </tr>\n",
       "    <tr>\n",
       "      <th>1995.0</th>\n",
       "      <td>1236.0</td>\n",
       "    </tr>\n",
       "    <tr>\n",
       "      <th>1996.0</th>\n",
       "      <td>2533.0</td>\n",
       "    </tr>\n",
       "    <tr>\n",
       "      <th>1997.0</th>\n",
       "      <td>1296.0</td>\n",
       "    </tr>\n",
       "    <tr>\n",
       "      <th>1998.0</th>\n",
       "      <td>1325.0</td>\n",
       "    </tr>\n",
       "    <tr>\n",
       "      <th>1999.0</th>\n",
       "      <td>1221.0</td>\n",
       "    </tr>\n",
       "    <tr>\n",
       "      <th>2000.0</th>\n",
       "      <td>1765.0</td>\n",
       "    </tr>\n",
       "    <tr>\n",
       "      <th>2001.0</th>\n",
       "      <td>1709.0</td>\n",
       "    </tr>\n",
       "    <tr>\n",
       "      <th>2002.0</th>\n",
       "      <td>1386.0</td>\n",
       "    </tr>\n",
       "    <tr>\n",
       "      <th>2003.0</th>\n",
       "      <td>1374.0</td>\n",
       "    </tr>\n",
       "    <tr>\n",
       "      <th>2004.0</th>\n",
       "      <td>978.0</td>\n",
       "    </tr>\n",
       "    <tr>\n",
       "      <th>2005.0</th>\n",
       "      <td>1689.0</td>\n",
       "    </tr>\n",
       "    <tr>\n",
       "      <th>2006.0</th>\n",
       "      <td>1488.0</td>\n",
       "    </tr>\n",
       "    <tr>\n",
       "      <th>2007.0</th>\n",
       "      <td>1329.0</td>\n",
       "    </tr>\n",
       "    <tr>\n",
       "      <th>2008.0</th>\n",
       "      <td>1303.0</td>\n",
       "    </tr>\n",
       "    <tr>\n",
       "      <th>2009.0</th>\n",
       "      <td>1207.0</td>\n",
       "    </tr>\n",
       "    <tr>\n",
       "      <th>2010.0</th>\n",
       "      <td>1382.0</td>\n",
       "    </tr>\n",
       "    <tr>\n",
       "      <th>2011.0</th>\n",
       "      <td>944.0</td>\n",
       "    </tr>\n",
       "    <tr>\n",
       "      <th>2012.0</th>\n",
       "      <td>1006.0</td>\n",
       "    </tr>\n",
       "    <tr>\n",
       "      <th>2013.0</th>\n",
       "      <td>825.0</td>\n",
       "    </tr>\n",
       "    <tr>\n",
       "      <th>2014.0</th>\n",
       "      <td>1269.0</td>\n",
       "    </tr>\n",
       "    <tr>\n",
       "      <th>2015.0</th>\n",
       "      <td>449.0</td>\n",
       "    </tr>\n",
       "  </tbody>\n",
       "</table>\n",
       "</div>"
      ],
      "text/plain": [
       "           TotalFatalInjuries\n",
       "EventDate                    \n",
       "1948.0                    2.0\n",
       "1962.0                    4.0\n",
       "1974.0                    3.0\n",
       "1977.0                    2.0\n",
       "1979.0                    1.0\n",
       "1981.0                    4.0\n",
       "1982.0                 1585.0\n",
       "1983.0                 1273.0\n",
       "1984.0                 1229.0\n",
       "1985.0                 1648.0\n",
       "1986.0                 1180.0\n",
       "1987.0                 1237.0\n",
       "1988.0                 1195.0\n",
       "1989.0                 1532.0\n",
       "1990.0                  999.0\n",
       "1991.0                 1087.0\n",
       "1992.0                 1272.0\n",
       "1993.0                  865.0\n",
       "1994.0                 1183.0\n",
       "1995.0                 1236.0\n",
       "1996.0                 2533.0\n",
       "1997.0                 1296.0\n",
       "1998.0                 1325.0\n",
       "1999.0                 1221.0\n",
       "2000.0                 1765.0\n",
       "2001.0                 1709.0\n",
       "2002.0                 1386.0\n",
       "2003.0                 1374.0\n",
       "2004.0                  978.0\n",
       "2005.0                 1689.0\n",
       "2006.0                 1488.0\n",
       "2007.0                 1329.0\n",
       "2008.0                 1303.0\n",
       "2009.0                 1207.0\n",
       "2010.0                 1382.0\n",
       "2011.0                  944.0\n",
       "2012.0                 1006.0\n",
       "2013.0                  825.0\n",
       "2014.0                 1269.0\n",
       "2015.0                  449.0"
      ]
     },
     "execution_count": 85,
     "metadata": {},
     "output_type": "execute_result"
    }
   ],
   "source": [
    "df_e[['TotalFatalInjuries']].groupby(df_e['EventDate'].map(lambda x: x.year)).sum()"
   ]
  },
  {
   "cell_type": "code",
   "execution_count": 76,
   "metadata": {
    "collapsed": false
   },
   "outputs": [
    {
     "data": {
      "text/plain": [
       "CESSNA                           16609\n",
       "PIPER                             9179\n",
       "Cessna                            7739\n",
       "Piper                             4096\n",
       "BEECH                             3030\n",
       "Beech                             1748\n",
       "BELL                              1515\n",
       "BOEING                            1286\n",
       "GRUMMAN                            903\n",
       "Bell                               887\n",
       "Boeing                             777\n",
       "MOONEY                             743\n",
       "BELLANCA                           681\n",
       "HUGHES                             564\n",
       "Robinson                           526\n",
       "ROBINSON                           453\n",
       "Mooney                             444\n",
       "SCHWEIZER                          429\n",
       "AERONCA                            390\n",
       "Air Tractor                        364\n",
       "McDonnell Douglas                  337\n",
       "MAULE                              314\n",
       "de Havilland                       312\n",
       "Hughes                             300\n",
       "CHAMPION                           297\n",
       "Schweizer                          291\n",
       "Bellanca                           290\n",
       "AERO COMMANDER                     259\n",
       "HILLER                             256\n",
       "STINSON                            255\n",
       "                                 ...  \n",
       "SPORTFLIGHT INTERNATIONAL LLC        1\n",
       "BUMFORD                              1\n",
       "MONTANA                              1\n",
       "HOSKINS SAMUEL R                     1\n",
       "Reeves                               1\n",
       "GARY W BETTIS                        1\n",
       "Tilbert                              1\n",
       "Ford                                 1\n",
       "HAMILTON                             1\n",
       "LESTER ROBERT E                      1\n",
       "TOERNER BOB                          1\n",
       "MUELLER                              1\n",
       "SCHULTZ/BOWERS                       1\n",
       "MARTIN-PITTS                         1\n",
       "Hale                                 1\n",
       "MOORE BYRON J                        1\n",
       "HEDGE                                1\n",
       "Forrest Haynes                       1\n",
       "Ultra Magic                          1\n",
       "Reilly                               1\n",
       "AEROFAB INC.                         1\n",
       "GROSVENOR                            1\n",
       "ROISUM TEAM                          1\n",
       "DAN T. ZELAZO                        1\n",
       "Lowe                                 1\n",
       "Nickel                               1\n",
       "Bruce                                1\n",
       "GIORGIO ANTHONY J                    1\n",
       "Bumgarner                            1\n",
       "DEREGO                               1\n",
       "Name: Make, dtype: int64"
      ]
     },
     "execution_count": 76,
     "metadata": {},
     "output_type": "execute_result"
    }
   ],
   "source": [
    "df_e['Make'].value_counts()\n",
    "#Seems like manufacturer can be represented in uppercase and lowercase - should merge this! To do: fuzzy matching to account for typos"
   ]
  },
  {
   "cell_type": "code",
   "execution_count": 75,
   "metadata": {
    "collapsed": false
   },
   "outputs": [
    {
     "data": {
      "text/plain": [
       "1     61465\n",
       "2      9854\n",
       "0      1132\n",
       "3       477\n",
       "4       406\n",
       "24        1\n",
       "18        1\n",
       "Name: NumberOfEngines, dtype: int64"
      ]
     },
     "execution_count": 75,
     "metadata": {},
     "output_type": "execute_result"
    }
   ],
   "source": [
    "df_e['NumberOfEngines'].value_counts()\n",
    "#18 and 24 engines? really?"
   ]
  },
  {
   "cell_type": "markdown",
   "metadata": {},
   "source": []
  },
  {
   "cell_type": "markdown",
   "metadata": {},
   "source": [
    "From the missing value table above, it is clear that not every variables are usable for meaningful analysis.\n",
    "The subsequent dataset will be a subset of the original dataset based on 'Make' variable as it has very few missing values."
   ]
  },
  {
   "cell_type": "markdown",
   "metadata": {},
   "source": [
    "Assumption: No value in injuries variables doesn't always mean that it is zero as it can also means that it is unknown."
   ]
  },
  {
   "cell_type": "code",
   "execution_count": 68,
   "metadata": {
    "collapsed": false
   },
   "outputs": [],
   "source": [
    "#code to transform no value = 0\n",
    "#df_e[['TotalFatalInjuries','TotalMinorInjuries','TotalSeriousInjuries','TotalUninjured']] = df_e[['TotalFatalInjuries','TotalMinorInjuries','TotalSeriousInjuries','TotalUninjured']].fillna(0)\n",
    "df_e[['TotalFatalInjuries','TotalMinorInjuries','TotalSeriousInjuries','TotalUninjured']] = df_e[['TotalFatalInjuries','TotalMinorInjuries','TotalSeriousInjuries','TotalUninjured']].apply(pd.to_numeric)"
   ]
  },
  {
   "cell_type": "code",
   "execution_count": 69,
   "metadata": {
    "collapsed": true
   },
   "outputs": [],
   "source": [
    "df_e['TotalPerson'] = df_e['TotalFatalInjuries'] + df_e['TotalSeriousInjuries'] + df_e['TotalMinorInjuries'] + df_e['TotalUninjured'] "
   ]
  },
  {
   "cell_type": "code",
   "execution_count": 70,
   "metadata": {
    "collapsed": false
   },
   "outputs": [
    {
     "data": {
      "text/html": [
       "<div>\n",
       "<table border=\"1\" class=\"dataframe\">\n",
       "  <thead>\n",
       "    <tr style=\"text-align: right;\">\n",
       "      <th></th>\n",
       "      <th>AccidentNumber</th>\n",
       "      <th>AirCarrier</th>\n",
       "      <th>AircraftCategory</th>\n",
       "      <th>AircraftDamage</th>\n",
       "      <th>AirportCode</th>\n",
       "      <th>AirportName</th>\n",
       "      <th>AmateurBuilt</th>\n",
       "      <th>BroadPhaseOfFlight</th>\n",
       "      <th>Country</th>\n",
       "      <th>EngineType</th>\n",
       "      <th>...</th>\n",
       "      <th>PurposeOfFlight</th>\n",
       "      <th>RegistrationNumber</th>\n",
       "      <th>ReportStatus</th>\n",
       "      <th>Schedule</th>\n",
       "      <th>TotalFatalInjuries</th>\n",
       "      <th>TotalMinorInjuries</th>\n",
       "      <th>TotalSeriousInjuries</th>\n",
       "      <th>TotalUninjured</th>\n",
       "      <th>WeatherCondition</th>\n",
       "      <th>TotalPerson</th>\n",
       "    </tr>\n",
       "  </thead>\n",
       "  <tbody>\n",
       "    <tr>\n",
       "      <th>0</th>\n",
       "      <td>GAA15CA244</td>\n",
       "      <td>NaN</td>\n",
       "      <td>NaN</td>\n",
       "      <td>NaN</td>\n",
       "      <td>NaN</td>\n",
       "      <td>NaN</td>\n",
       "      <td>NaN</td>\n",
       "      <td>NaN</td>\n",
       "      <td>United States</td>\n",
       "      <td>NaN</td>\n",
       "      <td>...</td>\n",
       "      <td>NaN</td>\n",
       "      <td>N786AB</td>\n",
       "      <td>Preliminary</td>\n",
       "      <td>NaN</td>\n",
       "      <td>NaN</td>\n",
       "      <td>NaN</td>\n",
       "      <td>NaN</td>\n",
       "      <td>NaN</td>\n",
       "      <td>NaN</td>\n",
       "      <td>NaN</td>\n",
       "    </tr>\n",
       "    <tr>\n",
       "      <th>1</th>\n",
       "      <td>CEN15LA392</td>\n",
       "      <td>NaN</td>\n",
       "      <td>Airplane</td>\n",
       "      <td>Substantial</td>\n",
       "      <td>IWS</td>\n",
       "      <td>WEST HOUSTON</td>\n",
       "      <td>No</td>\n",
       "      <td>LANDING</td>\n",
       "      <td>United States</td>\n",
       "      <td>NaN</td>\n",
       "      <td>...</td>\n",
       "      <td>Instructional</td>\n",
       "      <td>N452CS</td>\n",
       "      <td>Preliminary</td>\n",
       "      <td>NaN</td>\n",
       "      <td>NaN</td>\n",
       "      <td>NaN</td>\n",
       "      <td>NaN</td>\n",
       "      <td>2.0</td>\n",
       "      <td>VMC</td>\n",
       "      <td>NaN</td>\n",
       "    </tr>\n",
       "    <tr>\n",
       "      <th>2</th>\n",
       "      <td>GAA15CA246</td>\n",
       "      <td>NaN</td>\n",
       "      <td>NaN</td>\n",
       "      <td>NaN</td>\n",
       "      <td>NaN</td>\n",
       "      <td>NaN</td>\n",
       "      <td>NaN</td>\n",
       "      <td>NaN</td>\n",
       "      <td>United States</td>\n",
       "      <td>NaN</td>\n",
       "      <td>...</td>\n",
       "      <td>NaN</td>\n",
       "      <td>N112RP</td>\n",
       "      <td>Preliminary</td>\n",
       "      <td>NaN</td>\n",
       "      <td>NaN</td>\n",
       "      <td>NaN</td>\n",
       "      <td>NaN</td>\n",
       "      <td>NaN</td>\n",
       "      <td>NaN</td>\n",
       "      <td>NaN</td>\n",
       "    </tr>\n",
       "    <tr>\n",
       "      <th>3</th>\n",
       "      <td>GAA15CA243</td>\n",
       "      <td>NaN</td>\n",
       "      <td>NaN</td>\n",
       "      <td>NaN</td>\n",
       "      <td>NaN</td>\n",
       "      <td>NaN</td>\n",
       "      <td>NaN</td>\n",
       "      <td>NaN</td>\n",
       "      <td>United States</td>\n",
       "      <td>NaN</td>\n",
       "      <td>...</td>\n",
       "      <td>NaN</td>\n",
       "      <td>N8404X</td>\n",
       "      <td>Preliminary</td>\n",
       "      <td>NaN</td>\n",
       "      <td>NaN</td>\n",
       "      <td>NaN</td>\n",
       "      <td>NaN</td>\n",
       "      <td>NaN</td>\n",
       "      <td>NaN</td>\n",
       "      <td>NaN</td>\n",
       "    </tr>\n",
       "    <tr>\n",
       "      <th>4</th>\n",
       "      <td>GAA15CA242</td>\n",
       "      <td>NaN</td>\n",
       "      <td>NaN</td>\n",
       "      <td>NaN</td>\n",
       "      <td>NaN</td>\n",
       "      <td>NaN</td>\n",
       "      <td>NaN</td>\n",
       "      <td>NaN</td>\n",
       "      <td>United States</td>\n",
       "      <td>NaN</td>\n",
       "      <td>...</td>\n",
       "      <td>NaN</td>\n",
       "      <td>N5255G</td>\n",
       "      <td>Preliminary</td>\n",
       "      <td>NaN</td>\n",
       "      <td>NaN</td>\n",
       "      <td>NaN</td>\n",
       "      <td>NaN</td>\n",
       "      <td>NaN</td>\n",
       "      <td>NaN</td>\n",
       "      <td>NaN</td>\n",
       "    </tr>\n",
       "  </tbody>\n",
       "</table>\n",
       "<p>5 rows × 32 columns</p>\n",
       "</div>"
      ],
      "text/plain": [
       "  AccidentNumber AirCarrier AircraftCategory AircraftDamage AirportCode  \\\n",
       "0     GAA15CA244        NaN              NaN            NaN         NaN   \n",
       "1     CEN15LA392        NaN         Airplane    Substantial         IWS   \n",
       "2     GAA15CA246        NaN              NaN            NaN         NaN   \n",
       "3     GAA15CA243        NaN              NaN            NaN         NaN   \n",
       "4     GAA15CA242        NaN              NaN            NaN         NaN   \n",
       "\n",
       "    AirportName AmateurBuilt BroadPhaseOfFlight        Country EngineType  \\\n",
       "0           NaN          NaN                NaN  United States        NaN   \n",
       "1  WEST HOUSTON           No            LANDING  United States        NaN   \n",
       "2           NaN          NaN                NaN  United States        NaN   \n",
       "3           NaN          NaN                NaN  United States        NaN   \n",
       "4           NaN          NaN                NaN  United States        NaN   \n",
       "\n",
       "      ...     PurposeOfFlight RegistrationNumber ReportStatus Schedule  \\\n",
       "0     ...                 NaN             N786AB  Preliminary      NaN   \n",
       "1     ...       Instructional             N452CS  Preliminary      NaN   \n",
       "2     ...                 NaN             N112RP  Preliminary      NaN   \n",
       "3     ...                 NaN             N8404X  Preliminary      NaN   \n",
       "4     ...                 NaN             N5255G  Preliminary      NaN   \n",
       "\n",
       "  TotalFatalInjuries TotalMinorInjuries TotalSeriousInjuries TotalUninjured  \\\n",
       "0                NaN                NaN                  NaN            NaN   \n",
       "1                NaN                NaN                  NaN            2.0   \n",
       "2                NaN                NaN                  NaN            NaN   \n",
       "3                NaN                NaN                  NaN            NaN   \n",
       "4                NaN                NaN                  NaN            NaN   \n",
       "\n",
       "  WeatherCondition TotalPerson  \n",
       "0              NaN         NaN  \n",
       "1              VMC         NaN  \n",
       "2              NaN         NaN  \n",
       "3              NaN         NaN  \n",
       "4              NaN         NaN  \n",
       "\n",
       "[5 rows x 32 columns]"
      ]
     },
     "execution_count": 70,
     "metadata": {},
     "output_type": "execute_result"
    }
   ],
   "source": [
    "df_e.head()"
   ]
  },
  {
   "cell_type": "code",
   "execution_count": 27,
   "metadata": {
    "collapsed": true
   },
   "outputs": [],
   "source": [
    "df_e['PctInjured'] = (df_e['TotalSeriousInjuries'] + df_e['TotalMinorInjuries']) / df_e['TotalPerson'] * 100\n",
    "df_e['PctDeath'] = df_e['TotalFatalInjuries'] / df_e['TotalPerson'] * 100"
   ]
  },
  {
   "cell_type": "code",
   "execution_count": 20,
   "metadata": {
    "collapsed": false
   },
   "outputs": [
    {
     "name": "stdout",
     "output_type": "stream",
     "text": [
      "Number of accidents in the dataset: 77257\n",
      "Date range: 1948-10-24 00:00:00 to 2015-09-01 00:00:00\n"
     ]
    },
    {
     "data": {
      "text/html": [
       "<div>\n",
       "<table border=\"1\" class=\"dataframe\">\n",
       "  <thead>\n",
       "    <tr style=\"text-align: right;\">\n",
       "      <th></th>\n",
       "      <th>TotalFatalInjuries</th>\n",
       "      <th>TotalMinorInjuries</th>\n",
       "      <th>TotalSeriousInjuries</th>\n",
       "      <th>TotalUninjured</th>\n",
       "    </tr>\n",
       "  </thead>\n",
       "  <tbody>\n",
       "    <tr>\n",
       "      <th>count</th>\n",
       "      <td>55791.000000</td>\n",
       "      <td>54733.000000</td>\n",
       "      <td>53744.000000</td>\n",
       "      <td>65862.000000</td>\n",
       "    </tr>\n",
       "    <tr>\n",
       "      <th>mean</th>\n",
       "      <td>0.788962</td>\n",
       "      <td>0.492555</td>\n",
       "      <td>0.309895</td>\n",
       "      <td>5.716817</td>\n",
       "    </tr>\n",
       "    <tr>\n",
       "      <th>std</th>\n",
       "      <td>6.087442</td>\n",
       "      <td>2.779814</td>\n",
       "      <td>1.368488</td>\n",
       "      <td>29.052413</td>\n",
       "    </tr>\n",
       "    <tr>\n",
       "      <th>min</th>\n",
       "      <td>0.000000</td>\n",
       "      <td>0.000000</td>\n",
       "      <td>0.000000</td>\n",
       "      <td>0.000000</td>\n",
       "    </tr>\n",
       "    <tr>\n",
       "      <th>25%</th>\n",
       "      <td>NaN</td>\n",
       "      <td>NaN</td>\n",
       "      <td>NaN</td>\n",
       "      <td>NaN</td>\n",
       "    </tr>\n",
       "    <tr>\n",
       "      <th>50%</th>\n",
       "      <td>NaN</td>\n",
       "      <td>NaN</td>\n",
       "      <td>NaN</td>\n",
       "      <td>NaN</td>\n",
       "    </tr>\n",
       "    <tr>\n",
       "      <th>75%</th>\n",
       "      <td>NaN</td>\n",
       "      <td>NaN</td>\n",
       "      <td>NaN</td>\n",
       "      <td>NaN</td>\n",
       "    </tr>\n",
       "    <tr>\n",
       "      <th>max</th>\n",
       "      <td>349.000000</td>\n",
       "      <td>380.000000</td>\n",
       "      <td>111.000000</td>\n",
       "      <td>699.000000</td>\n",
       "    </tr>\n",
       "  </tbody>\n",
       "</table>\n",
       "</div>"
      ],
      "text/plain": [
       "       TotalFatalInjuries  TotalMinorInjuries  TotalSeriousInjuries  \\\n",
       "count        55791.000000        54733.000000          53744.000000   \n",
       "mean             0.788962            0.492555              0.309895   \n",
       "std              6.087442            2.779814              1.368488   \n",
       "min              0.000000            0.000000              0.000000   \n",
       "25%                   NaN                 NaN                   NaN   \n",
       "50%                   NaN                 NaN                   NaN   \n",
       "75%                   NaN                 NaN                   NaN   \n",
       "max            349.000000          380.000000            111.000000   \n",
       "\n",
       "       TotalUninjured  \n",
       "count    65862.000000  \n",
       "mean         5.716817  \n",
       "std         29.052413  \n",
       "min          0.000000  \n",
       "25%               NaN  \n",
       "50%               NaN  \n",
       "75%               NaN  \n",
       "max        699.000000  "
      ]
     },
     "execution_count": 20,
     "metadata": {},
     "output_type": "execute_result"
    }
   ],
   "source": [
    "print \"Number of accidents in the dataset: \" + str(len(df_e.index))\n",
    "print \"Date range: \" + str(df_e['EventDate'].min()) + \" to \" + str(df_e['EventDate'].max())\n",
    "df_e[['TotalFatalInjuries','TotalMinorInjuries','TotalSeriousInjuries','TotalUninjured']].describe()"
   ]
  },
  {
   "cell_type": "code",
   "execution_count": 54,
   "metadata": {
    "collapsed": false,
    "scrolled": true
   },
   "outputs": [],
   "source": [
    "#df_e1 = df_e[['PctInjured','PctDeath','TotalPerson']]\n",
    "df_e1 = df_e[(df_e.TotalPerson <25)]\n",
    "df_e2 = df_e[(df_e.TotalPerson >=25)]"
   ]
  },
  {
   "cell_type": "code",
   "execution_count": 56,
   "metadata": {
    "collapsed": false
   },
   "outputs": [
    {
     "data": {
      "text/plain": [
       "<matplotlib.axes._subplots.AxesSubplot at 0x25ee19b0>"
      ]
     },
     "execution_count": 56,
     "metadata": {},
     "output_type": "execute_result"
    },
    {
     "data": {
      "image/png": "[encoded data removed]",
      "text/plain": [
       "<matplotlib.figure.Figure at 0x25ec4390>"
      ]
     },
     "metadata": {},
     "output_type": "display_data"
    }
   ],
   "source": [
    "sns.distplot(df_e2['TotalPerson'].dropna())"
   ]
  },
  {
   "cell_type": "code",
   "execution_count": 30,
   "metadata": {
    "collapsed": false
   },
   "outputs": [
    {
     "data": {
      "text/plain": [
       "<seaborn.axisgrid.FacetGrid at 0x241690b8>"
      ]
     },
     "execution_count": 30,
     "metadata": {},
     "output_type": "execute_result"
    },
    {
     "data": {
      "image/png": "[encoded data removed]",
      "text/plain": [
       "<matplotlib.figure.Figure at 0x24153198>"
      ]
     },
     "metadata": {},
     "output_type": "display_data"
    }
   ],
   "source": [
    "sns.lmplot(\"PctInjured\", \"TotalPerson\", data=df_e1, fit_reg=False)"
   ]
  },
  {
   "cell_type": "markdown",
   "metadata": {},
   "source": [
    "### Initial Impression\n",
    "1. The dataset covers 6 decades of accidents, from 1948 to 2015\n",
    "2. Overall, a very large number of accidents don't result in fatalities or injuries\n",
    "3. However, once it does, it's ugly."
   ]
  },
  {
   "cell_type": "markdown",
   "metadata": {},
   "source": [
    "## Initial Exploration\n",
    "\n",
    "Question: what is the most dangerous phase of flight, represented by number of fatalities?"
   ]
  },
  {
   "cell_type": "code",
   "execution_count": 65,
   "metadata": {
    "collapsed": false,
    "scrolled": true
   },
   "outputs": [
    {
     "data": {
      "text/html": [
       "<div>\n",
       "<table border=\"1\" class=\"dataframe\">\n",
       "  <thead>\n",
       "    <tr style=\"text-align: right;\">\n",
       "      <th></th>\n",
       "      <th>BroadPhaseOfFlight</th>\n",
       "      <th>TotalFatalInjuries</th>\n",
       "    </tr>\n",
       "  </thead>\n",
       "  <tbody>\n",
       "    <tr>\n",
       "      <th>0</th>\n",
       "      <td>APPROACH</td>\n",
       "      <td>5093</td>\n",
       "    </tr>\n",
       "    <tr>\n",
       "      <th>1</th>\n",
       "      <td>CLIMB</td>\n",
       "      <td>1536</td>\n",
       "    </tr>\n",
       "    <tr>\n",
       "      <th>2</th>\n",
       "      <td>CRUISE</td>\n",
       "      <td>8052</td>\n",
       "    </tr>\n",
       "    <tr>\n",
       "      <th>3</th>\n",
       "      <td>DESCENT</td>\n",
       "      <td>1393</td>\n",
       "    </tr>\n",
       "    <tr>\n",
       "      <th>4</th>\n",
       "      <td>GO-AROUND</td>\n",
       "      <td>1062</td>\n",
       "    </tr>\n",
       "    <tr>\n",
       "      <th>5</th>\n",
       "      <td>LANDING</td>\n",
       "      <td>11751</td>\n",
       "    </tr>\n",
       "    <tr>\n",
       "      <th>6</th>\n",
       "      <td>MANEUVERING</td>\n",
       "      <td>6516</td>\n",
       "    </tr>\n",
       "    <tr>\n",
       "      <th>7</th>\n",
       "      <td>OTHER</td>\n",
       "      <td>94</td>\n",
       "    </tr>\n",
       "    <tr>\n",
       "      <th>8</th>\n",
       "      <td>STANDING</td>\n",
       "      <td>619</td>\n",
       "    </tr>\n",
       "    <tr>\n",
       "      <th>9</th>\n",
       "      <td>TAKEOFF</td>\n",
       "      <td>9881</td>\n",
       "    </tr>\n",
       "    <tr>\n",
       "      <th>10</th>\n",
       "      <td>TAXI</td>\n",
       "      <td>1379</td>\n",
       "    </tr>\n",
       "    <tr>\n",
       "      <th>11</th>\n",
       "      <td>UNKNOWN</td>\n",
       "      <td>470</td>\n",
       "    </tr>\n",
       "  </tbody>\n",
       "</table>\n",
       "</div>"
      ],
      "text/plain": [
       "   BroadPhaseOfFlight  TotalFatalInjuries\n",
       "0            APPROACH                5093\n",
       "1               CLIMB                1536\n",
       "2              CRUISE                8052\n",
       "3             DESCENT                1393\n",
       "4           GO-AROUND                1062\n",
       "5             LANDING               11751\n",
       "6         MANEUVERING                6516\n",
       "7               OTHER                  94\n",
       "8            STANDING                 619\n",
       "9             TAKEOFF                9881\n",
       "10               TAXI                1379\n",
       "11            UNKNOWN                 470"
      ]
     },
     "execution_count": 65,
     "metadata": {},
     "output_type": "execute_result"
    }
   ],
   "source": [
    "#check phase and fatalinjuries\n",
    "df_phase_e1 = df_e1[['BroadPhaseOfFlight','TotalFatalInjuries']].groupby('BroadPhaseOfFlight',as_index=False).count()\n",
    "df_phase_e2 = df_e2[['BroadPhaseOfFlight','TotalFatalInjuries']].groupby('BroadPhaseOfFlight',as_index=False).count()\n",
    "df_phase_e1\n"
   ]
  },
  {
   "cell_type": "code",
   "execution_count": 66,
   "metadata": {
    "collapsed": false
   },
   "outputs": [
    {
     "data": {
      "text/html": [
       "<div>\n",
       "<table border=\"1\" class=\"dataframe\">\n",
       "  <thead>\n",
       "    <tr style=\"text-align: right;\">\n",
       "      <th></th>\n",
       "      <th>BroadPhaseOfFlight</th>\n",
       "      <th>TotalFatalInjuries</th>\n",
       "    </tr>\n",
       "  </thead>\n",
       "  <tbody>\n",
       "    <tr>\n",
       "      <th>0</th>\n",
       "      <td>APPROACH</td>\n",
       "      <td>112</td>\n",
       "    </tr>\n",
       "    <tr>\n",
       "      <th>1</th>\n",
       "      <td>CLIMB</td>\n",
       "      <td>111</td>\n",
       "    </tr>\n",
       "    <tr>\n",
       "      <th>2</th>\n",
       "      <td>CRUISE</td>\n",
       "      <td>215</td>\n",
       "    </tr>\n",
       "    <tr>\n",
       "      <th>3</th>\n",
       "      <td>DESCENT</td>\n",
       "      <td>120</td>\n",
       "    </tr>\n",
       "    <tr>\n",
       "      <th>4</th>\n",
       "      <td>GO-AROUND</td>\n",
       "      <td>11</td>\n",
       "    </tr>\n",
       "    <tr>\n",
       "      <th>5</th>\n",
       "      <td>LANDING</td>\n",
       "      <td>157</td>\n",
       "    </tr>\n",
       "    <tr>\n",
       "      <th>6</th>\n",
       "      <td>MANEUVERING</td>\n",
       "      <td>10</td>\n",
       "    </tr>\n",
       "    <tr>\n",
       "      <th>7</th>\n",
       "      <td>OTHER</td>\n",
       "      <td>4</td>\n",
       "    </tr>\n",
       "    <tr>\n",
       "      <th>8</th>\n",
       "      <td>STANDING</td>\n",
       "      <td>79</td>\n",
       "    </tr>\n",
       "    <tr>\n",
       "      <th>9</th>\n",
       "      <td>TAKEOFF</td>\n",
       "      <td>191</td>\n",
       "    </tr>\n",
       "    <tr>\n",
       "      <th>10</th>\n",
       "      <td>TAXI</td>\n",
       "      <td>146</td>\n",
       "    </tr>\n",
       "    <tr>\n",
       "      <th>11</th>\n",
       "      <td>UNKNOWN</td>\n",
       "      <td>2</td>\n",
       "    </tr>\n",
       "  </tbody>\n",
       "</table>\n",
       "</div>"
      ],
      "text/plain": [
       "   BroadPhaseOfFlight  TotalFatalInjuries\n",
       "0            APPROACH                 112\n",
       "1               CLIMB                 111\n",
       "2              CRUISE                 215\n",
       "3             DESCENT                 120\n",
       "4           GO-AROUND                  11\n",
       "5             LANDING                 157\n",
       "6         MANEUVERING                  10\n",
       "7               OTHER                   4\n",
       "8            STANDING                  79\n",
       "9             TAKEOFF                 191\n",
       "10               TAXI                 146\n",
       "11            UNKNOWN                   2"
      ]
     },
     "execution_count": 66,
     "metadata": {},
     "output_type": "execute_result"
    }
   ],
   "source": [
    "df_phase_e2"
   ]
  },
  {
   "cell_type": "code",
   "execution_count": 99,
   "metadata": {
    "collapsed": false
   },
   "outputs": [
    {
     "data": {
      "text/plain": [
       "(array([ 0,  1,  2,  3,  4,  5,  6,  7,  8,  9, 10, 11, 12]),\n",
       " <a list of 13 Text xticklabel objects>)"
      ]
     },
     "execution_count": 99,
     "metadata": {},
     "output_type": "execute_result"
    },
    {
     "data": {
      "image/png": "[encoded data removed]",
      "text/plain": [
       "<matplotlib.figure.Figure at 0x4a279a58>"
      ]
     },
     "metadata": {},
     "output_type": "display_data"
    }
   ],
   "source": [
    "x = df_flight_phase['BroadPhaseOfFlight']\n",
    "y = df_flight_phase['TotalFatalInjuries']\n",
    "#lt.figure(figsize=(50,50))\n",
    "sns.barplot(x,y,palette=\"Set1\")\n",
    "plt.xticks(rotation=90) "
   ]
  },
  {
   "cell_type": "code",
   "execution_count": 100,
   "metadata": {
    "collapsed": false
   },
   "outputs": [
    {
     "data": {
      "text/plain": [
       "{'axes.axisbelow': True,\n",
       " 'axes.edgecolor': 'white',\n",
       " 'axes.facecolor': '#EAEAF2',\n",
       " 'axes.grid': True,\n",
       " 'axes.labelcolor': '.15',\n",
       " 'axes.linewidth': 0.0,\n",
       " 'figure.facecolor': (1, 1, 1, 0),\n",
       " 'font.family': [u'sans-serif'],\n",
       " 'font.sans-serif': [u'Arial',\n",
       "  u'Liberation Sans',\n",
       "  u'Bitstream Vera Sans',\n",
       "  u'sans-serif'],\n",
       " 'grid.color': 'white',\n",
       " 'grid.linestyle': u'-',\n",
       " 'image.cmap': u'Greys',\n",
       " 'legend.frameon': False,\n",
       " 'legend.numpoints': 1,\n",
       " 'legend.scatterpoints': 1,\n",
       " 'lines.solid_capstyle': u'round',\n",
       " 'text.color': '.15',\n",
       " 'xtick.color': '.15',\n",
       " 'xtick.direction': u'out',\n",
       " 'xtick.major.size': 0.0,\n",
       " 'xtick.minor.size': 0.0,\n",
       " 'ytick.color': '.15',\n",
       " 'ytick.direction': u'out',\n",
       " 'ytick.major.size': 0.0,\n",
       " 'ytick.minor.size': 0.0}"
      ]
     },
     "execution_count": 100,
     "metadata": {},
     "output_type": "execute_result"
    }
   ],
   "source": [
    "sns.axes_style()"
   ]
  },
  {
   "cell_type": "code",
   "execution_count": null,
   "metadata": {
    "collapsed": true
   },
   "outputs": [],
   "source": []
  }
 ],
 "metadata": {
  "kernelspec": {
   "display_name": "Python 2",
   "language": "python",
   "name": "python2"
  },
  "language_info": {
   "codemirror_mode": {
    "name": "ipython",
    "version": 2
   },
   "file_extension": ".py",
   "mimetype": "text/x-python",
   "name": "python",
   "nbconvert_exporter": "python",
   "pygments_lexer": "ipython2",
   "version": "2.7.12"
  }
 },
 "nbformat": 4,
 "nbformat_minor": 0
}
