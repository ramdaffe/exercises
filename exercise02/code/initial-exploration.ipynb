{
 "cells": [
  {
   "cell_type": "code",
   "execution_count": 286,
   "metadata": {
    "collapsed": false
   },
   "outputs": [],
   "source": [
    "%matplotlib inline\n",
    "import pandas as pd\n",
    "import numpy as np\n",
    "import json\n",
    "import xml.etree.ElementTree as et\n",
    "import matplotlib.pyplot as plt\n",
    "import scipy.stats as sc\n",
    "import seaborn as sns\n",
    "import geopandas as gp\n",
    "from geopandas.tools import sjoin\n",
    "from shapely.geometry import Point"
   ]
  },
  {
   "cell_type": "code",
   "execution_count": 2,
   "metadata": {
    "collapsed": false
   },
   "outputs": [],
   "source": [
    "tree = et.parse(\"../data/AviationData.xml\")"
   ]
  },
  {
   "cell_type": "code",
   "execution_count": 3,
   "metadata": {
    "collapsed": false
   },
   "outputs": [
    {
     "data": {
      "text/plain": [
       "77257"
      ]
     },
     "execution_count": 3,
     "metadata": {},
     "output_type": "execute_result"
    }
   ],
   "source": [
    "root = tree.getroot()\n",
    "#check the number of child element\n",
    "len(root[0])"
   ]
  },
  {
   "cell_type": "code",
   "execution_count": 5,
   "metadata": {
    "collapsed": false,
    "scrolled": true
   },
   "outputs": [
    {
     "data": {
      "text/html": [
       "<div>\n",
       "<table border=\"1\" class=\"dataframe\">\n",
       "  <thead>\n",
       "    <tr style=\"text-align: right;\">\n",
       "      <th></th>\n",
       "      <th>AccidentNumber</th>\n",
       "      <th>AirCarrier</th>\n",
       "      <th>AircraftCategory</th>\n",
       "      <th>AircraftDamage</th>\n",
       "      <th>AirportCode</th>\n",
       "      <th>AirportName</th>\n",
       "      <th>AmateurBuilt</th>\n",
       "      <th>BroadPhaseOfFlight</th>\n",
       "      <th>Country</th>\n",
       "      <th>EngineType</th>\n",
       "      <th>...</th>\n",
       "      <th>PublicationDate</th>\n",
       "      <th>PurposeOfFlight</th>\n",
       "      <th>RegistrationNumber</th>\n",
       "      <th>ReportStatus</th>\n",
       "      <th>Schedule</th>\n",
       "      <th>TotalFatalInjuries</th>\n",
       "      <th>TotalMinorInjuries</th>\n",
       "      <th>TotalSeriousInjuries</th>\n",
       "      <th>TotalUninjured</th>\n",
       "      <th>WeatherCondition</th>\n",
       "    </tr>\n",
       "  </thead>\n",
       "  <tbody>\n",
       "    <tr>\n",
       "      <th>0</th>\n",
       "      <td>GAA15CA244</td>\n",
       "      <td></td>\n",
       "      <td></td>\n",
       "      <td></td>\n",
       "      <td></td>\n",
       "      <td></td>\n",
       "      <td></td>\n",
       "      <td></td>\n",
       "      <td>United States</td>\n",
       "      <td></td>\n",
       "      <td>...</td>\n",
       "      <td></td>\n",
       "      <td></td>\n",
       "      <td>N786AB</td>\n",
       "      <td>Preliminary</td>\n",
       "      <td></td>\n",
       "      <td></td>\n",
       "      <td></td>\n",
       "      <td></td>\n",
       "      <td></td>\n",
       "      <td></td>\n",
       "    </tr>\n",
       "    <tr>\n",
       "      <th>1</th>\n",
       "      <td>CEN15LA392</td>\n",
       "      <td></td>\n",
       "      <td>Airplane</td>\n",
       "      <td>Substantial</td>\n",
       "      <td>IWS</td>\n",
       "      <td>WEST HOUSTON</td>\n",
       "      <td>No</td>\n",
       "      <td>LANDING</td>\n",
       "      <td>United States</td>\n",
       "      <td></td>\n",
       "      <td>...</td>\n",
       "      <td>09/04/2015</td>\n",
       "      <td>Instructional</td>\n",
       "      <td>N452CS</td>\n",
       "      <td>Preliminary</td>\n",
       "      <td></td>\n",
       "      <td></td>\n",
       "      <td></td>\n",
       "      <td></td>\n",
       "      <td>2</td>\n",
       "      <td>VMC</td>\n",
       "    </tr>\n",
       "    <tr>\n",
       "      <th>2</th>\n",
       "      <td>GAA15CA246</td>\n",
       "      <td></td>\n",
       "      <td></td>\n",
       "      <td></td>\n",
       "      <td></td>\n",
       "      <td></td>\n",
       "      <td></td>\n",
       "      <td></td>\n",
       "      <td>United States</td>\n",
       "      <td></td>\n",
       "      <td>...</td>\n",
       "      <td></td>\n",
       "      <td></td>\n",
       "      <td>N112RP</td>\n",
       "      <td>Preliminary</td>\n",
       "      <td></td>\n",
       "      <td></td>\n",
       "      <td></td>\n",
       "      <td></td>\n",
       "      <td></td>\n",
       "      <td></td>\n",
       "    </tr>\n",
       "    <tr>\n",
       "      <th>3</th>\n",
       "      <td>GAA15CA243</td>\n",
       "      <td></td>\n",
       "      <td></td>\n",
       "      <td></td>\n",
       "      <td></td>\n",
       "      <td></td>\n",
       "      <td></td>\n",
       "      <td></td>\n",
       "      <td>United States</td>\n",
       "      <td></td>\n",
       "      <td>...</td>\n",
       "      <td></td>\n",
       "      <td></td>\n",
       "      <td>N8404X</td>\n",
       "      <td>Preliminary</td>\n",
       "      <td></td>\n",
       "      <td></td>\n",
       "      <td></td>\n",
       "      <td></td>\n",
       "      <td></td>\n",
       "      <td></td>\n",
       "    </tr>\n",
       "    <tr>\n",
       "      <th>4</th>\n",
       "      <td>GAA15CA242</td>\n",
       "      <td></td>\n",
       "      <td></td>\n",
       "      <td></td>\n",
       "      <td></td>\n",
       "      <td></td>\n",
       "      <td></td>\n",
       "      <td></td>\n",
       "      <td>United States</td>\n",
       "      <td></td>\n",
       "      <td>...</td>\n",
       "      <td></td>\n",
       "      <td></td>\n",
       "      <td>N5255G</td>\n",
       "      <td>Preliminary</td>\n",
       "      <td></td>\n",
       "      <td></td>\n",
       "      <td></td>\n",
       "      <td></td>\n",
       "      <td></td>\n",
       "      <td></td>\n",
       "    </tr>\n",
       "  </tbody>\n",
       "</table>\n",
       "<p>5 rows × 31 columns</p>\n",
       "</div>"
      ],
      "text/plain": [
       "  AccidentNumber AirCarrier AircraftCategory AircraftDamage AirportCode  \\\n",
       "0     GAA15CA244                                                          \n",
       "1     CEN15LA392                    Airplane    Substantial         IWS   \n",
       "2     GAA15CA246                                                          \n",
       "3     GAA15CA243                                                          \n",
       "4     GAA15CA242                                                          \n",
       "\n",
       "    AirportName AmateurBuilt BroadPhaseOfFlight        Country EngineType  \\\n",
       "0                                                United States              \n",
       "1  WEST HOUSTON           No            LANDING  United States              \n",
       "2                                                United States              \n",
       "3                                                United States              \n",
       "4                                                United States              \n",
       "\n",
       "        ...        PublicationDate PurposeOfFlight RegistrationNumber  \\\n",
       "0       ...                                                    N786AB   \n",
       "1       ...             09/04/2015   Instructional             N452CS   \n",
       "2       ...                                                    N112RP   \n",
       "3       ...                                                    N8404X   \n",
       "4       ...                                                    N5255G   \n",
       "\n",
       "  ReportStatus Schedule TotalFatalInjuries TotalMinorInjuries  \\\n",
       "0  Preliminary                                                  \n",
       "1  Preliminary                                                  \n",
       "2  Preliminary                                                  \n",
       "3  Preliminary                                                  \n",
       "4  Preliminary                                                  \n",
       "\n",
       "  TotalSeriousInjuries TotalUninjured WeatherCondition  \n",
       "0                                                       \n",
       "1                                   2              VMC  \n",
       "2                                                       \n",
       "3                                                       \n",
       "4                                                       \n",
       "\n",
       "[5 rows x 31 columns]"
      ]
     },
     "execution_count": 5,
     "metadata": {},
     "output_type": "execute_result"
    }
   ],
   "source": [
    "#create a dataframe\n",
    "events_list = [i.attrib for i in root[0]]\n",
    "df_events = pd.DataFrame(events_list)\n",
    "df_events.head()"
   ]
  },
  {
   "cell_type": "markdown",
   "metadata": {},
   "source": [
    "## Clean-up"
   ]
  },
  {
   "cell_type": "markdown",
   "metadata": {},
   "source": [
    "The dataframe has one major problem: empty cells from XML are stored as empty string instead of null. Timestamps are also still stored as string instead of datetime format."
   ]
  },
  {
   "cell_type": "code",
   "execution_count": 6,
   "metadata": {
    "collapsed": true
   },
   "outputs": [],
   "source": [
    "df_events['EventDate'] = pd.to_datetime(df_events['EventDate'])\n",
    "df_events['PublicationDate'] = pd.to_datetime(df_events['PublicationDate'])"
   ]
  },
  {
   "cell_type": "code",
   "execution_count": 8,
   "metadata": {
    "collapsed": false
   },
   "outputs": [
    {
     "data": {
      "text/plain": [
       "AccidentNumber           0.000000\n",
       "AirCarrier              95.058053\n",
       "AircraftCategory        78.616824\n",
       "AircraftDamage           3.085805\n",
       "AirportCode             43.724193\n",
       "AirportName             38.735649\n",
       "AmateurBuilt             0.846525\n",
       "BroadPhaseOfFlight       8.060111\n",
       "Country                  0.660134\n",
       "EngineType               4.153669\n",
       "EventDate                0.003883\n",
       "EventId                  0.000000\n",
       "FARDescription          78.429139\n",
       "InjurySeverity           0.137204\n",
       "InvestigationType        0.000000\n",
       "Latitude                69.244211\n",
       "Location                 0.104845\n",
       "Longitude               69.255860\n",
       "Make                     0.112611\n",
       "Model                    0.148854\n",
       "NumberOfEngines          5.075268\n",
       "PublicationDate         17.070298\n",
       "PurposeOfFlight          4.657183\n",
       "RegistrationNumber       3.567314\n",
       "ReportStatus             0.000000\n",
       "Schedule                85.271238\n",
       "TotalFatalInjuries      27.785185\n",
       "TotalMinorInjuries      29.154640\n",
       "TotalSeriousInjuries    30.434783\n",
       "TotalUninjured          14.749473\n",
       "WeatherCondition         2.574524\n",
       "dtype: float64"
      ]
     },
     "execution_count": 8,
     "metadata": {},
     "output_type": "execute_result"
    }
   ],
   "source": [
    "#replace empty string with nan and calculate missing value\n",
    "df_e = df_events.replace(r'^\\s*$',np.nan, regex=True)\n",
    "(len(df_e.index)-df_e.count())/len(df_e.index)*100"
   ]
  },
  {
   "cell_type": "markdown",
   "metadata": {},
   "source": [
    "From the missing value table above, it is clear that not every variables are usable for meaningful analysis.\n",
    "The subsequent dataset will be a subset of the original dataset based on 'Make' variable as it has very few missing values."
   ]
  },
  {
   "cell_type": "code",
   "execution_count": 35,
   "metadata": {
    "collapsed": false
   },
   "outputs": [
    {
     "name": "stdout",
     "output_type": "stream",
     "text": [
      "AccidentNumber\n",
      "FTW82FRA19    1\n",
      "ANC83FAA03    1\n",
      "LAX85FA036    1\n",
      "LAX85FA030    1\n",
      "CHI84LA299    1\n",
      "CHI89LA158    1\n",
      "CHI89LA159    1\n",
      "CHI89LA156    1\n",
      "CHI89LA152    1\n",
      "NYC96LA110    1\n",
      "Name: AccidentNumber, dtype: int64\n",
      "\n",
      "\n",
      "AirCarrier\n",
      "UNITED AIRLINES                           49\n",
      "AMERICAN AIRLINES                         41\n",
      "CONTINENTAL AIRLINES                      25\n",
      "USAIR                                     24\n",
      "DELTA AIR LINES INC                       23\n",
      "AMERICAN AIRLINES, INC.                   22\n",
      "SOUTHWEST AIRLINES CO                     21\n",
      "CONTINENTAL AIRLINES, INC.                19\n",
      "UNITED AIR LINES INC                      14\n",
      "SIMMONS AIRLINES (DBA: AMERICAN EAGLE)    12\n",
      "Name: AirCarrier, dtype: int64\n",
      "\n",
      "\n",
      "AircraftCategory\n",
      "Airplane             14210\n",
      "Helicopter            1775\n",
      "Glider                 261\n",
      "Balloon                120\n",
      "Gyrocraft               62\n",
      "Unknown                 40\n",
      "Weight-Shift            20\n",
      "Ultralight              18\n",
      "Powered Parachute       10\n",
      "Powered-Lift             2\n",
      "Name: AircraftCategory, dtype: int64\n",
      "\n",
      "\n",
      "AircraftDamage\n",
      "Substantial    55420\n",
      "Destroyed      17003\n",
      "Minor           2450\n",
      "Name: AircraftDamage, dtype: int64\n",
      "\n",
      "\n",
      "AirportCode\n",
      "NONE    1457\n",
      "PVT      341\n",
      "ORD      144\n",
      "APA      140\n",
      "MRI      124\n",
      "DEN      114\n",
      "OSH       90\n",
      "BJC       86\n",
      "FFZ       86\n",
      "VNY       85\n",
      "Name: AirportCode, dtype: int64\n",
      "\n",
      "\n",
      "AirportName\n",
      "N/A                 1210\n",
      "PRIVATE              215\n",
      "Private              165\n",
      "NONE                 140\n",
      "Private Airstrip     129\n",
      "PRIVATE STRIP        111\n",
      "PRIVATE AIRSTRIP      90\n",
      "None                  84\n",
      "MUNICIPAL             78\n",
      "MERRILL FIELD         75\n",
      "Name: AirportName, dtype: int64\n",
      "\n",
      "\n",
      "AmateurBuilt\n",
      "No     69198\n",
      "Yes     7405\n",
      "Name: AmateurBuilt, dtype: int64\n",
      "\n",
      "\n",
      "BroadPhaseOfFlight\n",
      "LANDING        18553\n",
      "TAKEOFF        14740\n",
      "CRUISE         10597\n",
      "MANEUVERING     9499\n",
      "APPROACH        7510\n",
      "TAXI            2260\n",
      "CLIMB           2225\n",
      "DESCENT         2152\n",
      "GO-AROUND       1570\n",
      "STANDING        1163\n",
      "Name: BroadPhaseOfFlight, dtype: int64\n",
      "\n",
      "\n",
      "Country\n",
      "United States     73076\n",
      "Canada              225\n",
      "Mexico              197\n",
      "Brazil              191\n",
      "Bahamas             188\n",
      "United Kingdom      188\n",
      "Australia           178\n",
      "France              153\n",
      "Germany             143\n",
      "Colombia            113\n",
      "Name: Country, dtype: int64\n",
      "\n",
      "\n",
      "EngineType\n",
      "Reciprocating    63016\n",
      "Turbo Shaft       3204\n",
      "Turbo Prop        2934\n",
      "Turbo Fan         2147\n",
      "Unknown           2063\n",
      "Turbo Jet          669\n",
      "None                 5\n",
      "TF, TJ               3\n",
      "REC, TJ, TJ          2\n",
      "Hybrid Rocket        1\n",
      "Name: EngineType, dtype: int64\n",
      "\n",
      "\n",
      "EventDate\n",
      "2000-07-08    25\n",
      "1982-05-16    25\n",
      "1984-06-30    25\n",
      "1986-05-17    24\n",
      "1983-06-05    24\n",
      "1984-08-25    24\n",
      "1983-08-05    24\n",
      "1988-08-07    23\n",
      "1983-05-28    23\n",
      "1982-10-03    23\n",
      "Name: EventDate, dtype: int64\n",
      "\n",
      "\n",
      "EventId\n",
      "20001214X45071    3\n",
      "20001212X19172    3\n",
      "20100204X45658    3\n",
      "20101022X34140    3\n",
      "20071024X01652    2\n",
      "20071108X01768    2\n",
      "20001208X08912    2\n",
      "20001214X36685    2\n",
      "20110715X40120    2\n",
      "20001213X31236    2\n",
      "Name: EventId, dtype: int64\n",
      "\n",
      "\n",
      "FARDescription\n",
      "Part 91: General Aviation         12934\n",
      "Part 137: Agricultural              810\n",
      "Non-U.S., Non-Commercial            677\n",
      "Part 135: Air Taxi & Commuter       643\n",
      "Non-U.S., Commercial                489\n",
      "Part 121: Air Carrier               477\n",
      "Part 129: Foreign                   185\n",
      "Unknown                             172\n",
      "Public Use                          158\n",
      "Part 133: Rotorcraft Ext. Load       87\n",
      "Name: FARDescription, dtype: int64\n",
      "\n",
      "\n",
      "InjurySeverity\n",
      "Non-Fatal      58499\n",
      "Fatal(1)        7598\n",
      "Fatal(2)        4494\n",
      "Incident        3050\n",
      "Fatal(3)        1407\n",
      "Fatal(4)         977\n",
      "Fatal(5)         301\n",
      "Unavailable      193\n",
      "Fatal(6)         190\n",
      "Fatal(7)          79\n",
      "Name: InjurySeverity, dtype: int64\n",
      "\n",
      "\n",
      "InvestigationType\n",
      "Accident    74207\n",
      "Incident     3050\n",
      "Name: InvestigationType, dtype: int64\n",
      "\n",
      "\n",
      "Latitude\n",
      "33.460833    26\n",
      "32.826111    23\n",
      "33.688333    21\n",
      "61.213611    20\n",
      "32.815556    19\n",
      "34.654444    19\n",
      "33.269167    17\n",
      "26.197222    17\n",
      "43.984444    17\n",
      "40.850000    16\n",
      "Name: Latitude, dtype: int64\n",
      "\n",
      "\n",
      "Location\n",
      "ANCHORAGE, AK      372\n",
      "MIAMI, FL          185\n",
      "CHICAGO, IL        169\n",
      "ALBUQUERQUE, NM    164\n",
      "HOUSTON, TX        155\n",
      "FAIRBANKS, AK      138\n",
      "Anchorage, AK      129\n",
      "ORLANDO, FL        114\n",
      "TUCSON, AZ         107\n",
      "ENGLEWOOD, CO      107\n",
      "Name: Location, dtype: int64\n",
      "\n",
      "\n",
      "Longitude\n",
      "-112.082500    31\n",
      "-111.728334    27\n",
      "-111.811111    22\n",
      "-104.673056    21\n",
      "-149.844444    21\n",
      "-88.556944     19\n",
      "-116.972500    18\n",
      "-117.139444    18\n",
      "-106.609167    17\n",
      "-122.158889    15\n",
      "Name: Longitude, dtype: int64\n",
      "\n",
      "\n",
      "Make\n",
      "CESSNA     16609\n",
      "PIPER       9179\n",
      "Cessna      7739\n",
      "Piper       4096\n",
      "BEECH       3030\n",
      "Beech       1748\n",
      "BELL        1515\n",
      "BOEING      1286\n",
      "GRUMMAN      903\n",
      "Bell         887\n",
      "Name: Make, dtype: int64\n",
      "\n",
      "\n",
      "Model\n",
      "152          2251\n",
      "172          1164\n",
      "172N         1121\n",
      "PA-28-140     900\n",
      "172M          771\n",
      "150           701\n",
      "172P          666\n",
      "150M          578\n",
      "PA-18         572\n",
      "PA-28-161     558\n",
      "Name: Model, dtype: int64\n",
      "\n",
      "\n",
      "NumberOfEngines\n",
      "1     61465\n",
      "2      9854\n",
      "0      1132\n",
      "3       477\n",
      "4       406\n",
      "24        1\n",
      "18        1\n",
      "Name: NumberOfEngines, dtype: int64\n",
      "\n",
      "\n",
      "PublicationDate\n",
      "1993-03-31    454\n",
      "2003-11-25    396\n",
      "2001-02-15    377\n",
      "2005-09-13    326\n",
      "1993-09-14    312\n",
      "1992-11-09    282\n",
      "2005-10-27    277\n",
      "2001-03-02    277\n",
      "2001-02-16    269\n",
      "2000-06-22    266\n",
      "Name: PublicationDate, dtype: int64\n",
      "\n",
      "\n",
      "PurposeOfFlight\n",
      "Personal              43360\n",
      "Instructional          9272\n",
      "Unknown                6764\n",
      "Aerial Application     4288\n",
      "Business               3832\n",
      "Positioning            1487\n",
      "Other Work Use         1094\n",
      "Ferry                   768\n",
      "Public Use              707\n",
      "Aerial Observation      645\n",
      "Name: PurposeOfFlight, dtype: int64\n",
      "\n",
      "\n",
      "RegistrationNumber\n",
      "NONE      363\n",
      "None       99\n",
      "USAF        9\n",
      "N20752      8\n",
      "UNK         7\n",
      "N121CC      6\n",
      "N4101E      6\n",
      "N11VH       6\n",
      "N53893      6\n",
      "N8402K      6\n",
      "Name: RegistrationNumber, dtype: int64\n",
      "\n",
      "\n",
      "ReportStatus\n",
      "Probable Cause    72264\n",
      "Foreign            3600\n",
      "Preliminary        1144\n",
      "Factual             249\n",
      "Name: ReportStatus, dtype: int64\n",
      "\n",
      "\n",
      "Schedule\n",
      "UNK     4099\n",
      "NSCH    3814\n",
      "SCHD    3466\n",
      "Name: Schedule, dtype: int64\n",
      "\n",
      "\n",
      "TotalFatalInjuries\n",
      "0     40363\n",
      "1      7615\n",
      "2      4495\n",
      "3      1408\n",
      "4       977\n",
      "5       301\n",
      "6       190\n",
      "7        79\n",
      "8        64\n",
      "10       40\n",
      "Name: TotalFatalInjuries, dtype: int64\n",
      "\n",
      "\n",
      "TotalMinorInjuries\n",
      "0    40342\n",
      "1     9267\n",
      "2     3482\n",
      "3      783\n",
      "4      381\n",
      "5      133\n",
      "6       72\n",
      "7       55\n",
      "9       26\n",
      "8       23\n",
      "Name: TotalMinorInjuries, dtype: int64\n",
      "\n",
      "\n",
      "TotalSeriousInjuries\n",
      "0     42955\n",
      "1      7794\n",
      "2      2129\n",
      "3       493\n",
      "4       200\n",
      "5        60\n",
      "6        24\n",
      "7        21\n",
      "9         7\n",
      "10        7\n",
      "Name: TotalSeriousInjuries, dtype: int64\n",
      "\n",
      "\n",
      "TotalUninjured\n",
      "1    22029\n",
      "0    19216\n",
      "2    13935\n",
      "3     3852\n",
      "4     2468\n",
      "5      801\n",
      "6      443\n",
      "7      249\n",
      "8      139\n",
      "9      106\n",
      "Name: TotalUninjured, dtype: int64\n",
      "\n",
      "\n",
      "WeatherCondition\n",
      "VMC    68764\n",
      "IMC     5580\n",
      "UNK      924\n",
      "Name: WeatherCondition, dtype: int64\n",
      "\n",
      "\n"
     ]
    }
   ],
   "source": [
    "for i in list(df_e.columns):\n",
    "    print i\n",
    "    print df_e[i].value_counts()[:10]\n",
    "    print \"\\n\""
   ]
  },
  {
   "cell_type": "code",
   "execution_count": 15,
   "metadata": {
    "collapsed": false
   },
   "outputs": [
    {
     "data": {
      "text/html": [
       "<div>\n",
       "<table border=\"1\" class=\"dataframe\">\n",
       "  <thead>\n",
       "    <tr style=\"text-align: right;\">\n",
       "      <th></th>\n",
       "      <th>EventDate</th>\n",
       "      <th>Make</th>\n",
       "      <th>Model</th>\n",
       "      <th>TotalFatalInjuries</th>\n",
       "    </tr>\n",
       "  </thead>\n",
       "  <tbody>\n",
       "    <tr>\n",
       "      <th>25773</th>\n",
       "      <td>2001-09-11</td>\n",
       "      <td>Boeing</td>\n",
       "      <td>767-200ER</td>\n",
       "      <td>92</td>\n",
       "    </tr>\n",
       "    <tr>\n",
       "      <th>60320</th>\n",
       "      <td>1987-03-04</td>\n",
       "      <td>CASA</td>\n",
       "      <td>C-212-CC</td>\n",
       "      <td>9</td>\n",
       "    </tr>\n",
       "    <tr>\n",
       "      <th>10257</th>\n",
       "      <td>2009-08-08</td>\n",
       "      <td>PIPER</td>\n",
       "      <td>PA-32R-300</td>\n",
       "      <td>9</td>\n",
       "    </tr>\n",
       "    <tr>\n",
       "      <th>27311</th>\n",
       "      <td>2001-01-14</td>\n",
       "      <td>Beech</td>\n",
       "      <td>65-A90</td>\n",
       "      <td>9</td>\n",
       "    </tr>\n",
       "    <tr>\n",
       "      <th>10256</th>\n",
       "      <td>2009-08-08</td>\n",
       "      <td>EUROCOPTER</td>\n",
       "      <td>AS 350 BA</td>\n",
       "      <td>9</td>\n",
       "    </tr>\n",
       "    <tr>\n",
       "      <th>333</th>\n",
       "      <td>2015-06-25</td>\n",
       "      <td>DEHAVILLAND</td>\n",
       "      <td>DHC 3</td>\n",
       "      <td>9</td>\n",
       "    </tr>\n",
       "    <tr>\n",
       "      <th>66449</th>\n",
       "      <td>1985-02-04</td>\n",
       "      <td>BEECH</td>\n",
       "      <td>65-A80</td>\n",
       "      <td>9</td>\n",
       "    </tr>\n",
       "    <tr>\n",
       "      <th>34413</th>\n",
       "      <td>1997-10-08</td>\n",
       "      <td>Cessna</td>\n",
       "      <td>208B</td>\n",
       "      <td>9</td>\n",
       "    </tr>\n",
       "    <tr>\n",
       "      <th>12138</th>\n",
       "      <td>2008-08-05</td>\n",
       "      <td>SIKORSKY</td>\n",
       "      <td>S-61N</td>\n",
       "      <td>9</td>\n",
       "    </tr>\n",
       "    <tr>\n",
       "      <th>47667</th>\n",
       "      <td>1991-12-11</td>\n",
       "      <td>BEECH</td>\n",
       "      <td>400</td>\n",
       "      <td>9</td>\n",
       "    </tr>\n",
       "  </tbody>\n",
       "</table>\n",
       "</div>"
      ],
      "text/plain": [
       "       EventDate         Make       Model TotalFatalInjuries\n",
       "25773 2001-09-11       Boeing   767-200ER                 92\n",
       "60320 1987-03-04         CASA    C-212-CC                  9\n",
       "10257 2009-08-08        PIPER  PA-32R-300                  9\n",
       "27311 2001-01-14        Beech      65-A90                  9\n",
       "10256 2009-08-08   EUROCOPTER   AS 350 BA                  9\n",
       "333   2015-06-25  DEHAVILLAND       DHC 3                  9\n",
       "66449 1985-02-04        BEECH      65-A80                  9\n",
       "34413 1997-10-08       Cessna        208B                  9\n",
       "12138 2008-08-05     SIKORSKY       S-61N                  9\n",
       "47667 1991-12-11        BEECH         400                  9"
      ]
     },
     "execution_count": 15,
     "metadata": {},
     "output_type": "execute_result"
    }
   ],
   "source": [
    "#list top 10 fatal crashes in USA \n",
    "df_e[(df_e.Country == 'United States')][['EventDate','Make','Model','TotalFatalInjuries']].sort_values(by='TotalFatalInjuries',ascending=False).head(10)"
   ]
  },
  {
   "cell_type": "markdown",
   "metadata": {},
   "source": [
    "Assumption: No value in TotalInjured variables doesn't always mean that it is zero as it can also means that it is unknown. Let's create a new variable storing the total number of people involved in each accident"
   ]
  },
  {
   "cell_type": "code",
   "execution_count": 159,
   "metadata": {
    "collapsed": false
   },
   "outputs": [],
   "source": [
    "#convert to numeric\n",
    "df_e[['TotalFatalInjuries','TotalMinorInjuries','TotalSeriousInjuries','TotalUninjured']]=df_e[['TotalFatalInjuries','TotalMinorInjuries','TotalSeriousInjuries','TotalUninjured']].apply(pd.to_numeric)\n",
    "#add TotalPerson variable\n",
    "df_e['TotalPerson'] = df_e['TotalFatalInjuries'] + df_e['TotalSeriousInjuries'] + df_e['TotalMinorInjuries'] + df_e['TotalUninjured'] "
   ]
  },
  {
   "cell_type": "code",
   "execution_count": 70,
   "metadata": {
    "collapsed": true
   },
   "outputs": [],
   "source": [
    "#Let's store percentage of injuries and fatalities on each accident\n",
    "df_e['PctInjured'] = (df_e['TotalSeriousInjuries'] + df_e['TotalMinorInjuries']) / df_e['TotalPerson'] * 100\n",
    "df_e['PctDeath'] = df_e['TotalFatalInjuries'] / df_e['TotalPerson'] * 100"
   ]
  },
  {
   "cell_type": "code",
   "execution_count": 71,
   "metadata": {
    "collapsed": false
   },
   "outputs": [
    {
     "name": "stdout",
     "output_type": "stream",
     "text": [
      "Number of accidents in the dataset: 77257\n",
      "Date range: 1948-10-24 00:00:00 to 2015-09-01 00:00:00\n"
     ]
    },
    {
     "name": "stderr",
     "output_type": "stream",
     "text": [
      "C:\\Anaconda2\\lib\\site-packages\\numpy\\lib\\function_base.py:3834: RuntimeWarning: Invalid value encountered in percentile\n",
      "  RuntimeWarning)\n"
     ]
    },
    {
     "data": {
      "text/html": [
       "<div>\n",
       "<table border=\"1\" class=\"dataframe\">\n",
       "  <thead>\n",
       "    <tr style=\"text-align: right;\">\n",
       "      <th></th>\n",
       "      <th>TotalFatalInjuries</th>\n",
       "      <th>TotalMinorInjuries</th>\n",
       "      <th>TotalSeriousInjuries</th>\n",
       "      <th>TotalUninjured</th>\n",
       "    </tr>\n",
       "  </thead>\n",
       "  <tbody>\n",
       "    <tr>\n",
       "      <th>count</th>\n",
       "      <td>55791.000000</td>\n",
       "      <td>54733.000000</td>\n",
       "      <td>53744.000000</td>\n",
       "      <td>65862.000000</td>\n",
       "    </tr>\n",
       "    <tr>\n",
       "      <th>mean</th>\n",
       "      <td>0.788962</td>\n",
       "      <td>0.492555</td>\n",
       "      <td>0.309895</td>\n",
       "      <td>5.716817</td>\n",
       "    </tr>\n",
       "    <tr>\n",
       "      <th>std</th>\n",
       "      <td>6.087442</td>\n",
       "      <td>2.779814</td>\n",
       "      <td>1.368488</td>\n",
       "      <td>29.052413</td>\n",
       "    </tr>\n",
       "    <tr>\n",
       "      <th>min</th>\n",
       "      <td>0.000000</td>\n",
       "      <td>0.000000</td>\n",
       "      <td>0.000000</td>\n",
       "      <td>0.000000</td>\n",
       "    </tr>\n",
       "    <tr>\n",
       "      <th>25%</th>\n",
       "      <td>NaN</td>\n",
       "      <td>NaN</td>\n",
       "      <td>NaN</td>\n",
       "      <td>NaN</td>\n",
       "    </tr>\n",
       "    <tr>\n",
       "      <th>50%</th>\n",
       "      <td>NaN</td>\n",
       "      <td>NaN</td>\n",
       "      <td>NaN</td>\n",
       "      <td>NaN</td>\n",
       "    </tr>\n",
       "    <tr>\n",
       "      <th>75%</th>\n",
       "      <td>NaN</td>\n",
       "      <td>NaN</td>\n",
       "      <td>NaN</td>\n",
       "      <td>NaN</td>\n",
       "    </tr>\n",
       "    <tr>\n",
       "      <th>max</th>\n",
       "      <td>349.000000</td>\n",
       "      <td>380.000000</td>\n",
       "      <td>111.000000</td>\n",
       "      <td>699.000000</td>\n",
       "    </tr>\n",
       "  </tbody>\n",
       "</table>\n",
       "</div>"
      ],
      "text/plain": [
       "       TotalFatalInjuries  TotalMinorInjuries  TotalSeriousInjuries  \\\n",
       "count        55791.000000        54733.000000          53744.000000   \n",
       "mean             0.788962            0.492555              0.309895   \n",
       "std              6.087442            2.779814              1.368488   \n",
       "min              0.000000            0.000000              0.000000   \n",
       "25%                   NaN                 NaN                   NaN   \n",
       "50%                   NaN                 NaN                   NaN   \n",
       "75%                   NaN                 NaN                   NaN   \n",
       "max            349.000000          380.000000            111.000000   \n",
       "\n",
       "       TotalUninjured  \n",
       "count    65862.000000  \n",
       "mean         5.716817  \n",
       "std         29.052413  \n",
       "min          0.000000  \n",
       "25%               NaN  \n",
       "50%               NaN  \n",
       "75%               NaN  \n",
       "max        699.000000  "
      ]
     },
     "execution_count": 71,
     "metadata": {},
     "output_type": "execute_result"
    }
   ],
   "source": [
    "print \"Number of accidents in the dataset: \" + str(len(df_e.index))\n",
    "df_e[['TotalFatalInjuries','TotalMinorInjuries','TotalSeriousInjuries','TotalUninjured']].describe()"
   ]
  },
  {
   "cell_type": "markdown",
   "metadata": {},
   "source": [
    "## Temporal & Spatial Dimension"
   ]
  },
  {
   "cell_type": "code",
   "execution_count": 140,
   "metadata": {
    "collapsed": false
   },
   "outputs": [
    {
     "name": "stdout",
     "output_type": "stream",
     "text": [
      "Date range: 1948-10-24 00:00:00 to 2015-09-01 00:00:00\n"
     ]
    }
   ],
   "source": [
    "print \"Date range: \" + str(df_e['EventDate'].min()) + \" to \" + str(df_e['EventDate'].max())"
   ]
  },
  {
   "cell_type": "code",
   "execution_count": 151,
   "metadata": {
    "collapsed": false
   },
   "outputs": [
    {
     "data": {
      "text/plain": [
       "<matplotlib.axes._subplots.AxesSubplot at 0x231a3780>"
      ]
     },
     "execution_count": 151,
     "metadata": {},
     "output_type": "execute_result"
    },
    {
     "data": {
      "image/png": "[encoded data removed]",
      "text/plain": [
       "<matplotlib.figure.Figure at 0x22fd9470>"
      ]
     },
     "metadata": {},
     "output_type": "display_data"
    }
   ],
   "source": [
    "df_e['AccidentNumber'].groupby(df_e['EventDate'].map(lambda x: x.year)).count().plot()"
   ]
  },
  {
   "cell_type": "code",
   "execution_count": 155,
   "metadata": {
    "collapsed": false
   },
   "outputs": [
    {
     "data": {
      "text/plain": [
       "EventDate\n",
       "1948.0       1\n",
       "1962.0       1\n",
       "1974.0       1\n",
       "1977.0       1\n",
       "1979.0       1\n",
       "1981.0       1\n",
       "1982.0    3593\n",
       "1983.0    3556\n",
       "1984.0    3457\n",
       "1985.0    3096\n",
       "Name: AccidentNumber, dtype: int64"
      ]
     },
     "execution_count": 155,
     "metadata": {},
     "output_type": "execute_result"
    }
   ],
   "source": [
    "df_e['AccidentNumber'].groupby(df_e['EventDate'].map(lambda x: x.year)).count().iloc[:10]"
   ]
  },
  {
   "cell_type": "markdown",
   "metadata": {},
   "source": [
    "While the dataset spans across 6 decades, seems like the first valid year is 1982 and goes up to 2015 (partial).\n",
    "\n",
    "What about the location of the accidents?"
   ]
  },
  {
   "cell_type": "code",
   "execution_count": 208,
   "metadata": {
    "collapsed": false
   },
   "outputs": [
    {
     "name": "stdout",
     "output_type": "stream",
     "text": [
      "United States     73076\n",
      "Canada              225\n",
      "Mexico              197\n",
      "Brazil              191\n",
      "Bahamas             188\n",
      "United Kingdom      188\n",
      "Australia           178\n",
      "France              153\n",
      "Germany             143\n",
      "Colombia            113\n",
      "Name: Country, dtype: int64\n"
     ]
    }
   ],
   "source": [
    "print df_e['Country'].value_counts()[:10]"
   ]
  },
  {
   "cell_type": "code",
   "execution_count": 209,
   "metadata": {
    "collapsed": false
   },
   "outputs": [
    {
     "name": "stdout",
     "output_type": "stream",
     "text": [
      "173\n"
     ]
    }
   ],
   "source": [
    "print len(df_e['Country'].value_counts())"
   ]
  },
  {
   "cell_type": "code",
   "execution_count": 200,
   "metadata": {
    "collapsed": false
   },
   "outputs": [],
   "source": [
    "df_g = df_e[(df_e.Latitude>=0)&(df_e.Longitude>=0)]\n",
    "df_g[['Latitude','Longitude']] = df_g[['Latitude','Longitude']].apply(pd.to_numeric)\n",
    "geom = zip(df_g.Longitude, df_g.Latitude)\n",
    "geometry = [Point(xy) for xy in geom]\n",
    "geo_df = gp.GeoDataFrame(df_g, crs=None, geometry=geometry)"
   ]
  },
  {
   "cell_type": "code",
   "execution_count": 204,
   "metadata": {
    "collapsed": false
   },
   "outputs": [
    {
     "data": {
      "text/plain": [
       "<matplotlib.axes._subplots.AxesSubplot at 0x364170f0>"
      ]
     },
     "execution_count": 204,
     "metadata": {},
     "output_type": "execute_result"
    },
    {
     "data": {
      "image/png": "[encoded data removed]",
      "text/plain": [
       "<matplotlib.figure.Figure at 0x36584da0>"
      ]
     },
     "metadata": {},
     "output_type": "display_data"
    },
    {
     "data": {
      "text/plain": [
       "<matplotlib.figure.Figure at 0x6d085240>"
      ]
     },
     "metadata": {},
     "output_type": "display_data"
    }
   ],
   "source": [
    "world = gp.read_file(gp.datasets.get_path('naturalearth_lowres'))\n",
    "base = world.plot(color='white')\n",
    "plt.figure(figsize=(20,10))\n",
    "geo_df['geometry'].plot(ax=base, marker='o', color='red', markersize=2)"
   ]
  },
  {
   "cell_type": "markdown",
   "metadata": {},
   "source": [
    "While the dataset covers accidents from 173 countries, 94% of the records are from United States. This, of course, does not necessarily reflect real-world numbers as NTSB focuses more on accidents happening in US soil.\n",
    "\n",
    "The earth surface is 71% water, though, and emergency procedures on flights also emphasize on landing over water. How many crashes happens over water? "
   ]
  },
  {
   "cell_type": "code",
   "execution_count": 296,
   "metadata": {
    "collapsed": false
   },
   "outputs": [
    {
     "name": "stderr",
     "output_type": "stream",
     "text": [
      "ERROR:Fiona:CPLE_OpenFailed in Unable to open EPSG support file gcs.csv.\n",
      "Try setting the GDAL_DATA environment variable to point to the\n",
      "directory containing EPSG csv files.\n"
     ]
    }
   ],
   "source": [
    "ocean = gp.read_file('ocean.geojson')"
   ]
  },
  {
   "cell_type": "code",
   "execution_count": 302,
   "metadata": {
    "collapsed": false
   },
   "outputs": [
    {
     "data": {
      "text/html": [
       "<div>\n",
       "<table border=\"1\" class=\"dataframe\">\n",
       "  <thead>\n",
       "    <tr style=\"text-align: right;\">\n",
       "      <th></th>\n",
       "      <th>featurecla</th>\n",
       "      <th>geometry</th>\n",
       "      <th>scalerank</th>\n",
       "    </tr>\n",
       "  </thead>\n",
       "  <tbody>\n",
       "    <tr>\n",
       "      <th>0</th>\n",
       "      <td>Ocean</td>\n",
       "      <td>(POLYGON ((180 84.0166204990001, 180 83.518005...</td>\n",
       "      <td>0</td>\n",
       "    </tr>\n",
       "  </tbody>\n",
       "</table>\n",
       "</div>"
      ],
      "text/plain": [
       "  featurecla                                           geometry  scalerank\n",
       "0      Ocean  (POLYGON ((180 84.0166204990001, 180 83.518005...          0"
      ]
     },
     "execution_count": 302,
     "metadata": {},
     "output_type": "execute_result"
    }
   ],
   "source": [
    "ocean.head()"
   ]
  },
  {
   "cell_type": "code",
   "execution_count": 300,
   "metadata": {
    "collapsed": false
   },
   "outputs": [
    {
     "name": "stdout",
     "output_type": "stream",
     "text": [
      "Warning: CRS does not match!\n"
     ]
    }
   ],
   "source": [
    "ocean_join = gp.tools.sjoin(geo_df, ocean, how=\"left\", op='within')"
   ]
  },
  {
   "cell_type": "code",
   "execution_count": 305,
   "metadata": {
    "collapsed": false
   },
   "outputs": [],
   "source": [
    "ocean_join['IsOnWater']=np.where(ocean_join['featurecla']==\"Ocean\",1,0)"
   ]
  },
  {
   "cell_type": "code",
   "execution_count": 306,
   "metadata": {
    "collapsed": false
   },
   "outputs": [
    {
     "data": {
      "text/plain": [
       "942"
      ]
     },
     "execution_count": 306,
     "metadata": {},
     "output_type": "execute_result"
    }
   ],
   "source": [
    "ocean_join['IsOnWater'].sum()"
   ]
  },
  {
   "cell_type": "markdown",
   "metadata": {},
   "source": [
    "Only 942 incidents happens over water."
   ]
  },
  {
   "cell_type": "markdown",
   "metadata": {},
   "source": [
    "### Small Airplane vs Big Airplane\n",
    "\n",
    "While for most people flying is associated with using scheduled commercial airline, a large number of flights are actually categorized as General Aviation (GA), ranging from small two-seaters small plane to large private jets. A large proportion of accidents covered this dataset actually involves single-engine propeller (\"recirpocating\") aicraft, comprising 73.9% of all accidents."
   ]
  },
  {
   "cell_type": "code",
   "execution_count": 212,
   "metadata": {
    "collapsed": false
   },
   "outputs": [
    {
     "data": {
      "text/html": [
       "<div>\n",
       "<table border=\"1\" class=\"dataframe\">\n",
       "  <thead>\n",
       "    <tr style=\"text-align: right;\">\n",
       "      <th>NumberOfEngines</th>\n",
       "      <th>0.0</th>\n",
       "      <th>1.0</th>\n",
       "      <th>2.0</th>\n",
       "      <th>3.0</th>\n",
       "      <th>4.0</th>\n",
       "      <th>18.0</th>\n",
       "      <th>24.0</th>\n",
       "    </tr>\n",
       "    <tr>\n",
       "      <th>EngineType</th>\n",
       "      <th></th>\n",
       "      <th></th>\n",
       "      <th></th>\n",
       "      <th></th>\n",
       "      <th></th>\n",
       "      <th></th>\n",
       "      <th></th>\n",
       "    </tr>\n",
       "  </thead>\n",
       "  <tbody>\n",
       "    <tr>\n",
       "      <th>Electric</th>\n",
       "      <td>0.000000</td>\n",
       "      <td>0.001294</td>\n",
       "      <td>0.000000</td>\n",
       "      <td>0.000000</td>\n",
       "      <td>0.000000</td>\n",
       "      <td>0.000000</td>\n",
       "      <td>0.000000</td>\n",
       "    </tr>\n",
       "    <tr>\n",
       "      <th>Hybrid Rocket</th>\n",
       "      <td>0.000000</td>\n",
       "      <td>0.001294</td>\n",
       "      <td>0.000000</td>\n",
       "      <td>0.000000</td>\n",
       "      <td>0.000000</td>\n",
       "      <td>0.000000</td>\n",
       "      <td>0.000000</td>\n",
       "    </tr>\n",
       "    <tr>\n",
       "      <th>None</th>\n",
       "      <td>0.003883</td>\n",
       "      <td>0.001294</td>\n",
       "      <td>0.001294</td>\n",
       "      <td>0.000000</td>\n",
       "      <td>0.000000</td>\n",
       "      <td>0.000000</td>\n",
       "      <td>0.000000</td>\n",
       "    </tr>\n",
       "    <tr>\n",
       "      <th>REC, TJ, REC, TJ</th>\n",
       "      <td>0.000000</td>\n",
       "      <td>0.000000</td>\n",
       "      <td>0.000000</td>\n",
       "      <td>0.000000</td>\n",
       "      <td>0.001294</td>\n",
       "      <td>0.000000</td>\n",
       "      <td>0.000000</td>\n",
       "    </tr>\n",
       "    <tr>\n",
       "      <th>REC, TJ, TJ</th>\n",
       "      <td>0.000000</td>\n",
       "      <td>0.000000</td>\n",
       "      <td>0.000000</td>\n",
       "      <td>0.000000</td>\n",
       "      <td>0.002589</td>\n",
       "      <td>0.000000</td>\n",
       "      <td>0.000000</td>\n",
       "    </tr>\n",
       "    <tr>\n",
       "      <th>Reciprocating</th>\n",
       "      <td>0.002589</td>\n",
       "      <td>73.927282</td>\n",
       "      <td>7.230413</td>\n",
       "      <td>0.006472</td>\n",
       "      <td>0.066013</td>\n",
       "      <td>0.001294</td>\n",
       "      <td>0.001294</td>\n",
       "    </tr>\n",
       "    <tr>\n",
       "      <th>TF, TJ</th>\n",
       "      <td>0.000000</td>\n",
       "      <td>0.000000</td>\n",
       "      <td>0.003883</td>\n",
       "      <td>0.000000</td>\n",
       "      <td>0.000000</td>\n",
       "      <td>0.000000</td>\n",
       "      <td>0.000000</td>\n",
       "    </tr>\n",
       "    <tr>\n",
       "      <th>TF, TJ, TJ</th>\n",
       "      <td>0.000000</td>\n",
       "      <td>0.000000</td>\n",
       "      <td>0.000000</td>\n",
       "      <td>0.001294</td>\n",
       "      <td>0.000000</td>\n",
       "      <td>0.000000</td>\n",
       "      <td>0.000000</td>\n",
       "    </tr>\n",
       "    <tr>\n",
       "      <th>TJ, REC, REC, TJ</th>\n",
       "      <td>0.000000</td>\n",
       "      <td>0.000000</td>\n",
       "      <td>0.000000</td>\n",
       "      <td>0.000000</td>\n",
       "      <td>0.001294</td>\n",
       "      <td>0.000000</td>\n",
       "      <td>0.000000</td>\n",
       "    </tr>\n",
       "    <tr>\n",
       "      <th>Turbo Fan</th>\n",
       "      <td>0.000000</td>\n",
       "      <td>0.034948</td>\n",
       "      <td>1.901446</td>\n",
       "      <td>0.460800</td>\n",
       "      <td>0.304180</td>\n",
       "      <td>0.000000</td>\n",
       "      <td>0.000000</td>\n",
       "    </tr>\n",
       "    <tr>\n",
       "      <th>Turbo Jet</th>\n",
       "      <td>0.000000</td>\n",
       "      <td>0.110022</td>\n",
       "      <td>0.552701</td>\n",
       "      <td>0.130732</td>\n",
       "      <td>0.062130</td>\n",
       "      <td>0.000000</td>\n",
       "      <td>0.000000</td>\n",
       "    </tr>\n",
       "    <tr>\n",
       "      <th>Turbo Prop</th>\n",
       "      <td>0.000000</td>\n",
       "      <td>1.539019</td>\n",
       "      <td>2.169383</td>\n",
       "      <td>0.000000</td>\n",
       "      <td>0.047892</td>\n",
       "      <td>0.000000</td>\n",
       "      <td>0.000000</td>\n",
       "    </tr>\n",
       "    <tr>\n",
       "      <th>Turbo Shaft</th>\n",
       "      <td>0.000000</td>\n",
       "      <td>3.500006</td>\n",
       "      <td>0.585060</td>\n",
       "      <td>0.001294</td>\n",
       "      <td>0.000000</td>\n",
       "      <td>0.000000</td>\n",
       "      <td>0.000000</td>\n",
       "    </tr>\n",
       "    <tr>\n",
       "      <th>Unknown</th>\n",
       "      <td>0.880179</td>\n",
       "      <td>0.098373</td>\n",
       "      <td>0.028476</td>\n",
       "      <td>0.001294</td>\n",
       "      <td>0.006472</td>\n",
       "      <td>0.000000</td>\n",
       "      <td>0.000000</td>\n",
       "    </tr>\n",
       "  </tbody>\n",
       "</table>\n",
       "</div>"
      ],
      "text/plain": [
       "NumberOfEngines       0.0        1.0       2.0       3.0       4.0       18.0  \\\n",
       "EngineType                                                                      \n",
       "Electric          0.000000   0.001294  0.000000  0.000000  0.000000  0.000000   \n",
       "Hybrid Rocket     0.000000   0.001294  0.000000  0.000000  0.000000  0.000000   \n",
       "None              0.003883   0.001294  0.001294  0.000000  0.000000  0.000000   \n",
       "REC, TJ, REC, TJ  0.000000   0.000000  0.000000  0.000000  0.001294  0.000000   \n",
       "REC, TJ, TJ       0.000000   0.000000  0.000000  0.000000  0.002589  0.000000   \n",
       "Reciprocating     0.002589  73.927282  7.230413  0.006472  0.066013  0.001294   \n",
       "TF, TJ            0.000000   0.000000  0.003883  0.000000  0.000000  0.000000   \n",
       "TF, TJ, TJ        0.000000   0.000000  0.000000  0.001294  0.000000  0.000000   \n",
       "TJ, REC, REC, TJ  0.000000   0.000000  0.000000  0.000000  0.001294  0.000000   \n",
       "Turbo Fan         0.000000   0.034948  1.901446  0.460800  0.304180  0.000000   \n",
       "Turbo Jet         0.000000   0.110022  0.552701  0.130732  0.062130  0.000000   \n",
       "Turbo Prop        0.000000   1.539019  2.169383  0.000000  0.047892  0.000000   \n",
       "Turbo Shaft       0.000000   3.500006  0.585060  0.001294  0.000000  0.000000   \n",
       "Unknown           0.880179   0.098373  0.028476  0.001294  0.006472  0.000000   \n",
       "\n",
       "NumberOfEngines       24.0  \n",
       "EngineType                  \n",
       "Electric          0.000000  \n",
       "Hybrid Rocket     0.000000  \n",
       "None              0.000000  \n",
       "REC, TJ, REC, TJ  0.000000  \n",
       "REC, TJ, TJ       0.000000  \n",
       "Reciprocating     0.001294  \n",
       "TF, TJ            0.000000  \n",
       "TF, TJ, TJ        0.000000  \n",
       "TJ, REC, REC, TJ  0.000000  \n",
       "Turbo Fan         0.000000  \n",
       "Turbo Jet         0.000000  \n",
       "Turbo Prop        0.000000  \n",
       "Turbo Shaft       0.000000  \n",
       "Unknown           0.000000  "
      ]
     },
     "execution_count": 212,
     "metadata": {},
     "output_type": "execute_result"
    }
   ],
   "source": [
    "df_e['NumberOfEngines'] = df_e['NumberOfEngines'].astype(float)\n",
    "pd.crosstab(df_e.EngineType,df_e.NumberOfEngines).applymap(lambda x: x*100.0/77257)"
   ]
  },
  {
   "cell_type": "markdown",
   "metadata": {},
   "source": [
    "Consistent with general aviation characteristic, most of these single-engine aircraft are overwhemingly used in personal and instructional flight, as pilots starts with small aircraft and move towards larger one through certification process."
   ]
  },
  {
   "cell_type": "code",
   "execution_count": 116,
   "metadata": {
    "collapsed": false
   },
   "outputs": [
    {
     "data": {
      "text/plain": [
       "<matplotlib.axes._subplots.AxesSubplot at 0x230b5c18>"
      ]
     },
     "execution_count": 116,
     "metadata": {},
     "output_type": "execute_result"
    },
    {
     "data": {
      "image/png": "[encoded data removed]",
      "text/plain": [
       "<matplotlib.figure.Figure at 0x2742a8d0>"
      ]
     },
     "metadata": {},
     "output_type": "display_data"
    }
   ],
   "source": [
    "sns.heatmap(pd.crosstab(df_e.PurposeOfFlight,df_e.NumberOfEngines))"
   ]
  },
  {
   "cell_type": "markdown",
   "metadata": {},
   "source": [
    "In fact, filtering the dataset just by those three criteria (single engine, reciprocating, and personal purpose) yield 37,866 records - 49% of the all the accidents."
   ]
  },
  {
   "cell_type": "code",
   "execution_count": 213,
   "metadata": {
    "collapsed": false
   },
   "outputs": [
    {
     "data": {
      "text/plain": [
       "49.013034417593225"
      ]
     },
     "execution_count": 213,
     "metadata": {},
     "output_type": "execute_result"
    }
   ],
   "source": [
    "len(df_e[(df_e.PurposeOfFlight==\"Personal\")&(df_e.NumberOfEngines == 1)&(df_e.EngineType==\"Reciprocating\")].index)*100.0/len(df_e.index)"
   ]
  },
  {
   "cell_type": "markdown",
   "metadata": {},
   "source": [
    "Does that mean 51% of all accidents occurs on commercial flights which most people know and use to travel between cities?\n",
    "\n",
    "The problem with the dataset is that it does not contain sufficient information to figure out such as crucial variables (e.g. FARdescription, Schedule) having very high missing values.\n",
    "\n",
    "For the sake of familiarity, let's define commercial flights is one with multiple turbojet/turbofan engine. While we have Total Person variable, we cannot use it as there are fair number of missing value (25-30%) and it only represents number of people involved, not plane capacity."
   ]
  },
  {
   "cell_type": "code",
   "execution_count": 221,
   "metadata": {
    "collapsed": false
   },
   "outputs": [
    {
     "data": {
      "text/plain": [
       "5663"
      ]
     },
     "execution_count": 221,
     "metadata": {},
     "output_type": "execute_result"
    }
   ],
   "source": [
    "len(df_e[(df_e.NumberOfEngines > 1)&(df_e.EngineType==\"Turbo Fan\")|(df_e.EngineType==\"Turbo Jet\")|(df_e.EngineType==\"Turbo Prop\")].index)"
   ]
  },
  {
   "cell_type": "markdown",
   "metadata": {},
   "source": [
    "There are 5,663 commercial flight in the dataset, representing 7.3% of all accidents."
   ]
  },
  {
   "cell_type": "code",
   "execution_count": 229,
   "metadata": {
    "collapsed": false
   },
   "outputs": [],
   "source": [
    "## Create new variable\n",
    "df_e['FlightType'] = np.where(((df_e.NumberOfEngines > 1)&(df_e.EngineType==\"Turbo Fan\")|(df_e.EngineType==\"Turbo Jet\")|(df_e.EngineType==\"Turbo Prop\")), 'Commercial', 'Non-commercial')"
   ]
  },
  {
   "cell_type": "markdown",
   "metadata": {},
   "source": [
    "## Fatalities & Injuries"
   ]
  },
  {
   "cell_type": "markdown",
   "metadata": {},
   "source": [
    "Let's assign severity based on the percentage of fatalities and injuries in each accident."
   ]
  },
  {
   "cell_type": "code",
   "execution_count": 244,
   "metadata": {
    "collapsed": true
   },
   "outputs": [],
   "source": [
    "def pctlevel(x):\n",
    "    #<20% = 0, 20-40% = 1, etc\n",
    "    return x // 20"
   ]
  },
  {
   "cell_type": "code",
   "execution_count": 246,
   "metadata": {
    "collapsed": false
   },
   "outputs": [],
   "source": [
    "df_e['severity_fatal'] = df_e['PctDeath'].apply(lambda x : pctlevel(x))\n",
    "df_e['severity_injured'] = df_e['PctInjured'].apply(lambda x : pctlevel(x))"
   ]
  },
  {
   "cell_type": "code",
   "execution_count": 250,
   "metadata": {
    "collapsed": false
   },
   "outputs": [
    {
     "data": {
      "text/html": [
       "<div>\n",
       "<table border=\"1\" class=\"dataframe\">\n",
       "  <thead>\n",
       "    <tr style=\"text-align: right;\">\n",
       "      <th>severity_fatal</th>\n",
       "      <th>0.0</th>\n",
       "      <th>1.0</th>\n",
       "      <th>2.0</th>\n",
       "      <th>3.0</th>\n",
       "      <th>4.0</th>\n",
       "      <th>5.0</th>\n",
       "    </tr>\n",
       "    <tr>\n",
       "      <th>FlightType</th>\n",
       "      <th></th>\n",
       "      <th></th>\n",
       "      <th></th>\n",
       "      <th></th>\n",
       "      <th></th>\n",
       "      <th></th>\n",
       "    </tr>\n",
       "  </thead>\n",
       "  <tbody>\n",
       "    <tr>\n",
       "      <th>Commercial</th>\n",
       "      <td>84.277127</td>\n",
       "      <td>0.980702</td>\n",
       "      <td>1.075609</td>\n",
       "      <td>0.411262</td>\n",
       "      <td>0.442898</td>\n",
       "      <td>12.812401</td>\n",
       "    </tr>\n",
       "    <tr>\n",
       "      <th>Non-commercial</th>\n",
       "      <td>80.762569</td>\n",
       "      <td>0.763424</td>\n",
       "      <td>1.888245</td>\n",
       "      <td>0.588072</td>\n",
       "      <td>0.102645</td>\n",
       "      <td>15.895045</td>\n",
       "    </tr>\n",
       "  </tbody>\n",
       "</table>\n",
       "</div>"
      ],
      "text/plain": [
       "severity_fatal        0.0       1.0       2.0       3.0       4.0        5.0\n",
       "FlightType                                                                  \n",
       "Commercial      84.277127  0.980702  1.075609  0.411262  0.442898  12.812401\n",
       "Non-commercial  80.762569  0.763424  1.888245  0.588072  0.102645  15.895045"
      ]
     },
     "execution_count": 250,
     "metadata": {},
     "output_type": "execute_result"
    }
   ],
   "source": [
    "pd.crosstab(df_e.FlightType,df_e.severity_fatal).apply(lambda x: x*100/x.sum(),axis=1)"
   ]
  },
  {
   "cell_type": "code",
   "execution_count": 251,
   "metadata": {
    "collapsed": false
   },
   "outputs": [
    {
     "data": {
      "text/html": [
       "<div>\n",
       "<table border=\"1\" class=\"dataframe\">\n",
       "  <thead>\n",
       "    <tr style=\"text-align: right;\">\n",
       "      <th>severity_injured</th>\n",
       "      <th>0.0</th>\n",
       "      <th>1.0</th>\n",
       "      <th>2.0</th>\n",
       "      <th>3.0</th>\n",
       "      <th>4.0</th>\n",
       "      <th>5.0</th>\n",
       "    </tr>\n",
       "    <tr>\n",
       "      <th>FlightType</th>\n",
       "      <th></th>\n",
       "      <th></th>\n",
       "      <th></th>\n",
       "      <th></th>\n",
       "      <th></th>\n",
       "      <th></th>\n",
       "    </tr>\n",
       "  </thead>\n",
       "  <tbody>\n",
       "    <tr>\n",
       "      <th>Commercial</th>\n",
       "      <td>88.421386</td>\n",
       "      <td>2.435938</td>\n",
       "      <td>1.739956</td>\n",
       "      <td>1.012338</td>\n",
       "      <td>0.442898</td>\n",
       "      <td>5.947485</td>\n",
       "    </tr>\n",
       "    <tr>\n",
       "      <th>Non-commercial</th>\n",
       "      <td>70.673396</td>\n",
       "      <td>2.187627</td>\n",
       "      <td>4.670359</td>\n",
       "      <td>1.383572</td>\n",
       "      <td>0.211706</td>\n",
       "      <td>20.873340</td>\n",
       "    </tr>\n",
       "  </tbody>\n",
       "</table>\n",
       "</div>"
      ],
      "text/plain": [
       "severity_injured        0.0       1.0       2.0       3.0       4.0        5.0\n",
       "FlightType                                                                    \n",
       "Commercial        88.421386  2.435938  1.739956  1.012338  0.442898   5.947485\n",
       "Non-commercial    70.673396  2.187627  4.670359  1.383572  0.211706  20.873340"
      ]
     },
     "execution_count": 251,
     "metadata": {},
     "output_type": "execute_result"
    }
   ],
   "source": [
    "pd.crosstab(df_e.FlightType,df_e.severity_injured).apply(lambda x: x*100/x.sum(),axis=1)"
   ]
  },
  {
   "cell_type": "markdown",
   "metadata": {},
   "source": [
    "What is the most dangerous phase of flight?"
   ]
  },
  {
   "cell_type": "code",
   "execution_count": 253,
   "metadata": {
    "collapsed": false
   },
   "outputs": [
    {
     "data": {
      "text/html": [
       "<div>\n",
       "<table border=\"1\" class=\"dataframe\">\n",
       "  <thead>\n",
       "    <tr style=\"text-align: right;\">\n",
       "      <th>severity_fatal</th>\n",
       "      <th>0.0</th>\n",
       "      <th>1.0</th>\n",
       "      <th>2.0</th>\n",
       "      <th>3.0</th>\n",
       "      <th>4.0</th>\n",
       "      <th>5.0</th>\n",
       "    </tr>\n",
       "    <tr>\n",
       "      <th>BroadPhaseOfFlight</th>\n",
       "      <th></th>\n",
       "      <th></th>\n",
       "      <th></th>\n",
       "      <th></th>\n",
       "      <th></th>\n",
       "      <th></th>\n",
       "    </tr>\n",
       "  </thead>\n",
       "  <tbody>\n",
       "    <tr>\n",
       "      <th>APPROACH</th>\n",
       "      <td>76.522574</td>\n",
       "      <td>1.075889</td>\n",
       "      <td>2.593660</td>\n",
       "      <td>0.864553</td>\n",
       "      <td>0.211335</td>\n",
       "      <td>18.731988</td>\n",
       "    </tr>\n",
       "    <tr>\n",
       "      <th>CLIMB</th>\n",
       "      <td>70.248937</td>\n",
       "      <td>1.275046</td>\n",
       "      <td>2.550091</td>\n",
       "      <td>1.153613</td>\n",
       "      <td>0.182149</td>\n",
       "      <td>24.590164</td>\n",
       "    </tr>\n",
       "    <tr>\n",
       "      <th>CRUISE</th>\n",
       "      <td>72.976896</td>\n",
       "      <td>0.689488</td>\n",
       "      <td>1.717673</td>\n",
       "      <td>0.762066</td>\n",
       "      <td>0.108867</td>\n",
       "      <td>23.745010</td>\n",
       "    </tr>\n",
       "    <tr>\n",
       "      <th>DESCENT</th>\n",
       "      <td>76.007931</td>\n",
       "      <td>0.925314</td>\n",
       "      <td>1.454065</td>\n",
       "      <td>0.660939</td>\n",
       "      <td>0.198282</td>\n",
       "      <td>20.753470</td>\n",
       "    </tr>\n",
       "    <tr>\n",
       "      <th>GO-AROUND</th>\n",
       "      <td>80.708295</td>\n",
       "      <td>1.025163</td>\n",
       "      <td>2.236719</td>\n",
       "      <td>1.304753</td>\n",
       "      <td>0.093197</td>\n",
       "      <td>14.631873</td>\n",
       "    </tr>\n",
       "    <tr>\n",
       "      <th>LANDING</th>\n",
       "      <td>98.303091</td>\n",
       "      <td>0.285618</td>\n",
       "      <td>0.478831</td>\n",
       "      <td>0.050403</td>\n",
       "      <td>0.016801</td>\n",
       "      <td>0.865255</td>\n",
       "    </tr>\n",
       "    <tr>\n",
       "      <th>MANEUVERING</th>\n",
       "      <td>61.844928</td>\n",
       "      <td>0.873429</td>\n",
       "      <td>3.892124</td>\n",
       "      <td>0.582286</td>\n",
       "      <td>0.107263</td>\n",
       "      <td>32.699969</td>\n",
       "    </tr>\n",
       "    <tr>\n",
       "      <th>OTHER</th>\n",
       "      <td>58.163265</td>\n",
       "      <td>2.040816</td>\n",
       "      <td>4.081633</td>\n",
       "      <td>0.000000</td>\n",
       "      <td>0.000000</td>\n",
       "      <td>35.714286</td>\n",
       "    </tr>\n",
       "    <tr>\n",
       "      <th>STANDING</th>\n",
       "      <td>90.660920</td>\n",
       "      <td>3.017241</td>\n",
       "      <td>3.735632</td>\n",
       "      <td>0.000000</td>\n",
       "      <td>0.143678</td>\n",
       "      <td>2.442529</td>\n",
       "    </tr>\n",
       "    <tr>\n",
       "      <th>TAKEOFF</th>\n",
       "      <td>85.802224</td>\n",
       "      <td>0.863781</td>\n",
       "      <td>1.677919</td>\n",
       "      <td>0.685068</td>\n",
       "      <td>0.138999</td>\n",
       "      <td>10.832010</td>\n",
       "    </tr>\n",
       "    <tr>\n",
       "      <th>TAXI</th>\n",
       "      <td>98.491803</td>\n",
       "      <td>0.327869</td>\n",
       "      <td>0.524590</td>\n",
       "      <td>0.131148</td>\n",
       "      <td>0.000000</td>\n",
       "      <td>0.524590</td>\n",
       "    </tr>\n",
       "    <tr>\n",
       "      <th>UNKNOWN</th>\n",
       "      <td>22.388060</td>\n",
       "      <td>0.426439</td>\n",
       "      <td>1.066098</td>\n",
       "      <td>0.426439</td>\n",
       "      <td>0.000000</td>\n",
       "      <td>75.692964</td>\n",
       "    </tr>\n",
       "  </tbody>\n",
       "</table>\n",
       "</div>"
      ],
      "text/plain": [
       "severity_fatal            0.0       1.0       2.0       3.0       4.0  \\\n",
       "BroadPhaseOfFlight                                                      \n",
       "APPROACH            76.522574  1.075889  2.593660  0.864553  0.211335   \n",
       "CLIMB               70.248937  1.275046  2.550091  1.153613  0.182149   \n",
       "CRUISE              72.976896  0.689488  1.717673  0.762066  0.108867   \n",
       "DESCENT             76.007931  0.925314  1.454065  0.660939  0.198282   \n",
       "GO-AROUND           80.708295  1.025163  2.236719  1.304753  0.093197   \n",
       "LANDING             98.303091  0.285618  0.478831  0.050403  0.016801   \n",
       "MANEUVERING         61.844928  0.873429  3.892124  0.582286  0.107263   \n",
       "OTHER               58.163265  2.040816  4.081633  0.000000  0.000000   \n",
       "STANDING            90.660920  3.017241  3.735632  0.000000  0.143678   \n",
       "TAKEOFF             85.802224  0.863781  1.677919  0.685068  0.138999   \n",
       "TAXI                98.491803  0.327869  0.524590  0.131148  0.000000   \n",
       "UNKNOWN             22.388060  0.426439  1.066098  0.426439  0.000000   \n",
       "\n",
       "severity_fatal            5.0  \n",
       "BroadPhaseOfFlight             \n",
       "APPROACH            18.731988  \n",
       "CLIMB               24.590164  \n",
       "CRUISE              23.745010  \n",
       "DESCENT             20.753470  \n",
       "GO-AROUND           14.631873  \n",
       "LANDING              0.865255  \n",
       "MANEUVERING         32.699969  \n",
       "OTHER               35.714286  \n",
       "STANDING             2.442529  \n",
       "TAKEOFF             10.832010  \n",
       "TAXI                 0.524590  \n",
       "UNKNOWN             75.692964  "
      ]
     },
     "execution_count": 253,
     "metadata": {},
     "output_type": "execute_result"
    }
   ],
   "source": [
    "ct = pd.crosstab(df_e.BroadPhaseOfFlight,df_e.severity_fatal).apply(lambda x: x*100/x.sum(),axis=1)\n",
    "ct"
   ]
  },
  {
   "cell_type": "code",
   "execution_count": 254,
   "metadata": {
    "collapsed": false
   },
   "outputs": [
    {
     "data": {
      "text/plain": [
       "<matplotlib.axes._subplots.AxesSubplot at 0xd3aca898>"
      ]
     },
     "execution_count": 254,
     "metadata": {},
     "output_type": "execute_result"
    },
    {
     "data": {
      "image/png": "[encoded data removed]",
      "text/plain": [
       "<matplotlib.figure.Figure at 0xd36f05f8>"
      ]
     },
     "metadata": {},
     "output_type": "display_data"
    }
   ],
   "source": [
    "sns.heatmap(ct)"
   ]
  },
  {
   "cell_type": "code",
   "execution_count": 57,
   "metadata": {
    "collapsed": false,
    "scrolled": true
   },
   "outputs": [
    {
     "data": {
      "text/html": [
       "<div>\n",
       "<table border=\"1\" class=\"dataframe\">\n",
       "  <thead>\n",
       "    <tr style=\"text-align: right;\">\n",
       "      <th>AircraftDamage</th>\n",
       "      <th>Destroyed</th>\n",
       "      <th>Minor</th>\n",
       "      <th>Substantial</th>\n",
       "    </tr>\n",
       "    <tr>\n",
       "      <th>BroadPhaseOfFlight</th>\n",
       "      <th></th>\n",
       "      <th></th>\n",
       "      <th></th>\n",
       "    </tr>\n",
       "  </thead>\n",
       "  <tbody>\n",
       "    <tr>\n",
       "      <th>APPROACH</th>\n",
       "      <td>26.896927</td>\n",
       "      <td>2.719608</td>\n",
       "      <td>70.383465</td>\n",
       "    </tr>\n",
       "    <tr>\n",
       "      <th>CLIMB</th>\n",
       "      <td>37.656100</td>\n",
       "      <td>6.147935</td>\n",
       "      <td>56.195965</td>\n",
       "    </tr>\n",
       "    <tr>\n",
       "      <th>CRUISE</th>\n",
       "      <td>33.554688</td>\n",
       "      <td>2.333984</td>\n",
       "      <td>64.111328</td>\n",
       "    </tr>\n",
       "    <tr>\n",
       "      <th>DESCENT</th>\n",
       "      <td>29.441624</td>\n",
       "      <td>4.111675</td>\n",
       "      <td>66.446701</td>\n",
       "    </tr>\n",
       "    <tr>\n",
       "      <th>GO-AROUND</th>\n",
       "      <td>27.103404</td>\n",
       "      <td>0.963391</td>\n",
       "      <td>71.933205</td>\n",
       "    </tr>\n",
       "    <tr>\n",
       "      <th>LANDING</th>\n",
       "      <td>4.277811</td>\n",
       "      <td>2.426467</td>\n",
       "      <td>93.295722</td>\n",
       "    </tr>\n",
       "    <tr>\n",
       "      <th>MANEUVERING</th>\n",
       "      <td>40.383393</td>\n",
       "      <td>0.709595</td>\n",
       "      <td>58.907011</td>\n",
       "    </tr>\n",
       "    <tr>\n",
       "      <th>OTHER</th>\n",
       "      <td>29.927007</td>\n",
       "      <td>14.598540</td>\n",
       "      <td>55.474453</td>\n",
       "    </tr>\n",
       "    <tr>\n",
       "      <th>STANDING</th>\n",
       "      <td>10.876452</td>\n",
       "      <td>18.585005</td>\n",
       "      <td>70.538543</td>\n",
       "    </tr>\n",
       "    <tr>\n",
       "      <th>TAKEOFF</th>\n",
       "      <td>20.608480</td>\n",
       "      <td>2.264593</td>\n",
       "      <td>77.126927</td>\n",
       "    </tr>\n",
       "    <tr>\n",
       "      <th>TAXI</th>\n",
       "      <td>3.117729</td>\n",
       "      <td>13.494649</td>\n",
       "      <td>83.387622</td>\n",
       "    </tr>\n",
       "    <tr>\n",
       "      <th>UNKNOWN</th>\n",
       "      <td>67.051071</td>\n",
       "      <td>1.976936</td>\n",
       "      <td>30.971993</td>\n",
       "    </tr>\n",
       "  </tbody>\n",
       "</table>\n",
       "</div>"
      ],
      "text/plain": [
       "AircraftDamage      Destroyed      Minor  Substantial\n",
       "BroadPhaseOfFlight                                   \n",
       "APPROACH            26.896927   2.719608    70.383465\n",
       "CLIMB               37.656100   6.147935    56.195965\n",
       "CRUISE              33.554688   2.333984    64.111328\n",
       "DESCENT             29.441624   4.111675    66.446701\n",
       "GO-AROUND           27.103404   0.963391    71.933205\n",
       "LANDING              4.277811   2.426467    93.295722\n",
       "MANEUVERING         40.383393   0.709595    58.907011\n",
       "OTHER               29.927007  14.598540    55.474453\n",
       "STANDING            10.876452  18.585005    70.538543\n",
       "TAKEOFF             20.608480   2.264593    77.126927\n",
       "TAXI                 3.117729  13.494649    83.387622\n",
       "UNKNOWN             67.051071   1.976936    30.971993"
      ]
     },
     "execution_count": 57,
     "metadata": {},
     "output_type": "execute_result"
    }
   ],
   "source": [
    "ct = pd.crosstab(df_e.BroadPhaseOfFlight,df_e.AircraftDamage).apply(lambda x: x / x.sum()*100, axis=1)\n",
    "ct"
   ]
  },
  {
   "cell_type": "code",
   "execution_count": 58,
   "metadata": {
    "collapsed": false
   },
   "outputs": [
    {
     "data": {
      "text/plain": [
       "<matplotlib.axes._subplots.AxesSubplot at 0x1d674940>"
      ]
     },
     "execution_count": 58,
     "metadata": {},
     "output_type": "execute_result"
    },
    {
     "data": {
      "image/png": "[encoded data removed]",
      "text/plain": [
       "<matplotlib.figure.Figure at 0x1f115da0>"
      ]
     },
     "metadata": {},
     "output_type": "display_data"
    }
   ],
   "source": [
    "sns.heatmap(ct)"
   ]
  },
  {
   "cell_type": "code",
   "execution_count": 269,
   "metadata": {
    "collapsed": false
   },
   "outputs": [
    {
     "data": {
      "text/html": [
       "<div>\n",
       "<table border=\"1\" class=\"dataframe\">\n",
       "  <thead>\n",
       "    <tr style=\"text-align: right;\">\n",
       "      <th>severity_fatal</th>\n",
       "      <th>0.0</th>\n",
       "      <th>1.0</th>\n",
       "      <th>2.0</th>\n",
       "      <th>3.0</th>\n",
       "      <th>4.0</th>\n",
       "      <th>5.0</th>\n",
       "    </tr>\n",
       "    <tr>\n",
       "      <th>AircraftDamage</th>\n",
       "      <th></th>\n",
       "      <th></th>\n",
       "      <th></th>\n",
       "      <th></th>\n",
       "      <th></th>\n",
       "      <th></th>\n",
       "    </tr>\n",
       "  </thead>\n",
       "  <tbody>\n",
       "    <tr>\n",
       "      <th>Destroyed</th>\n",
       "      <td>37.350225</td>\n",
       "      <td>1.923224</td>\n",
       "      <td>4.548577</td>\n",
       "      <td>1.816378</td>\n",
       "      <td>0.442647</td>\n",
       "      <td>53.918950</td>\n",
       "    </tr>\n",
       "    <tr>\n",
       "      <th>Minor</th>\n",
       "      <td>95.839210</td>\n",
       "      <td>1.198872</td>\n",
       "      <td>2.397743</td>\n",
       "      <td>0.211566</td>\n",
       "      <td>0.000000</td>\n",
       "      <td>0.352609</td>\n",
       "    </tr>\n",
       "    <tr>\n",
       "      <th>Substantial</th>\n",
       "      <td>96.646235</td>\n",
       "      <td>0.283129</td>\n",
       "      <td>0.753065</td>\n",
       "      <td>0.134267</td>\n",
       "      <td>0.011675</td>\n",
       "      <td>2.171629</td>\n",
       "    </tr>\n",
       "  </tbody>\n",
       "</table>\n",
       "</div>"
      ],
      "text/plain": [
       "severity_fatal        0.0       1.0       2.0       3.0       4.0        5.0\n",
       "AircraftDamage                                                              \n",
       "Destroyed       37.350225  1.923224  4.548577  1.816378  0.442647  53.918950\n",
       "Minor           95.839210  1.198872  2.397743  0.211566  0.000000   0.352609\n",
       "Substantial     96.646235  0.283129  0.753065  0.134267  0.011675   2.171629"
      ]
     },
     "execution_count": 269,
     "metadata": {},
     "output_type": "execute_result"
    }
   ],
   "source": [
    "ct = pd.crosstab(df_e.AircraftDamage,df_e.severity_fatal).apply(lambda x: x / x.sum()*100, axis=1)\n",
    "ct"
   ]
  }
 ],
 "metadata": {
  "kernelspec": {
   "display_name": "Python 2",
   "language": "python",
   "name": "python2"
  },
  "language_info": {
   "codemirror_mode": {
    "name": "ipython",
    "version": 2
   },
   "file_extension": ".py",
   "mimetype": "text/x-python",
   "name": "python",
   "nbconvert_exporter": "python",
   "pygments_lexer": "ipython2",
   "version": "2.7.12"
  }
 },
 "nbformat": 4,
 "nbformat_minor": 0
}
